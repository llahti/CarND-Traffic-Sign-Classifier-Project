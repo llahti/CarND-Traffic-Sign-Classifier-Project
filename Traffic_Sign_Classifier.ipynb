{
 "cells": [
  {
   "cell_type": "markdown",
   "metadata": {
    "deletable": true,
    "editable": true
   },
   "source": [
    "# Self-Driving Car Engineer Nanodegree\n",
    "\n",
    "## Deep Learning\n",
    "\n",
    "## Project: Build a Traffic Sign Recognition Classifier\n",
    "\n",
    "In this notebook, a template is provided for you to implement your functionality in stages, which is required to successfully complete this project. If additional code is required that cannot be included in the notebook, be sure that the Python code is successfully imported and included in your submission if necessary. \n",
    "\n",
    "> **Note**: Once you have completed all of the code implementations, you need to finalize your work by exporting the iPython Notebook as an HTML document. Before exporting the notebook to html, all of the code cells need to have been run so that reviewers can see the final implementation and output. You can then export the notebook by using the menu above and navigating to  \\n\",\n",
    "    \"**File -> Download as -> HTML (.html)**. Include the finished document along with this notebook as your submission. \n",
    "\n",
    "In addition to implementing code, there is a writeup to complete. The writeup should be completed in a separate file, which can be either a markdown file or a pdf document. There is a [write up template](https://github.com/udacity/CarND-Traffic-Sign-Classifier-Project/blob/master/writeup_template.md) that can be used to guide the writing process. Completing the code template and writeup template will cover all of the [rubric points](https://review.udacity.com/#!/rubrics/481/view) for this project.\n",
    "\n",
    "The [rubric](https://review.udacity.com/#!/rubrics/481/view) contains \"Stand Out Suggestions\" for enhancing the project beyond the minimum requirements. The stand out suggestions are optional. If you decide to pursue the \"stand out suggestions\", you can include the code in this Ipython notebook and also discuss the results in the writeup file.\n",
    "\n",
    "\n",
    ">**Note:** Code and Markdown cells can be executed using the **Shift + Enter** keyboard shortcut. In addition, Markdown cells can be edited by typically double-clicking the cell to enter edit mode."
   ]
  },
  {
   "cell_type": "markdown",
   "metadata": {
    "deletable": true,
    "editable": true
   },
   "source": [
    "---\n",
    "## Step 0: Load The Data"
   ]
  },
  {
   "cell_type": "code",
   "execution_count": 1,
   "metadata": {
    "collapsed": false,
    "deletable": true,
    "editable": true
   },
   "outputs": [
    {
     "name": "stdout",
     "output_type": "stream",
     "text": [
      "Data loaded successfully\n"
     ]
    }
   ],
   "source": [
    "# Load pickled data\n",
    "import pickle\n",
    "\n",
    "# Folder to store training testing data\n",
    "data_path = \"./data/\"\n",
    "\n",
    "training_file = data_path + \"train.p\"\n",
    "validation_file = data_path + \"valid.p\"\n",
    "testing_file = data_path + \"test.p\"\n",
    "\n",
    "with open(training_file, mode='rb') as f:\n",
    "    train = pickle.load(f)\n",
    "with open(validation_file, mode='rb') as f:\n",
    "    valid = pickle.load(f)\n",
    "with open(testing_file, mode='rb') as f:\n",
    "    test = pickle.load(f)\n",
    "\n",
    "X_train, y_train = train['features'], train['labels']\n",
    "X_valid, y_valid = valid['features'], valid['labels']\n",
    "X_test, y_test = test['features'], test['labels']\n",
    "\n",
    "# Use assert to inform us if X and y have different length\n",
    "# (Quantity of data points)\n",
    "assert(len(X_train) == len(y_train))\n",
    "assert(len(X_valid) == len(y_valid))\n",
    "assert(len(X_test) == len(y_test))\n",
    "print(\"Data loaded successfully\")\n"
   ]
  },
  {
   "cell_type": "markdown",
   "metadata": {
    "deletable": true,
    "editable": true
   },
   "source": [
    "---\n",
    "\n",
    "## Step 1: Dataset Summary & Exploration\n",
    "\n",
    "The pickled data is a dictionary with 4 key/value pairs:\n",
    "\n",
    "- `'features'` is a 4D array containing raw pixel data of the traffic sign images, (num examples, width, height, channels).\n",
    "- `'labels'` is a 1D array containing the label/class id of the traffic sign. The file `signnames.csv` contains id -> name mappings for each id.\n",
    "- `'sizes'` is a list containing tuples, (width, height) representing the original width and height the image.\n",
    "- `'coords'` is a list containing tuples, (x1, y1, x2, y2) representing coordinates of a bounding box around the sign in the image. **THESE COORDINATES ASSUME THE ORIGINAL IMAGE. THE PICKLED DATA CONTAINS RESIZED VERSIONS (32 by 32) OF THESE IMAGES**\n",
    "\n",
    "Complete the basic data summary below. Use python, numpy and/or pandas methods to calculate the data summary rather than hard coding the results. For example, the [pandas shape method](http://pandas.pydata.org/pandas-docs/stable/generated/pandas.DataFrame.shape.html) might be useful for calculating some of the summary results. "
   ]
  },
  {
   "cell_type": "markdown",
   "metadata": {
    "deletable": true,
    "editable": true
   },
   "source": [
    "### Provide a Basic Summary of the Data Set Using Python, Numpy and/or Pandas"
   ]
  },
  {
   "cell_type": "code",
   "execution_count": 2,
   "metadata": {
    "collapsed": false,
    "deletable": true,
    "editable": true
   },
   "outputs": [
    {
     "name": "stdout",
     "output_type": "stream",
     "text": [
      "Data set statistics\n",
      "Number of training examples = 34799\n",
      "Number of testing examples = 12630\n",
      "Image data shape = (32, 32, 3)\n",
      "Number of classes = 43\n"
     ]
    }
   ],
   "source": [
    "# Replace each question mark with the appropriate value.\n",
    "# Use python, pandas or numpy methods rather than hard coding the results\n",
    "import pandas as pd\n",
    "\n",
    "# Number of training examples\n",
    "n_train = len(X_train)\n",
    "\n",
    "# Number of testing examples.\n",
    "n_test = len(X_test)\n",
    "\n",
    "# What's the shape of an traffic sign image?\n",
    "image_shape = X_train[0].shape\n",
    "\n",
    "# How many unique classes/labels there are in the dataset.\n",
    "# Use pandas to get unique labels from y_train\n",
    "\n",
    "df = pd.DataFrame({'label': y_train})\n",
    "n_classes = len(pd.unique(df.label))\n",
    "\n",
    "print(\"Data set statistics\")\n",
    "print(\"Number of training examples =\", n_train)\n",
    "print(\"Number of testing examples =\", n_test)\n",
    "print(\"Image data shape =\", image_shape)\n",
    "print(\"Number of classes =\", n_classes)"
   ]
  },
  {
   "cell_type": "markdown",
   "metadata": {
    "deletable": true,
    "editable": true
   },
   "source": [
    "### Include an exploratory visualization of the dataset"
   ]
  },
  {
   "cell_type": "markdown",
   "metadata": {
    "deletable": true,
    "editable": true
   },
   "source": [
    "Visualize the German Traffic Signs Dataset using the pickled file(s). This is open ended, suggestions include: plotting traffic sign images, plotting the count of each sign, etc.\n",
    "\n",
    "The [Matplotlib](http://matplotlib.org/) [examples](http://matplotlib.org/examples/index.html) and [gallery](http://matplotlib.org/gallery.html) pages are a great resource for doing visualizations in Python.\n",
    "\n",
    "**NOTE:** It's recommended you start with something simple first. If you wish to do more, come back to it after you've completed the rest of the sections."
   ]
  },
  {
   "cell_type": "code",
   "execution_count": 3,
   "metadata": {
    "collapsed": false,
    "deletable": true,
    "editable": true
   },
   "outputs": [
    {
     "name": "stdout",
     "output_type": "stream",
     "text": [
      "Below are samples from the training set.\n"
     ]
    },
    {
     "data": {
      "image/png": "[encoded data removed]",
      "text/plain": [
       "<matplotlib.figure.Figure at 0x7f66988cd358>"
      ]
     },
     "metadata": {},
     "output_type": "display_data"
    }
   ],
   "source": [
    "# Data exploration visualization code goes here.\n",
    "# Feel free to use as many code cells as needed.\n",
    "import matplotlib.pyplot as plt\n",
    "import random\n",
    "\n",
    "# Visualizations will be shown in the notebook.\n",
    "%matplotlib inline\n",
    "\n",
    "# Initialize random number generator to generate always same set of samples\n",
    "random.seed(a=1234)\n",
    "number_of_samples = 20\n",
    "\n",
    "# Here we generate list of random indexes which is used to pick up samples to\n",
    "sample_indices = [random.randint(0, len(X_train)) for i in range(number_of_samples)]\n",
    "\n",
    "print(\"Below are samples from the training set.\")\n",
    "\n",
    "\n",
    "def show_samples(indices, images, labels, cmap='gray'):\n",
    "    \"\"\"This functions shows sample images.\"\"\"\n",
    "    fig = plt.figure(figsize=(10, 8))\n",
    "    # i = is loop index; idx is sample index from \"sample_indices\"\n",
    "    for i, idx in enumerate(indices):\n",
    "        image = images[idx]\n",
    "        a = fig.add_subplot(5, 5, i+1)\n",
    "        plt.imshow(image, cmap=cmap)\n",
    "        a.set_title(\"index: \" + str(idx) + \"\\nclass: \" + str(labels[idx]))\n",
    "    fig.tight_layout(w_pad=0.3, h_pad=0.5)\n",
    "\n",
    "show_samples(sample_indices, X_train, y_train)\n"
   ]
  },
  {
   "cell_type": "markdown",
   "metadata": {
    "deletable": true,
    "editable": true
   },
   "source": [
    "----\n",
    "\n",
    "## Step 2: Design and Test a Model Architecture\n",
    "\n",
    "Design and implement a deep learning model that learns to recognize traffic signs. Train and test your model on the [German Traffic Sign Dataset](http://benchmark.ini.rub.de/?section=gtsrb&subsection=dataset).\n",
    "\n",
    "The LeNet-5 implementation shown in the [classroom](https://classroom.udacity.com/nanodegrees/nd013/parts/fbf77062-5703-404e-b60c-95b78b2f3f9e/modules/6df7ae49-c61c-4bb2-a23e-6527e69209ec/lessons/601ae704-1035-4287-8b11-e2c2716217ad/concepts/d4aca031-508f-4e0b-b493-e7b706120f81) at the end of the CNN lesson is a solid starting point. You'll have to change the number of classes and possibly the preprocessing, but aside from that it's plug and play! \n",
    "\n",
    "With the LeNet-5 solution from the lecture, you should expect a validation set accuracy of about 0.89. To meet specifications, the validation set accuracy will need to be at least 0.93. It is possible to get an even higher accuracy, but 0.93 is the minimum for a successful project submission. \n",
    "\n",
    "There are various aspects to consider when thinking about this problem:\n",
    "\n",
    "- Neural network architecture (is the network over or underfitting?)\n",
    "- Play around preprocessing techniques (normalization, rgb to grayscale, etc)\n",
    "- Number of examples per label (some have more than others).\n",
    "- Generate fake data.\n",
    "\n",
    "Here is an example of a [published baseline model on this problem](http://yann.lecun.com/exdb/publis/pdf/sermanet-ijcnn-11.pdf). It's not required to be familiar with the approach used in the paper but, it's good practice to try to read papers like these."
   ]
  },
  {
   "cell_type": "markdown",
   "metadata": {
    "deletable": true,
    "editable": true
   },
   "source": [
    "### Pre-process the Data Set (normalization, grayscale, etc.)"
   ]
  },
  {
   "cell_type": "markdown",
   "metadata": {
    "deletable": true,
    "editable": true
   },
   "source": [
    "Use the code cell (or multiple code cells, if necessary) to implement the first step of your project."
   ]
  },
  {
   "cell_type": "code",
   "execution_count": 4,
   "metadata": {
    "collapsed": false,
    "deletable": true,
    "editable": true
   },
   "outputs": [],
   "source": [
    "# Preprocess the data here. Preprocessing steps could include \n",
    "# normalization, converting to grayscale, etc.\n",
    "\n",
    "import numpy as np\n",
    "\n",
    "def preprocess_normalize(x):\n",
    "    \"\"\"\n",
    "    1. Adjust mean to zero\n",
    "    2. adjust range to -1...1\n",
    "    \"\"\"\n",
    "    mean = np.mean(x)\n",
    "    new_x = np.subtract(x, mean)\n",
    "    maximum = np.amax(new_x)\n",
    "    minimum = np.amin(new_x)\n",
    "    abs_max = np.amax(np.abs([minimum, maximum]))\n",
    "    return np.divide(new_x, abs_max)\n",
    "\n",
    "\n",
    "def preprocess_tensor_grayscale(tensor_4d):\n",
    "    \"\"\"\n",
    "    This function makes simple RGB to grayscale conversion by calculating\n",
    "    mean of color channels.\n",
    "    \"\"\"\n",
    "    # TODO: replace below array sum and division operations with np.mean()\n",
    "    # 0.0 in beginning is for changing data type to float\n",
    "    X = (0.0 + tensor_4d[:, :, :, 0]\n",
    "            + tensor_4d[:, :, :, 1]\n",
    "            + tensor_4d[:, :, :, 2])\n",
    "    X = X / 3.\n",
    "    X = X.reshape(X.shape + (1,))\n",
    "    return X\n",
    "\n",
    "def preprocess_tensor_adjust_mean(tensor_4d):\n",
    "    \"\"\"\n",
    "    This functions adjusts image mean to very near zero.\n",
    "    @params\n",
    "    @x is 4D tensor\n",
    "    @returns 4D tensor where individual images are adjusted to have zero mean\n",
    "    \"\"\"\n",
    "    # Calculate mean and reshape result array to shape (50, 1)\n",
    "    mean = np.mean(tensor_4d, axis=(1, 2, 3))\n",
    "    mean = mean.reshape(mean.shape + (1, ))\n",
    "    # This is needed when we convert array back to it's original shape\n",
    "    original_shape = tensor_4d.shape\n",
    "    # Modify array shape so that we get shape which is (N, img_x*img_y)\n",
    "    # i.ie input shape is (50,32,32,1) then we convert it to (50, 1024)\n",
    "    # This will make it easier to apply following subtract operations on array\n",
    "    X = np.reshape(tensor_4d, (original_shape[0], original_shape[1]**2))\n",
    "    # Finally we can subtract mean from array to adjust\n",
    "    # it's mean very near to zero\n",
    "    X = np.subtract(X[:], mean)\n",
    "    # Convert array shape (N, (img_x*img_y)) back to original tensor shape\n",
    "    X = X.reshape(original_shape)\n",
    "    return X\n",
    "\n",
    "def preprocess_tensor_adjust_range(tensor_4d):\n",
    "    \"\"\"\n",
    "    This functions adjusts the range of image to -1...1\n",
    "    input is 4d tensor which is already adjusted to zero mean.\n",
    "    returns 4d sensor where images maximum range is limited to -1...1\n",
    "    \"\"\"\n",
    "    # Record tensor's original shape. It is needed when we convert array \n",
    "    # back to it's original shape\n",
    "    original_shape = tensor_4d.shape\n",
    "    # Modify array shape so that we get shape which is (N, img_x*img_y)\n",
    "    # i.ie input shape is (50,32,32,1) then we convert it to (50, 1024)\n",
    "    # This will make it easier to apply following subtract operations on array\n",
    "    reshaped = np.reshape(tensor_4d, (original_shape[0], original_shape[1]**2))\n",
    "    # Find absolute maximum of each image\n",
    "    maximum = np.amax(reshaped, axis=1, keepdims=True)\n",
    "    minimum = np.amin(reshaped, axis=1, keepdims=True)\n",
    "    abs_max = np.amax((np.abs(maximum), np.abs(minimum)), axis=0)\n",
    "    # Adjust range to -1...1\n",
    "    reshaped = reshaped / abs_max\n",
    "    # Convert array shape (N, (img_x*img_y)) back to original tensor shape\n",
    "    reshaped = reshaped.reshape(original_shape)\n",
    "    return reshaped\n",
    "    \n",
    "\n",
    "def preprocess_tensor(tensor_4d):\n",
    "    \"\"\"\n",
    "    This function preprocesses image tensor.\n",
    "    1. convert RGB to grayscale\n",
    "    2. Adjust mean to zero\n",
    "    3. Limit range to -1...1\n",
    "    \"\"\"\n",
    "    # Do simple grayscale conversion, first sum all values together\n",
    "    tensor_4d = preprocess_tensor_grayscale(tensor_4d)\n",
    "    tensor_4d = preprocess_tensor_adjust_mean(tensor_4d)\n",
    "    tensor_4d = preprocess_tensor_adjust_range(tensor_4d)\n",
    "    return tensor_4d\n"
   ]
  },
  {
   "cell_type": "markdown",
   "metadata": {},
   "source": [
    "## Data augmentation\n",
    "\n",
    "Even though there are plenty of training data available in order to prevent over fitting and traing model to generalize better.\n",
    "\n",
    "### Rotation\n",
    "\n",
    "First step in data augmentation is to rotate images by: -20, -10, 10 and 20 degrees and then add these 4 additional images to training set besides the original.\n",
    "\n",
    "<figure>\n",
    " <img src=\"./illustrations/data_rotation.png\" width=\"380\" alt=\"Data augmentation by rotating\" />\n",
    " <figcaption>\n",
    " <p></p> \n",
    " <p style=\"text-align: center;\"> Data is first rotated </p> \n",
    " </figcaption>\n",
    "</figure>\n",
    " <p></p> \n",
    "\n",
    "### Shifting\n",
    "\n",
    "Next step is to shift images 5 pixels into each directions.\n",
    "\n",
    "<figure>\n",
    " <img src=\"./illustrations/data_augmentation_shift.png\" width=\"380\" alt=\"Data augmentation by shifting\" />\n",
    " <figcaption>\n",
    " <p></p> \n",
    " <p style=\"text-align: center;\">Images are shifted by 5 pixels</p> \n",
    " </figcaption>\n",
    "</figure>\n",
    " <p></p> "
   ]
  },
  {
   "cell_type": "code",
   "execution_count": 5,
   "metadata": {
    "collapsed": false,
    "deletable": true,
    "editable": true
   },
   "outputs": [],
   "source": [
    "### Data augmentation \n",
    "import numpy as np\n",
    "from scipy import ndimage\n",
    "# For progress bar\n",
    "from ipywidgets import FloatProgress, Text\n",
    "from IPython.display import display\n",
    "\n",
    "\n",
    "# Define whether we load augmented images from pickle file, This saves several minutes\n",
    "GENERATE_AUGMENTED_DATA = False\n",
    "\n",
    "    \n",
    "def augment_data(x, y, progressbar):\n",
    "    \"\"\"\n",
    "    This function augments training data by doing following transformations\n",
    "    - Rotate image -20, -10, +10, +20 degrees\n",
    "    - Shift image 5 pixels in 8 directions\n",
    "    \n",
    "    WARNING! it'll take long time to run this function with data sets more than few hundred samples. \n",
    "    TODO: Optimize data augmentation\n",
    "    \"\"\"\n",
    "    x_rotated, y_rotated = [], []\n",
    "    xy_shifts = [( 0, 0,0), ( 0,-5,0), ( 0,5,0), \n",
    "                 (-5,-5,0), (-5, 0,0), (-5,5,0), \n",
    "                 ( 5,-5,0), ( 5, 0,0), ( 5,5,0)]\n",
    "    rotations = [-20, -10, 0, 10, 20]\n",
    "    nsamples = len(x)\n",
    "    progressbar.max = nsamples * len(rotations)\n",
    "    progressbar.description = \"Rotating\"\n",
    "    for image, label in zip(x[:nsamples], y[:nsamples]):\n",
    "        for degree in rotations:\n",
    "            #image_array.append(rotate_image(image, degree))\n",
    "            x_rotated.append(ndimage.rotate(image, degree, reshape=False))\n",
    "            y_rotated.append(label)\n",
    "            progressbar.value += 1\n",
    "    x_shifted, y_shifted = [], [] \n",
    "    progressbar.max = len(x_rotated) * len(xy_shifts)\n",
    "    progressbar.value = 0\n",
    "    progressbar.description = \"Shifting\"\n",
    "    for image, label in zip(x_rotated, y_rotated):\n",
    "        for shift in xy_shifts:\n",
    "            shifted = ndimage.shift(image, shift, mode='nearest')\n",
    "            x_shifted.append(shifted)\n",
    "            y_shifted.append(label)\n",
    "            progressbar.value += 1\n",
    "    progressbar.description = \"Done\"\n",
    "    return np.array(x_shifted), np.array(y_shifted)\n",
    "    \n",
    "if GENERATE_AUGMENTED_DATA:\n",
    "    progressbar = FloatProgress(min=0)\n",
    "    display(progressbar)\n",
    "    X_train_augmented, y_train_augmented = augment_data(X_train, y_train, progressbar)\n",
    "    show_samples(range(2000,2025), X_train_augmented, y_train_augmented, cmap='gray')\n",
    "\n",
    "    progressbar.description = \"Saving\"\n",
    "    with open(\"./data/augmented_training_data.pickle\", \"wb\") as f:\n",
    "        data_dict = {}\n",
    "        data_dict[\"X_train\"] = X_train_augmented\n",
    "        data_dict[\"y_train\"] = y_train_augmented\n",
    "        pickle.dump(data_dict, f, pickle.HIGHEST_PROTOCOL)\n",
    "    \n",
    "    progressbar.description = \"Done\"\n",
    "    # Temporarily free memory, later augmented data is loaded from file\n",
    "    X_train_augmented, y_train_augmented = None, None"
   ]
  },
  {
   "cell_type": "markdown",
   "metadata": {
    "deletable": true,
    "editable": true
   },
   "source": [
    "### Model Architecture\n",
    "\n",
    "Model consist to deep neural network where are 6 convolutional layers and 4 fully connected layers"
   ]
  },
  {
   "cell_type": "code",
   "execution_count": 6,
   "metadata": {
    "collapsed": false,
    "deletable": true,
    "editable": true
   },
   "outputs": [],
   "source": [
    "### Define your architecture here.\n",
    "### Feel free to use as many code cells as needed.\n",
    "\n",
    "import tensorflow as tf\n",
    "from tensorflow.contrib.layers import flatten\n",
    "\n",
    "\n",
    "#Define dropout rate\n",
    "keep_prob = tf.placeholder(tf.float32, name=\"keep_prob\")\n",
    "# Learning rate decay\n",
    "global_step = tf.Variable(0, trainable=False, name=\"global_step\")\n",
    "starter_learning_rate = 0.0005\n",
    "learning_rate = tf.train.exponential_decay(starter_learning_rate, global_step,\n",
    "                                          100000, 0.90, staircase=True, name=\"learning_rate_decay\")\n",
    "# Features and labels\n",
    "x = tf.placeholder(tf.float32, (None, 32, 32, 1), name=\"x\")\n",
    "y = tf.placeholder(tf.int32, (None), name=\"y\")\n",
    "\n",
    "def LareNet_6(x):\n",
    "    \"\"\"\n",
    "    2017.02.14:\n",
    "    Best result achieved with this model were\n",
    "        - Training Accuracy = 0.996\n",
    "        - Validation Accuracy = 0.976\n",
    "        - Test Accuracy = 0.953\n",
    "        \n",
    "    This model uses batch normalization for input tensor.\n",
    "    \n",
    "    \"\"\"\n",
    "    # Batch normalization\n",
    "    #x_mean, x_variance = tf.nn.moments(x,[0])\n",
    "    #x_scale = tf.Variable(tf.ones([3]))\n",
    "    #x_offset = tf.Variable(tf.zeros([3]))\n",
    "    #x_variance_epsilon = 1e-5\n",
    "    #x_normalized = tf.nn.batch_normalization(x, x_mean, x_variance, x_offset, x_scale, variance_epsilon=x_variance_epsilon)\n",
    "    \n",
    "    # Arguments used for tf.truncated_normal, randomly defines variables for the weights and biases for each layer\n",
    "    mu = 0\n",
    "    sigma = 0.1\n",
    "    \n",
    "    # Layer 1: Convolutional. Input = 32x32x1. Output = 30x30x10. (3 channels x 3 = 9)\n",
    "    #          Each color channel is individually filtered 3 times\n",
    "    conv1_W = tf.Variable(tf.truncated_normal(shape=(3,3,1,10), mean = mu, stddev=sigma), name=\"L1_conv1_W\")\n",
    "    conv1_b = tf.Variable(tf.zeros(10), name=\"L1_conv1_b\")\n",
    "    conv1   = tf.nn.conv2d(x, conv1_W, strides=[1,1,1,1], padding='VALID', name=\"L1_conv1\") + conv1_b\n",
    "    # Activation.\n",
    "    conv1 = tf.nn.relu(conv1, name=\"L1_activation\")\n",
    "    # Pooling. Input = 30x30x10. Output = 15x15x10.\n",
    "    conv1 = tf.nn.max_pool(conv1, ksize=[1,2,2,1], strides=[1,2,2,1], padding='VALID', name=\"L1_pooling\")\n",
    "    \n",
    "    \n",
    "    # Layer 2: Convolutional. Input = 15x15x10, Output = 13x13x20.\n",
    "    conv2_W = tf.Variable(tf.truncated_normal(shape=(3,3,10,20), mean = mu, stddev = sigma), name=\"L2_conv2_W\")\n",
    "    conv2_b = tf.Variable(tf.zeros(20), , name=\"L2_conv2_b\")\n",
    "    conv2   = tf.nn.conv2d(conv1, conv2_W, strides=[1,1,1,1], padding='VALID', , name=\"L2_conv2\") + conv2_b\n",
    "    # Activation.\n",
    "    conv2 = tf.nn.relu(conv2, name=\"L2_activation\")\n",
    "    \n",
    "    \n",
    "    # Layer 3: Convolutional. Input = 13x13x15, Output = 11x11x64.\n",
    "    conv3_W = tf.Variable(tf.truncated_normal(shape=(3,3,20,32), mean = mu, stddev = sigma))\n",
    "    conv3_b = tf.Variable(tf.zeros(32))\n",
    "    conv3   = tf.nn.conv2d(conv2, conv3_W, strides=[1,1,1,1], padding='VALID') + conv3_b\n",
    "    # Activation.\n",
    "    conv3 = tf.nn.relu(conv3)\n",
    "    \n",
    "    \n",
    "    # Layer 4: Convolutional. Input = 11x11x32, Output = 9x9x48.\n",
    "    conv4_W = tf.Variable(tf.truncated_normal(shape=(3,3,32,48), mean = mu, stddev = sigma))\n",
    "    conv4_b = tf.Variable(tf.zeros(48))\n",
    "    conv4   = tf.nn.conv2d(conv3, conv4_W, strides=[1,1,1,1], padding='VALID') + conv4_b\n",
    "    # Activation.\n",
    "    conv4 = tf.nn.relu(conv4)\n",
    "    \n",
    "    \n",
    "    # Layer 5: Convolutional. Input = 9x9x64, Output = 7x7x96.\n",
    "    # Layer 5: Convolutional. Input = 9x9x64, Output = 7x7x64.\n",
    "    conv5_W = tf.Variable(tf.truncated_normal(shape=(3,3,48,64), mean = mu, stddev = sigma))\n",
    "    conv5_b = tf.Variable(tf.zeros(64))\n",
    "    conv5   = tf.nn.conv2d(conv4, conv5_W, strides=[1,1,1,1], padding='VALID') + conv5_b\n",
    "    # Activation.\n",
    "    conv5 = tf.nn.relu(conv5)\n",
    "    \n",
    "    \n",
    "    # Layer 6: Convolutional. Input = 7x7x64, Output = 5x5x128.\n",
    "    conv6_W = tf.Variable(tf.truncated_normal(shape=(3,3,64,128), mean = mu, stddev = sigma))\n",
    "    conv6_b = tf.Variable(tf.zeros(128))\n",
    "    conv6   = tf.nn.conv2d(conv5, conv6_W, strides=[1,1,1,1], padding='VALID') + conv6_b\n",
    "    # Activation.\n",
    "    conv6 = tf.nn.relu(conv6)\n",
    "    \n",
    "    \n",
    "    # Flatten. Input = 5x5x96. Output = 3200.\n",
    "    fc0 = flatten(conv6)\n",
    "    # Dropout for fully connected layer\n",
    "    fc0_drop = tf.nn.dropout(fc0, keep_prob)\n",
    "    \n",
    "    # Layer 6: Fully Connected. Input = 3200. Output = 1024.\n",
    "    fc1_W = tf.Variable(tf.truncated_normal(shape=(3200,1024), mean = mu, stddev = sigma))\n",
    "    fc1_b = tf.Variable(tf.zeros(1024))\n",
    "    fc1   = tf.matmul(fc0_drop, fc1_W) + fc1_b\n",
    "    # Activation.\n",
    "    fc1 = tf.nn.relu(fc1)\n",
    "    #fc1 = tf.nn.sigmoid(fc1)\n",
    "    # Dropout for fully connected layer\n",
    "    fc1_drop = tf.nn.dropout(fc1, keep_prob)\n",
    "\n",
    "    \n",
    "    # Layer 7: Fully Connected. Input = 1024. Output = 512.\n",
    "    fc2_W = tf.Variable(tf.truncated_normal(shape=(1024,512), mean = mu, stddev = sigma))\n",
    "    fc2_b = tf.Variable(tf.zeros(512))\n",
    "    fc2   = tf.matmul(fc1_drop, fc2_W) + fc2_b\n",
    "    # Activation.\n",
    "    fc2 = tf.nn.relu(fc2)\n",
    "    # Dropout for fully connected layer\n",
    "    fc2_drop = tf.nn.dropout(fc2, keep_prob)\n",
    "\n",
    "    \n",
    "    # Layer 8: Fully Connected. Input = 512. Output = 43.\n",
    "    # n_classes is Number of traffic sign classes\n",
    "    fc3_W = tf.Variable(tf.truncated_normal(shape=(512, n_classes), mean = mu, stddev = sigma))\n",
    "    fc3_b = tf.Variable(tf.zeros(n_classes))\n",
    "    logits = tf.matmul(fc2_drop, fc3_W) + fc3_b\n",
    "    return logits\n"
   ]
  },
  {
   "cell_type": "code",
   "execution_count": 7,
   "metadata": {
    "collapsed": false
   },
   "outputs": [],
   "source": [
    "# n_classes is Number of traffic sign classes\n",
    "one_hot_y = tf.one_hot(y, n_classes, name=\"one_hot_y\")\n",
    "\n",
    "# Training pipeline\n",
    "logits = LareNet_6(x)\n",
    "cross_entropy = tf.nn.softmax_cross_entropy_with_logits(logits=logits, labels=one_hot_y, name=\"cross_entropy\")\n",
    "loss_operation = tf.reduce_mean(cross_entropy, name=\"loss_operation\")\n",
    "optimizer = tf.train.AdamOptimizer(learning_rate = learning_rate, name=\"optimizer\")\n",
    "training_operation = optimizer.minimize(loss_operation, global_step=global_step, name=\"training_operation\")\n"
   ]
  },
  {
   "cell_type": "code",
   "execution_count": 8,
   "metadata": {
    "collapsed": true
   },
   "outputs": [],
   "source": [
    "# Model evaluation\n",
    "correct_prediction = tf.equal(tf.argmax(logits, 1), tf.argmax(one_hot_y, 1), name=\"correct_prediction\")\n",
    "accuracy_operation = tf.reduce_mean(tf.cast(correct_prediction, tf.float32), name=\"accuracy_operation\")\n",
    "\n",
    "\n",
    "def evaluate(X_data, y_data):\n",
    "    num_examples = len(X_data)\n",
    "    total_accuracy = 0\n",
    "    sess = tf.get_default_session()\n",
    "    for offset in range(0, num_examples, BATCH_SIZE):\n",
    "        batch_x, batch_y = X_data[offset:offset+BATCH_SIZE], y_data[offset:offset+BATCH_SIZE]\n",
    "        accuracy = sess.run(accuracy_operation, feed_dict={x: batch_x, y: batch_y, keep_prob:1.0})\n",
    "        total_accuracy += (accuracy * len(batch_x))\n",
    "    return total_accuracy / num_examples"
   ]
  },
  {
   "cell_type": "markdown",
   "metadata": {
    "deletable": true,
    "editable": true
   },
   "source": [
    "### Train, Validate and Test the Model"
   ]
  },
  {
   "cell_type": "markdown",
   "metadata": {
    "deletable": true,
    "editable": true
   },
   "source": [
    "A validation set can be used to assess how well the model is performing. A low accuracy on the training and validation\n",
    "sets imply underfitting. A high accuracy on the training set but low accuracy on the validation set implies overfitting."
   ]
  },
  {
   "cell_type": "code",
   "execution_count": 9,
   "metadata": {
    "collapsed": false,
    "deletable": true,
    "editable": true
   },
   "outputs": [],
   "source": [
    "### Train your model here.\n",
    "### Calculate and report the accuracy on the training and validation set.\n",
    "### Once a final model architecture is selected, \n",
    "### the accuracy on the test set should be calculated and reported as well.\n",
    "### Feel free to use as many code cells as needed.\n",
    "\n",
    "\n",
    "# Set to True if you want to train the model as training will take a long time it's better to load model from file.\n",
    "TRAIN_MODEL = False\n",
    "if TRAIN_MODEL:\n",
    "    from sklearn.utils import shuffle\n",
    "    import pickle\n",
    "    # For progress bar\n",
    "    from ipywidgets import FloatProgress, Text\n",
    "    from IPython.display import display\n",
    "\n",
    "    #Initialize progress bar\n",
    "    progressbar = FloatProgress(min=0, description='Batch')\n",
    "    progressbar_total = FloatProgress(min=0, description='Waiting....')\n",
    "    infotext = Text(placeholder=\"Waiting for first round to be validated\")\n",
    "    display(progressbar)\n",
    "    display(progressbar_total)\n",
    "    display(infotext)\n",
    "    \n",
    "    # Set to true if you want to load augmented training data from file\n",
    "    LOAD_AUGMENTED_FROM_FILE = True\n",
    "    if LOAD_AUGMENTED_FROM_FILE:\n",
    "        print(\"Loading augmented data from file....\")\n",
    "        with open(\"./data/augmented_training_data.pickle\", 'rb') as f:\n",
    "            # The protocol version used is detected automatically, so we do not\n",
    "            # have to specify it.\n",
    "            data = pickle.load(f)\n",
    "            X_train = data[\"X_train\"]\n",
    "            y_train = data[\"y_train\"]\n",
    "            #print(\"Done\")\n",
    "            print(\"Total number of training samples is {}\".format(len(X_train)))\n",
    "\n",
    "    # Training the model\n",
    "    import time\n",
    "    validationaccuracylog = [] # store validation accuracies into this list from each EPOCH\n",
    "    trainingaccuracylog = [] # store training accuracies into this list from each EPOCH\n",
    "    validation_accuracy = 0\n",
    "    training_accuracy = 0\n",
    "    EPOCHS = 50\n",
    "    BATCH_SIZE = 512\n",
    "    \n",
    "    progressbar_total.description = \"Open Sess\"\n",
    "    saver = tf.train.Saver()\n",
    "    with tf.Session() as sess:\n",
    "        start = time.time()\n",
    "        progressbar_total.max = EPOCHS\n",
    "        sess.run(tf.global_variables_initializer())\n",
    "        num_examples = len(X_train)\n",
    "        num_batches = num_examples/BATCH_SIZE\n",
    "        progressbar.max = num_batches\n",
    "        print(\"Training data is divided into {:d} batches.\".format(int(num_batches)))\n",
    "        print(\"Preprocessing images\")\n",
    "        if X_train.shape[3] == 3:\n",
    "            X_train = preprocess_tensor(X_train)\n",
    "        if X_valid.shape[3] == 3:\n",
    "            X_valid = preprocess_tensor(X_valid)\n",
    "        for i in range(EPOCHS):\n",
    "            progressbar_total.description = \"Training\"\n",
    "            X_train, y_train = shuffle(X_train, y_train)\n",
    "            nbatch = 0\n",
    "            progressbar.value = 0\n",
    "            for offset in range(0, num_examples, BATCH_SIZE):\n",
    "                end = offset + BATCH_SIZE\n",
    "                nbatch += 1\n",
    "                progressbar.value = nbatch\n",
    "                progressbar.description = \"Batch {}\".format(nbatch)\n",
    "                batch_x, batch_y = X_train[offset:end], y_train[offset:end]\n",
    "                sess.run(training_operation, feed_dict={x: batch_x, y: batch_y, keep_prob:0.50})\n",
    "            if i % 5 == 0: # Validate on every 10th epoch in order to save time\n",
    "                progressbar_total.description = \"Validating\"\n",
    "                validation_accuracy = evaluate(X_valid, y_valid)\n",
    "                training_accuracy = evaluate(X_train, y_train)\n",
    "                validationaccuracylog.append(validation_accuracy)\n",
    "                trainingaccuracylog.append(training_accuracy)\n",
    "                infotext.value = \"EPOCH {}. \".format(i+1) + \"Validation Accuracy = {:.3f}\".format(validation_accuracy)\n",
    "                # print(\"Epoch {} Validation accuracy {:.3f}\".format(i, validation_accuracy))\n",
    "            progressbar_total.value += 1\n",
    "            infotext.value = \"EPOCH {}. \".format(i+1) \n",
    "        stop = time.time()\n",
    "        print(\"Training took totally {:.0f} seconds for {} epochs \\\n",
    "and on average it took {:.2f} seconds / epoch\".format(stop-start, EPOCHS, (stop-start)/EPOCHS))\n",
    "        print()\n",
    "        print(\"Final training accuracy is {:.3f}\".format(training_accuracy))\n",
    "        print(\"Final validation accuracy is {:.3f}\".format(validation_accuracy))\n",
    "        plt.plot(validationaccuracylog, 'g-', label='Validation Accuracy')\n",
    "        plt.plot(trainingaccuracylog, 'r-', label=\"Training Accuracy\")\n",
    "        plt.legend()\n",
    "        plt.show()\n",
    "        #model_file_name = './larenet_6_{:d}'.format(int(stop))\n",
    "        model_file_name = './larenet_6'\n",
    "        saver.save(sess, model_file_name)\n",
    "        tf.train.export_meta_graph(model_file_name + '.meta')\n",
    "        print(\"Model saved as \", model_file_name)"
   ]
  },
  {
   "cell_type": "code",
   "execution_count": 10,
   "metadata": {
    "collapsed": false,
    "deletable": true,
    "editable": true
   },
   "outputs": [
    {
     "name": "stdout",
     "output_type": "stream",
     "text": [
      "Loading data....\n",
      "Preprocessing training data\n",
      "Preprocessing validation data\n",
      "Preprocessing test data\n",
      "Data loaded successfully\n",
      "\tTraining data  (34799, 32, 32, 1)\n",
      "\tValidation data  (4410, 32, 32, 1)\n",
      "\tTesting data  (12630, 32, 32, 1)\n",
      "Import model...\n",
      "\n",
      "\n",
      "These results are calculated by using saved model.\n",
      "\tTraining Accuracy = 1.000\n",
      "\tValidation Accuracy = 0.990\n",
      "\tTest Accuracy = 0.973\n"
     ]
    }
   ],
   "source": [
    "# Load model from file and run evaluation for training, validation and test sets\n",
    "# Note! It might be needed to restart kernel and run all above cells WITHOUT training\n",
    "import tensorflow as tf\n",
    "import numpy as np\n",
    "\n",
    "# tf.reset_default_graph()\n",
    "\n",
    "BATCH_SIZE = 512\n",
    "with tf.Session() as sess:\n",
    "    # Preprocess data if needed\n",
    "    print(\"Loading data....\")\n",
    "    if X_train.shape[3] == 3:\n",
    "        print(\"Preprocessing training data\")\n",
    "        X_train = preprocess_tensor(X_train)\n",
    "    if X_valid.shape[3] == 3:\n",
    "        print(\"Preprocessing validation data\")\n",
    "        X_valid = preprocess_tensor(X_valid)\n",
    "    if X_test.shape[3] == 3:\n",
    "        print(\"Preprocessing test data\")\n",
    "        X_test = preprocess_tensor(X_test)\n",
    "    print(\"Data loaded successfully\")\n",
    "    print(\"\\tTraining data \", X_train.shape)\n",
    "    print(\"\\tValidation data \", X_valid.shape)\n",
    "    print(\"\\tTesting data \", X_test.shape)\n",
    "    print(\"Import model...\")\n",
    "    loader = tf.train.Saver()\n",
    "    # loader = tf.train.import_meta_graph('./larenet_6.meta', clear_devices=True)\n",
    "    loader.restore(sess, \"./larenet_6\")\n",
    "    # tf variables need to be initialized first\n",
    "    #\n",
    "    \n",
    "    #init = tf.global_variables_initializer()\n",
    "    #sess.run(init)\n",
    "    \n",
    "    # Run model evaluation with train, valida and test sets\n",
    "    training_accuracy = evaluate(X_train, y_train)\n",
    "    validation_accuracy = evaluate(X_valid, y_valid)\n",
    "    test_accuracy = evaluate(X_test, y_test)\n",
    "    print(\"\\n\\nThese results are calculated by using saved model.\")\n",
    "    print(\"\\tTraining Accuracy = {:.3f}\".format(training_accuracy))\n",
    "    print(\"\\tValidation Accuracy = {:.3f}\".format(validation_accuracy))\n",
    "    print(\"\\tTest Accuracy = {:.3f}\".format(test_accuracy))\n"
   ]
  },
  {
   "cell_type": "markdown",
   "metadata": {
    "deletable": true,
    "editable": true
   },
   "source": [
    "---\n",
    "\n",
    "## Step 3: Test a Model on New Images\n",
    "\n",
    "To give yourself more insight into how your model is working, download at least five pictures of German traffic signs from the web and use your model to predict the traffic sign type.\n",
    "\n",
    "You may find `signnames.csv` useful as it contains mappings from the class id (integer) to the actual sign name."
   ]
  },
  {
   "cell_type": "code",
   "execution_count": 11,
   "metadata": {
    "collapsed": false,
    "deletable": true,
    "editable": true
   },
   "outputs": [],
   "source": [
    "# Load sign class numbers and descriptions from file\n",
    "import csv\n",
    "# Dictionary mapping where key is sign's class and value is it's description\n",
    "sign_names = {}\n",
    "with open('signnames.csv', newline='') as csvfile:\n",
    "    for row in csv.DictReader(csvfile, delimiter=','):\n",
    "        sign_names[int(row['ClassId'])] = row['SignName']"
   ]
  },
  {
   "cell_type": "markdown",
   "metadata": {
    "deletable": true,
    "editable": true
   },
   "source": [
    "### Load and Output the Images"
   ]
  },
  {
   "cell_type": "code",
   "execution_count": 12,
   "metadata": {
    "collapsed": false,
    "deletable": true,
    "editable": true
   },
   "outputs": [
    {
     "data": {
      "image/png": "[encoded data removed]",
      "text/plain": [
       "<matplotlib.figure.Figure at 0x7f664162df60>"
      ]
     },
     "metadata": {},
     "output_type": "display_data"
    }
   ],
   "source": [
    "# Load the images and plot them here.\n",
    "# Feel free to use as many code cells as needed.\n",
    "# import tensorflow as tf\n",
    "\n",
    "import os, fnmatch\n",
    "from scipy import misc\n",
    "import numpy as np\n",
    "\n",
    "test_img_path = \"./test_images/\" # Test images are stored here\n",
    "\n",
    "X_test_images = []\n",
    "y_test_images = []\n",
    "# Load image filenames and ClassIds from CSV file\n",
    "with open(test_img_path + \"test_images.csv\", newline='') as csvfile:\n",
    "    headers = next(csvfile, None)\n",
    "    for row in csv.reader(csvfile, delimiter=','):\n",
    "        #sign_names[int(row['ClassId'])] = row['SignName']\n",
    "        img = misc.imread(test_img_path + row[0])\n",
    "        shape = img.shape\n",
    "        # Ensure that image has correct shape\n",
    "        assert(shape == (32, 32, 3)), \"Shape of image file {} is {}, but (32, 32, 3) was expected\".format(row[0], shape)\n",
    "        X_test_images.append(img)\n",
    "        y_test_images.append(row[1])\n",
    "    X_test_images = np.array(X_test_images)\n",
    "    y_test_images = np.array(y_test_images)\n",
    "\n",
    "# Show loaded test images from disk\n",
    "nsamples = len(X_test_images)\n",
    "show_samples(range(0, nsamples), X_test_images, y_test_images)\n"
   ]
  },
  {
   "cell_type": "markdown",
   "metadata": {
    "deletable": true,
    "editable": true
   },
   "source": [
    "### Predict the Sign Type for Each Image"
   ]
  },
  {
   "cell_type": "code",
   "execution_count": 13,
   "metadata": {
    "collapsed": false,
    "deletable": true,
    "editable": true
   },
   "outputs": [
    {
     "name": "stdout",
     "output_type": "stream",
     "text": [
      "Session restored\n",
      "\n",
      "Index, Truth, Prediction, Description (Predicted)\n",
      "    0      5           3  Speed limit (60km/h)\n",
      "    1      1           1  Speed limit (30km/h)\n",
      "    2     28          28  Children crossing\n",
      "    3     33          33  Turn right ahead\n",
      "    4     17          17  No entry       \n"
     ]
    }
   ],
   "source": [
    "### Run the predictions here and use the model to output the prediction for each image.\n",
    "### Make sure to pre-process the images with the same pre-processing pipeline used earlier.\n",
    "### Feel free to use as many code cells as needed.\n",
    "\n",
    "import tensorflow as tf\n",
    "results = None\n",
    "with tf.Session() as sess:\n",
    "    if X_test_images.shape[3] == 3:\n",
    "        X_test_images = preprocess_tensor(X_test_images)\n",
    "    # saver = tf.train.import_meta_graph('./larenet_6.meta')\n",
    "    saver = tf.train.Saver()\n",
    "    saver.restore(sess, \"./larenet_6\")\n",
    "    #init = tf.global_variables_initializer()\n",
    "    #sess.run(init)\n",
    "    print(\"Session restored\\n\")\n",
    "    # result is array of [predicted labels, ground-truth labels]\n",
    "    results = sess.run([tf.argmax(logits, 1), tf.argmax(one_hot_y, 1)], \n",
    "                      feed_dict={x: X_test_images, y: y_test_images, keep_prob:1.0})\n",
    "    print(\"Index, Truth, Prediction, Description (Predicted)\")\n",
    "    for i, pred in enumerate(results[0]):\n",
    "        print(\"{:5d}  {:5d}  {:10d}  {:15s}\".format(i, int(y_test_images[i]), pred, sign_names[pred]))\n",
    "    \n"
   ]
  },
  {
   "cell_type": "markdown",
   "metadata": {
    "deletable": true,
    "editable": true
   },
   "source": [
    "### Analyze Performance"
   ]
  },
  {
   "cell_type": "code",
   "execution_count": 14,
   "metadata": {
    "collapsed": false,
    "deletable": true,
    "editable": true
   },
   "outputs": [
    {
     "name": "stdout",
     "output_type": "stream",
     "text": [
      "Model predicted 4 signs correctly out of 5\n",
      "Prediction accuracy is 80.0% for 5 test images downloaded from web\n"
     ]
    }
   ],
   "source": [
    "# Calculate the accuracy for these 5 new images. \n",
    "# For example, if the model predicted 1 out of 5 signs correctly, it's 20% accurate on these new images.\n",
    "\n",
    "corr = 0  # counter for correct predictions\n",
    "for pred, gt in zip(results[0], results[1]):\n",
    "    corr += pred == gt  # If results are equal it will return 1 and therefore increases our counter\n",
    "print(\"Model predicted {} signs correctly out of {}\".format(corr, len(results[0])))\n",
    "print(\"Prediction accuracy is {}% for 5 test images downloaded from web\".format(100*corr/len(results[0])))\n",
    "\n"
   ]
  },
  {
   "cell_type": "markdown",
   "metadata": {},
   "source": [
    "All other traffic signs were predicted correctly except \"Speed Limit (80km/h)\". It's bit difficult to say why this happen. If you look number \"8\" very closely you could see that upper half of the eight could also prepresent number 6 as part of the number 8 could be seen as \"noise\". "
   ]
  },
  {
   "cell_type": "markdown",
   "metadata": {
    "deletable": true,
    "editable": true
   },
   "source": [
    "### Output Top 5 Softmax Probabilities For Each Image Found on the Web"
   ]
  },
  {
   "cell_type": "markdown",
   "metadata": {
    "deletable": true,
    "editable": true
   },
   "source": [
    "For each of the new images, print out the model's softmax probabilities to show the **certainty** of the model's predictions (limit the output to the top 5 probabilities for each image). [`tf.nn.top_k`](https://www.tensorflow.org/versions/r0.12/api_docs/python/nn.html#top_k) could prove helpful here. \n",
    "\n",
    "The example below demonstrates how tf.nn.top_k can be used to find the top k predictions for each image.\n",
    "\n",
    "`tf.nn.top_k` will return the values and indices (class ids) of the top k predictions. So if k=3, for each sign, it'll return the 3 largest probabilities (out of a possible 43) and the correspoding class ids.\n",
    "\n",
    "Take this numpy array as an example. The values in the array represent predictions. The array contains softmax probabilities for five candidate images with six possible classes. `tk.nn.top_k` is used to choose the three classes with the highest probability:\n"
   ]
  },
  {
   "cell_type": "code",
   "execution_count": 15,
   "metadata": {
    "collapsed": false
   },
   "outputs": [],
   "source": [
    "# Support functions\n",
    "import numpy as np\n",
    "import matplotlib.pyplot as plt\n",
    "\n",
    "def map_classids_to_names(classids, mapping):\n",
    "    \"\"\"\n",
    "    This functions maps list of Class IDs to corresponding class description.\n",
    "\n",
    "    Parameters\n",
    "    ----------\n",
    "    classids : list\n",
    "        List of class ids to be mapped\n",
    "    mapping : dictionary\n",
    "        Dictionary where key is class id and value it's description\n",
    "\n",
    "    Returns\n",
    "    -------\n",
    "    list\n",
    "        List of corresponding class id names\n",
    "    \"\"\"\n",
    "    return list(map(lambda classid: mapping[classid], classids))\n",
    "\n",
    "\n",
    "def create_propability_bar(propabilities, classids, mapping):\n",
    "    \"\"\"\n",
    "    This functions creates a horizontal bar graph of propabilities.\n",
    "\n",
    "    Parameters\n",
    "    ----------\n",
    "    propabilities: list\n",
    "        List of propabilities\n",
    "    classids : list\n",
    "        Corresponding list of propabilities classids\n",
    "    mapping : dictionary\n",
    "        Dictionary where key is class id and value it's description\n",
    "\n",
    "    Returns\n",
    "    -------\n",
    "    graph\n",
    "        Propabilites plotted in descending order\n",
    "    \"\"\"\n",
    "    y_position = list(range(0, len(propabilities)))\n",
    "    y_position.reverse()\n",
    "    graph = plt.barh(bottom=y_position,\n",
    "                     width=propabilities,\n",
    "                     tick_label=map_classids_to_names(classids, mapping))\n",
    "    return graph\n",
    "\n",
    "\n",
    "def show_topk(X, y, topk, mapping, nmax=25):\n",
    "    \"\"\"\n",
    "    This functions shows test images with corresponding ClassIds.\n",
    "\n",
    "    Parameters\n",
    "    ----------\n",
    "    X: numpy array\n",
    "        4D tensor array where dimensions are\n",
    "        (N, img width, img height, channels)\n",
    "    y : numpy array\n",
    "        1D list of corresponding class Ids of X\n",
    "    topk : numpy array\n",
    "        2D list of topk propabilities and class ids of the test set\n",
    "    mapping : dictionary\n",
    "        Dictionary where key is class id and value it's description\n",
    "    nmax : integer\n",
    "        Number of maximum data points(images) to be analyzed\n",
    "    \"\"\"\n",
    "    fig = plt.figure(figsize=(15, 20))\n",
    "    ncols = 2\n",
    "    nrows = 15\n",
    "    # print(topk[0])\n",
    "    # print(topk[1])\n",
    "    # print(topk.shape)\n",
    "    for i, props in enumerate(zip(topk[0], topk[1])):\n",
    "        # subplot(nrows, ncols, plot_number)\n",
    "        # Calculate plot numbers so that image is shown on top and bar plots under images\n",
    "        img_plot_number = 1 + (int(i / (ncols)) * ncols*2) + i % ncols\n",
    "        bar_plot_number = img_plot_number + ncols\n",
    "        \n",
    "        a = fig.add_subplot(nrows, ncols, img_plot_number)\n",
    "        # Use sign description as title\n",
    "        a.set_title(sign_names[y[i]])\n",
    "        plt.imshow(X[i].squeeze(), cmap=\"gray\")\n",
    "        b = fig.add_subplot(nrows, ncols, bar_plot_number)\n",
    "        create_propability_bar(props[0], props[1], sign_names)\n",
    "        #print(props[0], props[1])\n",
    "        #b.set_title(\"Propabilities\")\n",
    "    fig.tight_layout(h_pad=0.5)  # ,\n",
    "    plt.show()\n"
   ]
  },
  {
   "cell_type": "code",
   "execution_count": 35,
   "metadata": {
    "collapsed": false,
    "deletable": true,
    "editable": true
   },
   "outputs": [
    {
     "name": "stdout",
     "output_type": "stream",
     "text": [
      "Session restored\n"
     ]
    }
   ],
   "source": [
    "# Print out the top five softmax probabilities for the predictions on the German traffic sign images found on the web. \n",
    "\n",
    "result = None\n",
    "with tf.Session() as sess:\n",
    "    #saver = tf.train.import_meta_graph('./larenet_6.meta')\n",
    "    saver = tf.train.Saver()\n",
    "    saver.restore(sess, \"./larenet_6\")\n",
    "    #init = tf.global_variables_initializer()\n",
    "    #sess.run(init)\n",
    "    print(\"Session restored\")\n",
    "    result = sess.run([tf.argmax(logits, 1), tf.argmax(one_hot_y, 1), tf.nn.top_k(tf.nn.softmax(logits), k=5)], \n",
    "                      feed_dict={x: X_test_images, y: y_test_images, keep_prob:1.0})\n",
    "    # result array: 0 = predicted class, 1 = top_k values, 2 = ground truth\n",
    "\n",
    "        "
   ]
  },
  {
   "cell_type": "code",
   "execution_count": 38,
   "metadata": {
    "collapsed": false
   },
   "outputs": [
    {
     "name": "stdout",
     "output_type": "stream",
     "text": [
      "topk softmax propabilites in raw print are\n",
      "\n",
      "\n",
      "TopKV2(values=array([[  8.46604288e-01,   1.52971163e-01,   3.79130506e-04,\n",
      "          2.13658986e-05,   1.73160024e-05],\n",
      "       [  1.00000000e+00,   0.00000000e+00,   0.00000000e+00,\n",
      "          0.00000000e+00,   0.00000000e+00],\n",
      "       [  1.00000000e+00,   0.00000000e+00,   0.00000000e+00,\n",
      "          0.00000000e+00,   0.00000000e+00],\n",
      "       [  1.00000000e+00,   0.00000000e+00,   0.00000000e+00,\n",
      "          0.00000000e+00,   0.00000000e+00],\n",
      "       [  1.00000000e+00,   0.00000000e+00,   0.00000000e+00,\n",
      "          0.00000000e+00,   0.00000000e+00]], dtype=float32), indices=array([[ 3,  5, 20,  9, 28],\n",
      "       [ 1,  0,  2,  3,  4],\n",
      "       [28,  0,  1,  2,  3],\n",
      "       [33,  0,  1,  2,  3],\n",
      "       [17,  0,  1,  2,  3]], dtype=int32))\n",
      "\n",
      "\n",
      "and same as a visual presentation.\n",
      "\n",
      "\n"
     ]
    },
    {
     "data": {
      "image/png": "[encoded data removed]",
      "text/plain": [
       "<matplotlib.figure.Figure at 0x7f65a6683b00>"
      ]
     },
     "metadata": {},
     "output_type": "display_data"
    }
   ],
   "source": [
    "# Illustrate topk-5 propabilities\n",
    "pred = result[0]\n",
    "y_ = result[1]\n",
    "topk = result[2]\n",
    "print(\"topk softmax propabilites in raw print are\\n\\n\")\n",
    "print(topk)\n",
    "print(\"\\n\\nand same as a visual presentation.\\n\\n\")\n",
    "show_topk(X_test_images, y_, topk, sign_names)\n"
   ]
  },
  {
   "cell_type": "markdown",
   "metadata": {
    "deletable": true,
    "editable": true
   },
   "source": [
    "---\n",
    "\n",
    "## Step 4: Visualize the Neural Network's State with Test Images\n",
    "\n",
    " This Section is not required to complete but acts as an additional excersise for understaning the output of a neural network's weights. While neural networks can be a great learning device they are often referred to as a black box. We can understand what the weights of a neural network look like better by plotting their feature maps. After successfully training your neural network you can see what it's feature maps look like by plotting the output of the network's weight layers in response to a test stimuli image. From these plotted feature maps, it's possible to see what characteristics of an image the network finds interesting. For a sign, maybe the inner network feature maps react with high activation to the sign's boundary outline or to the contrast in the sign's painted symbol.\n",
    "\n",
    " Provided for you below is the function code that allows you to get the visualization output of any tensorflow weight layer you want. The inputs to the function should be a stimuli image, one used during training or a new one you provided, and then the tensorflow variable name that represents the layer's state during the training process, for instance if you wanted to see what the [LeNet lab's](https://classroom.udacity.com/nanodegrees/nd013/parts/fbf77062-5703-404e-b60c-95b78b2f3f9e/modules/6df7ae49-c61c-4bb2-a23e-6527e69209ec/lessons/601ae704-1035-4287-8b11-e2c2716217ad/concepts/d4aca031-508f-4e0b-b493-e7b706120f81) feature maps looked like for it's second convolutional layer you could enter conv2 as the tf_activation variable.\n",
    "\n",
    "For an example of what feature map outputs look like, check out NVIDIA's results in their paper [End-to-End Deep Learning for Self-Driving Cars](https://devblogs.nvidia.com/parallelforall/deep-learning-self-driving-cars/) in the section Visualization of internal CNN State. NVIDIA was able to show that their network's inner weights had high activations to road boundary lines by comparing feature maps from an image with a clear path to one without. Try experimenting with a similar test to show that your trained network's weights are looking for interesting features, whether it's looking at differences in feature maps from images with or without a sign, or even what feature maps look like in a trained network vs a completely untrained one on the same sign image.\n",
    "\n",
    "<figure>\n",
    " <img src=\"visualize_cnn.png\" width=\"380\" alt=\"Combined Image\" />\n",
    " <figcaption>\n",
    " <p></p> \n",
    " <p style=\"text-align: center;\"> Your output should look something like this (above)</p> \n",
    " </figcaption>\n",
    "</figure>\n",
    " <p></p> \n"
   ]
  },
  {
   "cell_type": "code",
   "execution_count": 21,
   "metadata": {
    "collapsed": true,
    "deletable": true,
    "editable": true
   },
   "outputs": [],
   "source": [
    "### Visualize network's feature maps\n",
    "\n",
    "def outputFeatureMap(image_input, tf_activation, activation_min=-1, activation_max=-1 ,plt_num=1):\n",
    "    \"\"\"\n",
    "    Visualizes network's activation maps\n",
    "    \n",
    "    Parameters\n",
    "    ----------\n",
    "    image_input: numpy array\n",
    "        the test image being fed into the network to produce the feature maps.\n",
    "        Should be 4D tensor which contains single image\n",
    "    tf_activation : tf variable\n",
    "        should be a tf variable name used during your training procedure that \n",
    "        represents the calculated state of a specific weight layer\n",
    "    activation_min : integer\n",
    "        can be used to view the activation contrast in more detail, by default \n",
    "        matplot sets min and max to the actual min and max values of the output\n",
    "    activation_max : integer\n",
    "        can be used to view the activation contrast in more detail, by default \n",
    "        matplot sets min and max to the actual min and max values of the output\n",
    "    plt_num : integer\n",
    "        used to plot out multiple different weight feature map sets on the same \n",
    "        block, just extend the plt number for each new feature map entry\n",
    "    \"\"\"\n",
    "    # Here make sure to preprocess your image_input in a way your network expects\n",
    "    # with size, normalization, ect if needed\n",
    "    #image_input = \n",
    "    # Note: x should be the same name as your network's tensorflow data placeholder variable\n",
    "    # If you get an error tf_activation is not defined it maybe having trouble accessing the variable from inside a function\n",
    "    activation = tf_activation.eval(session=sess,feed_dict={x : image_input})\n",
    "    featuremaps = activation.shape[3]\n",
    "    plt.figure(plt_num, figsize=(15,15))\n",
    "    for featuremap in range(featuremaps):\n",
    "        plt.subplot(6,8, featuremap+1) # sets the number of feature maps to show on each row and column\n",
    "        plt.title('FeatureMap ' + str(featuremap)) # displays the feature map number\n",
    "        if activation_min != -1 & activation_max != -1:\n",
    "            plt.imshow(activation[0,:,:, featuremap], interpolation=\"nearest\", vmin =activation_min, vmax=activation_max, cmap=\"gray\")\n",
    "        elif activation_max != -1:\n",
    "            plt.imshow(activation[0,:,:, featuremap], interpolation=\"nearest\", vmax=activation_max, cmap=\"gray\")\n",
    "        elif activation_min !=-1:\n",
    "            plt.imshow(activation[0,:,:, featuremap], interpolation=\"nearest\", vmin=activation_min, cmap=\"gray\")\n",
    "        else:\n",
    "            plt.imshow(activation[0,:,:, featuremap], interpolation=\"nearest\", cmap=\"gray\")"
   ]
  },
  {
   "cell_type": "code",
   "execution_count": 34,
   "metadata": {
    "collapsed": false
   },
   "outputs": [
    {
     "name": "stdout",
     "output_type": "stream",
     "text": [
      "Session restored\n"
     ]
    },
    {
     "data": {
      "image/png": "[encoded data removed]",
      "text/plain": [
       "<matplotlib.figure.Figure at 0x7f65a7672320>"
      ]
     },
     "metadata": {},
     "output_type": "display_data"
    }
   ],
   "source": [
    "with tf.Session() as sess:\n",
    "    #saver = tf.train.import_meta_graph('./larenet_6.meta')\n",
    "    saver = tf.train.Saver()\n",
    "    saver.restore(sess, \"./larenet_6\")\n",
    "    #init = tf.global_variables_initializer()\n",
    "    #sess.run(init)\n",
    "    print(\"Session restored\")\n",
    "    #L1_act = sess.graph.get_tensor_by_name('Relu:2')\n",
    "    L1_conv1 = sess.graph.get_tensor_by_name(\"L1_conv1:0\")\n",
    "    L1_pooling = sess.graph.get_tensor_by_name(\"L1_pooling:0\")\n",
    "    L1_activation = sess.graph.get_tensor_by_name(\"L1_activation:0\")\n",
    "    outputFeatureMap(X_test_images[:1], L1_activation, activation_min=-1, activation_max=-1 ,plt_num=1)\n",
    "    #outputFeatureMap(X_test_images[:1], L1_pooling, activation_min=-1, activation_max=-1 ,plt_num=1)\n",
    "    #result = sess.run([tf.argmax(logits, 1), tf.argmax(one_hot_y, 1), tf.nn.top_k(logits, k=5)], \n",
    "    #                  feed_dict={x: X_test_images, y: y_test_images, keep_prob:1.0})\n",
    "    # result array: 0 = predicted class, 1 = top_k values, 2 = ground truth"
   ]
  },
  {
   "cell_type": "code",
   "execution_count": null,
   "metadata": {
    "collapsed": true
   },
   "outputs": [],
   "source": [
    "    conv1_W = tf.Variable(tf.truncated_normal(shape=(3,3,1,10), mean = mu, stddev=sigma), name=\"L1_conv1_W\")\n",
    "    conv1_b = tf.Variable(tf.zeros(10), name=\"L1_conv1_b\")\n",
    "    conv1   = tf.nn.conv2d(x, conv1_W, strides=[1,1,1,1], padding='VALID', name=\"L1_conv1\") + conv1_b\n",
    "    # Activation.\n",
    "    conv1 = tf.nn.relu(conv1, name=\"L1_activation\")\n",
    "    # Pooling. Input = 30x30x10. Output = 15x15x10.\n",
    "    conv1 = tf.nn.max_pool(conv1, ksize=[1,2,2,1], strides=[1,2,2,1], padding='VALID', name=\"L1_pooling\")"
   ]
  },
  {
   "cell_type": "markdown",
   "metadata": {
    "deletable": true,
    "editable": true
   },
   "source": [
    "### Question 9\n",
    "\n",
    "Discuss how you used the visual output of your trained network's feature maps to show that it had learned to look for interesting characteristics in traffic sign images\n"
   ]
  },
  {
   "cell_type": "markdown",
   "metadata": {
    "deletable": true,
    "editable": true
   },
   "source": [
    "**Answer:** I did analysis for Layer 1 convolution and activation and saw that there is indeed very interesting features extractred from the input image. By using this tool it would be good to check that network can successfully extract features from images.\n",
    "\n",
    "For example the layer 1 convolution looks quite stunning.\n",
    "\n",
    "<figure>\n",
    " <img src=\"./illustrations/L1_conv1.png\" width=\"380\" alt=\"L1 Convolution\" />\n",
    " <figcaption>\n",
    " <p></p> \n",
    " <p style=\"text-align: center;\"> L1 convolution</p> \n",
    " </figcaption>\n",
    "</figure>\n",
    " <p></p> \n",
    "After convolution there is Layer 1 activation with RELU which looks like this \n",
    "<figure>\n",
    " <img src=\"./illustrations/L1_activation.png\" width=\"380\" alt=\"L1 Activation with ReLU\" />\n",
    " <figcaption>\n",
    " <p></p> \n",
    " <p style=\"text-align: center;\">L1 Activation with ReLU</p> \n",
    " </figcaption>\n",
    "</figure>\n",
    " <p></p> "
   ]
  },
  {
   "cell_type": "markdown",
   "metadata": {
    "deletable": true,
    "editable": true
   },
   "source": [
    "\n",
    "\n",
    "> **Note**: Once you have completed all of the code implementations and successfully answered each question above, you may finalize your work by exporting the iPython Notebook as an HTML document. You can do this by using the menu above and navigating to  \\n\",\n",
    "    \"**File -> Download as -> HTML (.html)**. Include the finished document along with this notebook as your submission."
   ]
  },
  {
   "cell_type": "markdown",
   "metadata": {
    "deletable": true,
    "editable": true
   },
   "source": [
    "### Project Writeup\n",
    "\n",
    "Once you have completed the code implementation, document your results in a project writeup using this [template](https://github.com/udacity/CarND-Traffic-Sign-Classifier-Project/blob/master/writeup_template.md) as a guide. The writeup can be in a markdown or pdf file. "
   ]
  }
 ],
 "metadata": {
  "anaconda-cloud": {},
  "kernelspec": {
   "display_name": "Python 3",
   "language": "python",
   "name": "python3"
  },
  "language_info": {
   "codemirror_mode": {
    "name": "ipython",
    "version": 3
   },
   "file_extension": ".py",
   "mimetype": "text/x-python",
   "name": "python",
   "nbconvert_exporter": "python",
   "pygments_lexer": "ipython3",
   "version": "3.5.2"
  },
  "widgets": {
   "state": {
    "0107e4f487b64d919d4ade7c5117c6f8": {
     "views": []
    },
    "013d1230e4744550b45d7dac5335535a": {
     "views": []
    },
    "02af6fb675f94e5494f96787eed4207b": {
     "views": []
    },
    "038535930565457b90d26ae358886419": {
     "views": [
      {
       "cell_index": 18
      }
     ]
    },
    "04f3734a273a47d7b5243e0807988fbc": {
     "views": []
    },
    "05d5822ac9ce4e7d9884d3246fd301ed": {
     "views": []
    },
    "09ba8cae056e4b4da171c341d2bb81a4": {
     "views": []
    },
    "0a0197ab51bd4970aaeb6667af0c515f": {
     "views": []
    },
    "0d58ba0a8bc04769aae47fdd4259b87d": {
     "views": []
    },
    "0dd012a2f437445a90564f2348e1b534": {
     "views": []
    },
    "0fe1350f98c94c27949f5668ac697ce4": {
     "views": []
    },
    "132c3471be1c413599fbdf697b39a243": {
     "views": []
    },
    "134e3fa0aaa94ad18a388010db44c0d8": {
     "views": []
    },
    "14d1de40d1324ae2814b18a26647bb92": {
     "views": []
    },
    "164dfcfb2fba4a7a9096139696e59f2c": {
     "views": []
    },
    "16f8d126f7d842aeb8f62d23c158f964": {
     "views": []
    },
    "1756eaa6b4a147f38f54e8092efb22c3": {
     "views": [
      {
       "cell_index": 18
      }
     ]
    },
    "178e7a4d9eec4cddb135f7fde6cb75cb": {
     "views": [
      {
       "cell_index": 18
      }
     ]
    },
    "17e919e8f9de405aadae3450b013e2bb": {
     "views": []
    },
    "17fa7f8166b247078b2047bce1b6720b": {
     "views": []
    },
    "1b320b3180ee4169b14132e08c26857e": {
     "views": []
    },
    "1b4b833e457e4d5187aedf083496c2bb": {
     "views": []
    },
    "1de81bd217194371b9b502448ed3fd6f": {
     "views": []
    },
    "1e7ebf83c255415b8f5dda5e86c0f685": {
     "views": []
    },
    "1ec0703e449d4bb7ada762071cf99edd": {
     "views": []
    },
    "2115f010ef4c45e6956f90b69307fd82": {
     "views": []
    },
    "214f4049daa147bf9d7cd4c69fd02ba2": {
     "views": []
    },
    "24696d3f351243cc8c3c1ec6b8f07c73": {
     "views": []
    },
    "248ff07103154af5b0bbfdda7cf778ac": {
     "views": []
    },
    "24f9dd614e5948bfbf8b7258feb6117e": {
     "views": []
    },
    "2771e6e9bf2f497c845286f0f26ab95e": {
     "views": [
      {
       "cell_index": 18
      }
     ]
    },
    "288bb60a267040a39153bf96659b8a23": {
     "views": []
    },
    "28997763b7bc48ba9e64e0e6229b315e": {
     "views": [
      {
       "cell_index": 20
      }
     ]
    },
    "2a3a2ab99fe247fb940a785d5e3694fb": {
     "views": [
      {
       "cell_index": 18
      }
     ]
    },
    "2aa5d5217ebd42429533559c14b3c0b7": {
     "views": []
    },
    "2b64b4fd79fa446d808dfae8a329beaf": {
     "views": []
    },
    "2b9220d1b1574487bdb506be2d443ad3": {
     "views": []
    },
    "2e5ef6c58d354c24b82323ac3faa799d": {
     "views": []
    },
    "2e66d3b9dcff49e49d8a5a5a55759009": {
     "views": []
    },
    "336aed9bbdcb4ebcab5cc1e690f5c5ad": {
     "views": []
    },
    "347b3b7dce0742639c478a6000644581": {
     "views": []
    },
    "35c73754eba646b7acc430cf70186eec": {
     "views": []
    },
    "35e0c968ca44462688a7b5c58e431206": {
     "views": []
    },
    "3736a0849f0a4a3c8f92739b910af8dc": {
     "views": []
    },
    "38ede7c1d81e424f8e79bfbdc8af97cb": {
     "views": []
    },
    "3990068e6c3042728e80b5109285aa94": {
     "views": []
    },
    "39f763de08c64e6eaf634cc94c6748d6": {
     "views": []
    },
    "3d50780fae414ea3b250687551fe2e51": {
     "views": []
    },
    "3e2919574f524ed0be85d69b41da6ce7": {
     "views": []
    },
    "41ccfdd29d2c471697ad01b1c2cee9a6": {
     "views": []
    },
    "42d94d0f1595490eb3fc1a4ed15271c7": {
     "views": [
      {
       "cell_index": 20
      }
     ]
    },
    "42e68fe698a345fa86e2a6727628e3dd": {
     "views": []
    },
    "43bf8ff9d6c2415fb24ad401d13c071a": {
     "views": [
      {
       "cell_index": 18
      }
     ]
    },
    "45fa17c522f54d9cbbf3f4e82b208511": {
     "views": []
    },
    "46cd53bdb8a44b9db75cb1bb3ac002a3": {
     "views": []
    },
    "48a148043e10483a99f1409e2a48b899": {
     "views": [
      {
       "cell_index": 20
      }
     ]
    },
    "48d2f6fead8e44d0b27328af37dded5b": {
     "views": []
    },
    "4acf7a1dc5bf4f3fb2f5669fddec83d2": {
     "views": []
    },
    "4d2ed0e997324d48889d65064525fd5a": {
     "views": []
    },
    "50a2f127ef7c41859bc5b6d53469f157": {
     "views": []
    },
    "5287c0421f8641c0ad1ece73e7454020": {
     "views": []
    },
    "53a17eaadd284c859585d24ba7f431ee": {
     "views": []
    },
    "53bef1a931d749c3ac9e0fcd3b5d9d3a": {
     "views": [
      {
       "cell_index": 20
      }
     ]
    },
    "545b4cf47ae94f969fb77908ab85f86d": {
     "views": []
    },
    "556dcbc13de74acb8806cb85990a6aa1": {
     "views": []
    },
    "55a2e46dbe7746cb851127cffb8fa49a": {
     "views": []
    },
    "58fd825b059a478a9bb938cb866fa4ad": {
     "views": [
      {
       "cell_index": 20
      }
     ]
    },
    "5ac56cbeb9db4d2e807c5f0e7bd26e39": {
     "views": [
      {
       "cell_index": 20
      }
     ]
    },
    "5bd0f0e243b649bc869c171c4eee71bc": {
     "views": [
      {
       "cell_index": 18
      }
     ]
    },
    "5efd8d76a2c847c08ea55d4388d886f4": {
     "views": []
    },
    "6272b010e14c4095b3c4ff42e97f7cb9": {
     "views": []
    },
    "633b146d47754571a7329b4ee156e12d": {
     "views": []
    },
    "64f32fea78b54834b51cad2d71438912": {
     "views": []
    },
    "65b13bfa0e1a491ca7d131b4797b0d4a": {
     "views": [
      {
       "cell_index": 20
      }
     ]
    },
    "65cf237c153a45c8b8e4f103eabb3fa5": {
     "views": []
    },
    "67c0f6583dde43fdb626ddb2b553caf2": {
     "views": [
      {
       "cell_index": 20
      }
     ]
    },
    "69c3a3780d1944ff8484dcdd4fb5cdb0": {
     "views": []
    },
    "6a6a88d3379d4745a28587f4e68a7b2c": {
     "views": []
    },
    "6b428128c20e460b8d6818704601ea21": {
     "views": []
    },
    "6e7a7bbf1cc541b084af1aa183aeb5ab": {
     "views": []
    },
    "6ea49fe8383647f28c6845b3cb8b9d01": {
     "views": []
    },
    "700f38da3ea34fee89310d0bb0a366d6": {
     "views": []
    },
    "71930b042bc345b9a94361f790f8f95c": {
     "views": [
      {
       "cell_index": 17
      }
     ]
    },
    "7571dde50ee548018799df1040f0356f": {
     "views": []
    },
    "75c5a95578424039ae70bdd44305abe5": {
     "views": []
    },
    "76183580670348ceaf1a84dba28b8aa0": {
     "views": []
    },
    "761dd0f6ca1049eeadf21429df335b82": {
     "views": []
    },
    "769528bef0674957af001e8b675ccae1": {
     "views": []
    },
    "773ed96c11754875b81c030bc394219d": {
     "views": []
    },
    "785db42b91a649398438731b8fabdf7b": {
     "views": [
      {
       "cell_index": 20
      }
     ]
    },
    "79340a64095247c588d89e5d61277374": {
     "views": []
    },
    "7bc63e7b9fda42d7b9281146eb225188": {
     "views": []
    },
    "7c1568c9043344e180f8d6aa9e006cef": {
     "views": [
      {
       "cell_index": 18
      }
     ]
    },
    "7c371423a74c45ebb451ec940f582756": {
     "views": []
    },
    "7c3a8c51a0c34981a0e3445ec64e9098": {
     "views": []
    },
    "7c8f6b73c7f94700971162fe6ae9ac1f": {
     "views": []
    },
    "7ef7ae2a80764296927cad27fc6f3fe2": {
     "views": []
    },
    "7f9089586b22483db99895d5183c6c75": {
     "views": []
    },
    "806e2bf2c0c346719fceaf7dd72e5c1f": {
     "views": []
    },
    "81de75599d014dbd809683bdde622991": {
     "views": []
    },
    "81e2d72a36c446b991d5641edce0739b": {
     "views": []
    },
    "81e4fb9691844d4dae9b4ae114b7b1b1": {
     "views": []
    },
    "828760c1ed4142d0bf1ccc295ed904f5": {
     "views": []
    },
    "82e3a0008f214d9d9486cfee729aa053": {
     "views": []
    },
    "841c9899cd0549298033c7ed6edec9d6": {
     "views": [
      {
       "cell_index": 20
      }
     ]
    },
    "8497dd776c6649e5b9330469fa995802": {
     "views": []
    },
    "858b6e9927964eef8920e4c2427f9b50": {
     "views": [
      {
       "cell_index": 18
      }
     ]
    },
    "85909ef16e354846872ef8f3cc934201": {
     "views": []
    },
    "85d0e9a59489475c9f09a89fd13a3564": {
     "views": []
    },
    "85dd16c39e8744d5858de32cdbd4d521": {
     "views": []
    },
    "86c410545aef4ee08f82e112914570ed": {
     "views": []
    },
    "8afc9f3b57a64c8b91ef2c6e958ffcb0": {
     "views": []
    },
    "8b3893d003c24ccfbab2d83ff4bdd273": {
     "views": []
    },
    "8ca3dc09f841449dab797f7952d0ac60": {
     "views": []
    },
    "8d219e9692904b59a9813016c375ae40": {
     "views": []
    },
    "8ed83a002fd149368ee2a34ff72db15d": {
     "views": []
    },
    "8f310e8dd628494683ab77b1ae075bd4": {
     "views": []
    },
    "917abb8add9b414782d5f7ece0ced4bc": {
     "views": []
    },
    "91ad57a6c4d24bbaa107e87ffea2b05e": {
     "views": []
    },
    "9490ec0c625c4bf0a4709fde7754cd0c": {
     "views": []
    },
    "9c6f7020c4db4824b27ba2cda6a3b157": {
     "views": []
    },
    "9c9f6e9a235e4751a8f337bb12fbb742": {
     "views": []
    },
    "9ce7b4188ccf4d65ba92fed2c7355f1d": {
     "views": [
      {
       "cell_index": 20
      }
     ]
    },
    "9e9ac85ab86a4913abdaaa79046bbd0d": {
     "views": [
      {
       "cell_index": 20
      }
     ]
    },
    "9e9fd19240b64bf4be9464e9c464f306": {
     "views": []
    },
    "9f01723a50c845969724bb6af0a9ce62": {
     "views": []
    },
    "a0b738bfffec43cbb809d319c357d9a9": {
     "views": [
      {
       "cell_index": 18
      }
     ]
    },
    "a636cb64057f4310bcd52b13063eac8e": {
     "views": []
    },
    "a64118d6faa94460876acdfa19a2f728": {
     "views": []
    },
    "a73fefc07bcd40e2bcebbab927ba5b91": {
     "views": [
      {
       "cell_index": 20
      }
     ]
    },
    "a7fd477f735f4fd2afc4f3f57ca91ace": {
     "views": []
    },
    "a88a839b7727427db7818d5b8b613166": {
     "views": []
    },
    "a926e3092bb84cde808f5b15a3b876b2": {
     "views": []
    },
    "a9ac36218f45447cbbc4249d8ef63fea": {
     "views": []
    },
    "a9db14dd14ad422cbc5452417df44bb3": {
     "views": []
    },
    "aa4cceedbc7a461696682b32a65837a6": {
     "views": []
    },
    "aa5006f86e7443f58173620f920152be": {
     "views": []
    },
    "aabde6d9e05d420d857cd58fc00e52e3": {
     "views": []
    },
    "aef385ac24624287ab6a613eb8cda081": {
     "views": []
    },
    "b1f7be7206564ceeaca9b8f17955d6c7": {
     "views": []
    },
    "b32951559be640e8a491234b636c1a69": {
     "views": []
    },
    "b59cfcc8816b4543837b8e45182f9ef1": {
     "views": []
    },
    "b6f20ae651cd4d62a5b6a59f91ec42ee": {
     "views": [
      {
       "cell_index": 20
      }
     ]
    },
    "b86aa7c2368748b68b316da4006691cb": {
     "views": []
    },
    "b8ef5f1e98ff42c1a6349c6daf214468": {
     "views": [
      {
       "cell_index": 18
      }
     ]
    },
    "bb0edbf4c9494f9c88d732eca79ef993": {
     "views": []
    },
    "bd7140b0c3a74d13a0dc034afae099db": {
     "views": []
    },
    "c14b2741d5de42358b1cfcf98530721d": {
     "views": []
    },
    "c33bba3ed5ab4d9d98e023d9555b80f6": {
     "views": [
      {
       "cell_index": 18
      }
     ]
    },
    "c39f09936b644714864bf67890967ecc": {
     "views": [
      {
       "cell_index": 18
      }
     ]
    },
    "c46d618b9f254901953daf1bf899854b": {
     "views": []
    },
    "c549c300e1964024a7e39a88ff771241": {
     "views": []
    },
    "c76e87e8d4014650895d799f54096bab": {
     "views": []
    },
    "c7d704fcdeb64eae8aed9d438bf6e661": {
     "views": []
    },
    "c9c011d344ec499f95f13b46f92f2810": {
     "views": []
    },
    "ca95b914168f40399d8353ffebc0468a": {
     "views": [
      {
       "cell_index": 20
      }
     ]
    },
    "cbc6264270474540901e01bcf0604c85": {
     "views": []
    },
    "cd228edacba945c2bb38c7b8cb2a2119": {
     "views": []
    },
    "cd372eced25b4eb9aa54032827fcebad": {
     "views": []
    },
    "ceb5f163d97d4a5da293bab0a17c690c": {
     "views": []
    },
    "d0afe1fd0d2b461c8ffe709f3de6186f": {
     "views": []
    },
    "d3c29d06333541dc82a6836bf530273b": {
     "views": []
    },
    "d41fb21ef1554651928f874f7e6543b1": {
     "views": []
    },
    "d4a8d57b6cb94c4b8cd169dea7b39cd4": {
     "views": [
      {
       "cell_index": 17
      }
     ]
    },
    "d706795dad6c43bfb505309bee611130": {
     "views": []
    },
    "d8ea1dcc30ac47fb842fbdd5720d54cc": {
     "views": []
    },
    "da5ee16e905e4b0f9b32521236b58e09": {
     "views": []
    },
    "dbc9b1843c5a49d4819febf6eac1e8b5": {
     "views": []
    },
    "dc86c55b54d64815928d8a58b19cd4f8": {
     "views": [
      {
       "cell_index": 18
      }
     ]
    },
    "dd3b2b08bbd84aa6a2484e3c7d1f7603": {
     "views": []
    },
    "dda10b30edb146a8a292307ddd841738": {
     "views": []
    },
    "e10598852c0d4acfabf423b7a92a3e7c": {
     "views": []
    },
    "e1b66bc3dee84beebed28c85b44e18f7": {
     "views": []
    },
    "e1fb12ac727a493482db710f0d9af60c": {
     "views": []
    },
    "e2b6968e3c3c472a9323fc74bdc5f4f0": {
     "views": []
    },
    "e6cede239052442a9995d5f4613415df": {
     "views": [
      {
       "cell_index": 18
      }
     ]
    },
    "e9538c0b52e94639b6ad1e911a39ae30": {
     "views": []
    },
    "e988c9aac0c748e5987da6acb37da7b8": {
     "views": []
    },
    "eb10ba2cdba14e62b1af66d83a2321be": {
     "views": []
    },
    "eb6821b36f404f21bfc90edba64df8c6": {
     "views": []
    },
    "ec18ce39be3b4b06b6cd07f4f99c0ed7": {
     "views": []
    },
    "edf2158d8dc649cbaaafa7d622b3c333": {
     "views": [
      {
       "cell_index": 17
      }
     ]
    },
    "eed94ccc9d8e4844986ab41672b5be77": {
     "views": []
    },
    "f018850bc469496a8b29c3efc97acc9a": {
     "views": []
    },
    "f069d2d123794829b7f6ec9113dabcce": {
     "views": []
    },
    "f11dc88b6b324c4b8d1100eb145fb6f2": {
     "views": []
    },
    "f1a0ed43a2104491b9310ad3ed813de5": {
     "views": []
    },
    "f1d280d13e1d4c44b4476f2ba3604ae8": {
     "views": []
    },
    "f334f7cfe9d94273a47be2121258c500": {
     "views": []
    },
    "f3db2fb5d42749ce90131af15171d240": {
     "views": []
    },
    "f467f27f770e420aa23350ea104753d2": {
     "views": []
    },
    "f81e3765361e44aca3ba4be68b965d08": {
     "views": [
      {
       "cell_index": 18
      }
     ]
    },
    "f8c9d9372af14584abd901b39c934fe3": {
     "views": []
    },
    "f8dbf3bdaac44cc787b3bf6a94b4bec9": {
     "views": []
    },
    "fa6e8dc8beb140898a8971a6c76ebc35": {
     "views": []
    },
    "fb8a493cab9e46ec8d4f9f71938a642e": {
     "views": []
    },
    "fd013ac5c4cc4ce4957711e3df4340ab": {
     "views": []
    },
    "ff9ee25e433943d4b829deed263eff01": {
     "views": [
      {
       "cell_index": 18
      }
     ]
    }
   },
   "version": "1.1.2"
  }
 },
 "nbformat": 4,
 "nbformat_minor": 1
}
