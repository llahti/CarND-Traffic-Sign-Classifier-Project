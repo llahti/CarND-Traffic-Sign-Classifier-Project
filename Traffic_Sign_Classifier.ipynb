{
 "cells": [
  {
   "cell_type": "markdown",
   "metadata": {
    "deletable": true,
    "editable": true
   },
   "source": [
    "# Self-Driving Car Engineer Nanodegree\n",
    "\n",
    "## Deep Learning\n",
    "\n",
    "## Project: Build a Traffic Sign Recognition Classifier\n",
    "\n",
    "In this notebook, a template is provided for you to implement your functionality in stages, which is required to successfully complete this project. If additional code is required that cannot be included in the notebook, be sure that the Python code is successfully imported and included in your submission if necessary. \n",
    "\n",
    "> **Note**: Once you have completed all of the code implementations, you need to finalize your work by exporting the iPython Notebook as an HTML document. Before exporting the notebook to html, all of the code cells need to have been run so that reviewers can see the final implementation and output. You can then export the notebook by using the menu above and navigating to  \\n\",\n",
    "    \"**File -> Download as -> HTML (.html)**. Include the finished document along with this notebook as your submission. \n",
    "\n",
    "In addition to implementing code, there is a writeup to complete. The writeup should be completed in a separate file, which can be either a markdown file or a pdf document. There is a [write up template](https://github.com/udacity/CarND-Traffic-Sign-Classifier-Project/blob/master/writeup_template.md) that can be used to guide the writing process. Completing the code template and writeup template will cover all of the [rubric points](https://review.udacity.com/#!/rubrics/481/view) for this project.\n",
    "\n",
    "The [rubric](https://review.udacity.com/#!/rubrics/481/view) contains \"Stand Out Suggestions\" for enhancing the project beyond the minimum requirements. The stand out suggestions are optional. If you decide to pursue the \"stand out suggestions\", you can include the code in this Ipython notebook and also discuss the results in the writeup file.\n",
    "\n",
    "\n",
    ">**Note:** Code and Markdown cells can be executed using the **Shift + Enter** keyboard shortcut. In addition, Markdown cells can be edited by typically double-clicking the cell to enter edit mode."
   ]
  },
  {
   "cell_type": "markdown",
   "metadata": {
    "deletable": true,
    "editable": true
   },
   "source": [
    "---\n",
    "## Step 0: Load The Data"
   ]
  },
  {
   "cell_type": "code",
   "execution_count": 25,
   "metadata": {
    "collapsed": false,
    "deletable": true,
    "editable": true
   },
   "outputs": [
    {
     "name": "stdout",
     "output_type": "stream",
     "text": [
      "Loading data from pickle file...\n",
      "Data loaded successfully\n"
     ]
    }
   ],
   "source": [
    "# Load pickled data\n",
    "import pickle\n",
    "\n",
    "# Folder to store training testing data\n",
    "data_path = \"./data/\"\n",
    "\n",
    "training_file = data_path + \"train.p\"\n",
    "validation_file = data_path + \"valid.p\"\n",
    "testing_file = data_path + \"test.p\"\n",
    "\n",
    "print(\"Loading data from pickle file...\")\n",
    "with open(training_file, mode='rb') as f:\n",
    "    train = pickle.load(f)\n",
    "with open(validation_file, mode='rb') as f:\n",
    "    valid = pickle.load(f)\n",
    "with open(testing_file, mode='rb') as f:\n",
    "    test = pickle.load(f)\n",
    "\n",
    "X_train, y_train = train['features'], train['labels']\n",
    "X_valid, y_valid = valid['features'], valid['labels']\n",
    "X_test, y_test = test['features'], test['labels']\n",
    "\n",
    "# Use assert to inform us if X and y have different length\n",
    "# (Quantity of data points)\n",
    "assert(len(X_train) == len(y_train))\n",
    "assert(len(X_valid) == len(y_valid))\n",
    "assert(len(X_test) == len(y_test))\n",
    "print(\"Data loaded successfully\")\n"
   ]
  },
  {
   "cell_type": "markdown",
   "metadata": {
    "deletable": true,
    "editable": true
   },
   "source": [
    "---\n",
    "\n",
    "## Step 1: Dataset Summary & Exploration\n",
    "\n",
    "The pickled data is a dictionary with 4 key/value pairs:\n",
    "\n",
    "- `'features'` is a 4D array containing raw pixel data of the traffic sign images, (num examples, width, height, channels).\n",
    "- `'labels'` is a 1D array containing the label/class id of the traffic sign. The file `signnames.csv` contains id -> name mappings for each id.\n",
    "- `'sizes'` is a list containing tuples, (width, height) representing the original width and height the image.\n",
    "- `'coords'` is a list containing tuples, (x1, y1, x2, y2) representing coordinates of a bounding box around the sign in the image. **THESE COORDINATES ASSUME THE ORIGINAL IMAGE. THE PICKLED DATA CONTAINS RESIZED VERSIONS (32 by 32) OF THESE IMAGES**\n",
    "\n",
    "Complete the basic data summary below. Use python, numpy and/or pandas methods to calculate the data summary rather than hard coding the results. For example, the [pandas shape method](http://pandas.pydata.org/pandas-docs/stable/generated/pandas.DataFrame.shape.html) might be useful for calculating some of the summary results. "
   ]
  },
  {
   "cell_type": "markdown",
   "metadata": {
    "deletable": true,
    "editable": true
   },
   "source": [
    "### Provide a Basic Summary of the Data Set Using Python, Numpy and/or Pandas"
   ]
  },
  {
   "cell_type": "code",
   "execution_count": 26,
   "metadata": {
    "collapsed": false,
    "deletable": true,
    "editable": true
   },
   "outputs": [
    {
     "name": "stdout",
     "output_type": "stream",
     "text": [
      "Data set statistics\n",
      "Number of training examples = 34799\n",
      "Number of testing examples = 12630\n",
      "Image data shape = (32, 32, 3)\n",
      "Number of classes = 43\n"
     ]
    }
   ],
   "source": [
    "# Replace each question mark with the appropriate value.\n",
    "# Use python, pandas or numpy methods rather than hard coding the results\n",
    "import pandas as pd\n",
    "\n",
    "# Number of training examples\n",
    "n_train = len(X_train)\n",
    "\n",
    "# Number of testing examples.\n",
    "n_test = len(X_test)\n",
    "\n",
    "# What's the shape of an traffic sign image?\n",
    "image_shape = X_train[0].shape\n",
    "\n",
    "# How many unique classes/labels there are in the dataset.\n",
    "# Use pandas to get unique labels from y_train\n",
    "\n",
    "df = pd.DataFrame({'label': y_train})\n",
    "n_classes = len(pd.unique(df.label))\n",
    "\n",
    "print(\"Data set statistics\")\n",
    "print(\"Number of training examples =\", n_train)\n",
    "print(\"Number of testing examples =\", n_test)\n",
    "print(\"Image data shape =\", image_shape)\n",
    "print(\"Number of classes =\", n_classes)"
   ]
  },
  {
   "cell_type": "markdown",
   "metadata": {
    "deletable": true,
    "editable": true
   },
   "source": [
    "### Include an exploratory visualization of the dataset"
   ]
  },
  {
   "cell_type": "markdown",
   "metadata": {
    "deletable": true,
    "editable": true
   },
   "source": [
    "Visualize the German Traffic Signs Dataset using the pickled file(s). This is open ended, suggestions include: plotting traffic sign images, plotting the count of each sign, etc.\n",
    "\n",
    "The [Matplotlib](http://matplotlib.org/) [examples](http://matplotlib.org/examples/index.html) and [gallery](http://matplotlib.org/gallery.html) pages are a great resource for doing visualizations in Python.\n",
    "\n",
    "**NOTE:** It's recommended you start with something simple first. If you wish to do more, come back to it after you've completed the rest of the sections."
   ]
  },
  {
   "cell_type": "code",
   "execution_count": 27,
   "metadata": {
    "collapsed": false,
    "deletable": true,
    "editable": true
   },
   "outputs": [
    {
     "name": "stdout",
     "output_type": "stream",
     "text": [
      "Below are samples from the training set.\n"
     ]
    },
    {
     "data": {
      "image/png": "[encoded data removed]",
      "text/plain": [
       "<matplotlib.figure.Figure at 0x7fc6399f3278>"
      ]
     },
     "metadata": {},
     "output_type": "display_data"
    }
   ],
   "source": [
    "# Code to show sample images from training set\n",
    "import matplotlib.pyplot as plt\n",
    "import random\n",
    "\n",
    "# Visualizations will be shown in the notebook.\n",
    "%matplotlib inline\n",
    "\n",
    "# Initialize random number generator to generate always same set of samples\n",
    "random.seed(a=1234)\n",
    "number_of_samples = 20\n",
    "\n",
    "# Here we generate list of random indexes which is used to pick up samples to\n",
    "sample_indices = [random.randint(0, len(X_train)) for i in range(number_of_samples)]\n",
    "\n",
    "print(\"Below are samples from the training set.\")\n",
    "\n",
    "\n",
    "def show_samples(indices, images, labels, cmap=None):\n",
    "    \"\"\"This functions shows sample images.\"\"\"\n",
    "    fig = plt.figure(figsize=(10, 8))\n",
    "    # i = is loop index; idx is sample index from \"sample_indices\"\n",
    "    for i, idx in enumerate(indices):\n",
    "        image = images[idx]\n",
    "        a = fig.add_subplot(5, 5, i+1)\n",
    "        if cmap == 'gray' or image.shape[2] == 1:\n",
    "            # Force grayscale image, squeze() is needed to show grayscale images\n",
    "            # with shape (x, y, 1)\n",
    "            plt.imshow(image.squeeze(), cmap='gray')\n",
    "        else:\n",
    "            # Try defaults as no color map is given\n",
    "            plt.imshow(image)\n",
    "        a.set_title(\"index: \" + str(idx) + \"\\nclass: \" + str(labels[idx]))\n",
    "    fig.tight_layout(w_pad=0.3, h_pad=0.5)\n",
    "\n",
    "show_samples(sample_indices, X_train, y_train)\n"
   ]
  },
  {
   "cell_type": "code",
   "execution_count": 4,
   "metadata": {
    "collapsed": false,
    "deletable": true,
    "editable": true
   },
   "outputs": [
    {
     "data": {
      "image/png": "[encoded data removed]",
      "text/plain": [
       "<matplotlib.figure.Figure at 0x7fc6745d3470>"
      ]
     },
     "metadata": {},
     "output_type": "display_data"
    }
   ],
   "source": [
    "# show histogram of traffic sign counts vs. class ids\n",
    "n, bins, patches = plt.hist(y_train, 43)\n",
    "\n",
    "plt.xlabel('Class IDs')\n",
    "plt.ylabel('Count')\n",
    "plt.title(\"Distribution of traffic signs among different classes.\")\n",
    "plt.grid(True)\n",
    "\n",
    "plt.show()"
   ]
  },
  {
   "cell_type": "markdown",
   "metadata": {
    "deletable": true,
    "editable": true
   },
   "source": [
    "----\n",
    "\n",
    "## Step 2: Design and Test a Model Architecture\n",
    "\n",
    "Design and implement a deep learning model that learns to recognize traffic signs. Train and test your model on the [German Traffic Sign Dataset](http://benchmark.ini.rub.de/?section=gtsrb&subsection=dataset).\n",
    "\n",
    "The LeNet-5 implementation shown in the [classroom](https://classroom.udacity.com/nanodegrees/nd013/parts/fbf77062-5703-404e-b60c-95b78b2f3f9e/modules/6df7ae49-c61c-4bb2-a23e-6527e69209ec/lessons/601ae704-1035-4287-8b11-e2c2716217ad/concepts/d4aca031-508f-4e0b-b493-e7b706120f81) at the end of the CNN lesson is a solid starting point. You'll have to change the number of classes and possibly the preprocessing, but aside from that it's plug and play! \n",
    "\n",
    "With the LeNet-5 solution from the lecture, you should expect a validation set accuracy of about 0.89. To meet specifications, the validation set accuracy will need to be at least 0.93. It is possible to get an even higher accuracy, but 0.93 is the minimum for a successful project submission. \n",
    "\n",
    "There are various aspects to consider when thinking about this problem:\n",
    "\n",
    "- Neural network architecture (is the network over or underfitting?)\n",
    "- Play around preprocessing techniques (normalization, rgb to grayscale, etc)\n",
    "- Number of examples per label (some have more than others).\n",
    "- Generate fake data.\n",
    "\n",
    "Here is an example of a [published baseline model on this problem](http://yann.lecun.com/exdb/publis/pdf/sermanet-ijcnn-11.pdf). It's not required to be familiar with the approach used in the paper but, it's good practice to try to read papers like these."
   ]
  },
  {
   "cell_type": "markdown",
   "metadata": {
    "deletable": true,
    "editable": true
   },
   "source": [
    "### Pre-process the Data Set\n",
    "\n",
    "Data should be optimized before it is fed to the neural network in order to: \n",
    "1. make it easier to train\n",
    "2. prevent overfitting\n",
    "3. and generally make it more suitable\n",
    "\n",
    "##### In my code there are following steps in pre-processing pipeline\n",
    "1. convert RGB to grayscale\n",
    "   - From grayscale image we are able to extract most of the features\n",
    "   - Reduce amount of data needed by 3 times\n",
    "   - It is easier to work with grayscale images\n",
    "2. Adjust mean to zero\n",
    "   - Zero mean of data helps neural net to train faster and better\n",
    "3. Limit range to -1...1\n",
    "   - by adjusting range of values around 0 it is possible to have zero mean\n",
    "   - But also it prevents data values going too large which would cause problems when neural net is trained\n"
   ]
  },
  {
   "cell_type": "markdown",
   "metadata": {
    "deletable": true,
    "editable": true
   },
   "source": [
    "Use the code cell (or multiple code cells, if necessary) to implement the first step of your project."
   ]
  },
  {
   "cell_type": "code",
   "execution_count": 30,
   "metadata": {
    "collapsed": false,
    "deletable": true,
    "editable": true
   },
   "outputs": [],
   "source": [
    "# Preprocess the data here. Preprocessing steps could include \n",
    "# normalization, converting to grayscale, etc.\n",
    "\n",
    "import numpy as np\n",
    "\n",
    "def preprocess_tensor_grayscale(tensor_4d):\n",
    "    \"\"\"\n",
    "    This function makes simple RGB to grayscale conversion by calculating\n",
    "    mean of color channels.\n",
    "    \"\"\"\n",
    "    # TODO: replace below array sum and division operations with np.mean()\n",
    "    # 0.0 in beginning is for changing data type to float\n",
    "    X = (0.0 + tensor_4d[:, :, :, 0]\n",
    "             + tensor_4d[:, :, :, 1]\n",
    "             + tensor_4d[:, :, :, 2])\n",
    "    X = X / 3.\n",
    "    X = X.reshape(X.shape + (1,))\n",
    "    return X\n",
    "\n",
    "def preprocess_tensor_adjust_mean(tensor_4d):\n",
    "    \"\"\"\n",
    "    This functions adjusts image mean to very near zero.\n",
    "    @params\n",
    "    @x is 4D tensor\n",
    "    @returns 4D tensor where individual images are adjusted to have zero mean\n",
    "    \"\"\"\n",
    "    # Calculate mean and reshape result array to shape (50, 1)\n",
    "    mean = np.mean(tensor_4d, axis=(1, 2, 3))\n",
    "    mean = mean.reshape(mean.shape + (1, ))\n",
    "    # This is needed when we convert array back to it's original shape\n",
    "    original_shape = tensor_4d.shape\n",
    "    # Modify array shape so that we get shape which is (N, img_x*img_y)\n",
    "    # i.ie input shape is (50,32,32,1) then we convert it to (50, 1024)\n",
    "    # This will make it easier to apply following subtract operations on array\n",
    "    X = np.reshape(tensor_4d, (original_shape[0], original_shape[1]**2))\n",
    "    # Finally we can subtract mean from array to adjust\n",
    "    # it's mean very near to zero\n",
    "    X = np.subtract(X[:], mean)\n",
    "    # Convert array shape (N, (img_x*img_y)) back to original tensor shape\n",
    "    X = X.reshape(original_shape)\n",
    "    return X\n",
    "\n",
    "def preprocess_tensor_adjust_range(tensor_4d):\n",
    "    \"\"\"\n",
    "    This functions adjusts the range of image to -1...1\n",
    "    input is 4d tensor which is already adjusted to zero mean.\n",
    "    returns 4d sensor where images maximum range is limited to -1...1\n",
    "    \"\"\"\n",
    "    # Record tensor's original shape. It is needed when we convert array \n",
    "    # back to it's original shape\n",
    "    original_shape = tensor_4d.shape\n",
    "    # Modify array shape so that we get shape which is (N, img_x*img_y)\n",
    "    # i.ie input shape is (50,32,32,1) then we convert it to (50, 1024)\n",
    "    # This will make it easier to apply following subtract operations on array\n",
    "    reshaped = np.reshape(tensor_4d, (original_shape[0], original_shape[1]**2))\n",
    "    # Find absolute maximum of each image\n",
    "    maximum = np.amax(reshaped, axis=1, keepdims=True)\n",
    "    minimum = np.amin(reshaped, axis=1, keepdims=True)\n",
    "    abs_max = np.amax((np.abs(maximum), np.abs(minimum)), axis=0)\n",
    "    # Adjust range to -1...1\n",
    "    reshaped = reshaped / abs_max\n",
    "    # Convert array shape (N, (img_x*img_y)) back to original tensor shape\n",
    "    reshaped = reshaped.reshape(original_shape)\n",
    "    return reshaped\n",
    "    \n",
    "\n",
    "def preprocess_tensor(tensor_4d):\n",
    "    \"\"\"\n",
    "    This function preprocesses image tensor.\n",
    "    1. convert RGB to grayscale\n",
    "    2. Adjust mean to zero\n",
    "    3. Limit range to -1...1\n",
    "    \"\"\"\n",
    "    if tensor_4d.shape[3] == 3:\n",
    "        tensor_4d = preprocess_tensor_grayscale(tensor_4d)\n",
    "        tensor_4d = preprocess_tensor_adjust_mean(tensor_4d)\n",
    "        tensor_4d = preprocess_tensor_adjust_range(tensor_4d)\n",
    "    return tensor_4d\n",
    "\n"
   ]
  },
  {
   "cell_type": "markdown",
   "metadata": {},
   "source": [
    "#### Pre-process Training, Validation and Test sets\n",
    "\n",
    "Following code runs preprocessing pipeline to all data sets. Images shown below are from same traffic signs than in data exploration step."
   ]
  },
  {
   "cell_type": "code",
   "execution_count": 31,
   "metadata": {
    "collapsed": false
   },
   "outputs": [
    {
     "data": {
      "image/png": "[encoded data removed]",
      "text/plain": [
       "<matplotlib.figure.Figure at 0x7fc639276048>"
      ]
     },
     "metadata": {},
     "output_type": "display_data"
    }
   ],
   "source": [
    "# Preprocess images here\n",
    "X_train = preprocess_tensor(X_train)\n",
    "X_valid = preprocess_tensor(X_valid)\n",
    "X_test  = preprocess_tensor(X_test)\n",
    "# Show same samples as in color images above\n",
    "show_samples(sample_indices, X_train, y_train)"
   ]
  },
  {
   "cell_type": "markdown",
   "metadata": {
    "deletable": true,
    "editable": true
   },
   "source": [
    "## Data augmentation\n",
    "\n",
    "Even though there are plenty of training data available in order to prevent over fitting and traing model to generalize better.\n",
    "\n",
    "### Rotation\n",
    "\n",
    "First step in data augmentation is to rotate images by: -20, -10, 10 and 20 degrees and then add these 4 additional images to training set besides the original.\n",
    "\n",
    "<figure>\n",
    " <img src=\"./illustrations/data_rotation.png\" width=\"380\" alt=\"Data augmentation by rotating\" />\n",
    " <figcaption>\n",
    " <p></p> \n",
    " <p style=\"text-align: center;\"> Data is first rotated </p> \n",
    " </figcaption>\n",
    "</figure>\n",
    " <p></p> \n",
    "\n",
    "### Shifting\n",
    "\n",
    "Next step is to shift images 5 pixels into each directions.\n",
    "\n",
    "<figure>\n",
    " <img src=\"./illustrations/data_augmentation_shift.png\" width=\"380\" alt=\"Data augmentation by shifting\" />\n",
    " <figcaption>\n",
    " <p></p> \n",
    " <p style=\"text-align: center;\">Images are shifted by 5 pixels</p> \n",
    " </figcaption>\n",
    "</figure>\n",
    " <p></p> "
   ]
  },
  {
   "cell_type": "code",
   "execution_count": 38,
   "metadata": {
    "collapsed": false,
    "deletable": true,
    "editable": true
   },
   "outputs": [
    {
     "name": "stdout",
     "output_type": "stream",
     "text": [
      "Loading augmented data from file....\n",
      "Total number of training samples is 1565955\n",
      "Preprocess augmented data...\n",
      "Done\n"
     ]
    }
   ],
   "source": [
    "### Data augmentation \n",
    "import numpy as np\n",
    "from scipy import ndimage\n",
    "# For progress bar\n",
    "from ipywidgets import FloatProgress, Text\n",
    "from IPython.display import display\n",
    "\n",
    "\n",
    "# Define whether we load augmented images from pickle file, This saves several minutes\n",
    "GENERATE_AUGMENTED_DATA = False\n",
    "# Set to true if you want to load augmented training data from file\n",
    "LOAD_AUGMENTED_FROM_FILE = True\n",
    "\n",
    "    \n",
    "def augment_data(x, y, progressbar):\n",
    "    \"\"\"\n",
    "    This function augments training data by doing following transformations\n",
    "    - Rotate image -20, -10, +10, +20 degrees\n",
    "    - Shift image 5 pixels in 8 directions\n",
    "    \n",
    "    WARNING! it'll take long time to run this function with data sets more than few hundred samples. \n",
    "    TODO: Optimize data augmentation\n",
    "    \"\"\"\n",
    "    x_rotated, y_rotated = [], []\n",
    "    xy_shifts = [( 0, 0,0), ( 0,-5,0), ( 0,5,0), \n",
    "                 (-5,-5,0), (-5, 0,0), (-5,5,0), \n",
    "                 ( 5,-5,0), ( 5, 0,0), ( 5,5,0)]\n",
    "    rotations = [-20, -10, 0, 10, 20]\n",
    "    nsamples = len(x)\n",
    "    progressbar.max = nsamples * len(rotations)\n",
    "    progressbar.description = \"Rotating\"\n",
    "    for image, label in zip(x[:nsamples], y[:nsamples]):\n",
    "        for degree in rotations:\n",
    "            #image_array.append(rotate_image(image, degree))\n",
    "            x_rotated.append(ndimage.rotate(image, degree, reshape=False))\n",
    "            y_rotated.append(label)\n",
    "            progressbar.value += 1\n",
    "    x_shifted, y_shifted = [], [] \n",
    "    progressbar.max = len(x_rotated) * len(xy_shifts)\n",
    "    progressbar.value = 0\n",
    "    progressbar.description = \"Shifting\"\n",
    "    for image, label in zip(x_rotated, y_rotated):\n",
    "        for shift in xy_shifts:\n",
    "            shifted = ndimage.shift(image, shift, mode='nearest')\n",
    "            x_shifted.append(shifted)\n",
    "            y_shifted.append(label)\n",
    "            progressbar.value += 1\n",
    "    progressbar.description = \"Done\"\n",
    "    return np.array(x_shifted), np.array(y_shifted)\n",
    "    \n",
    "if GENERATE_AUGMENTED_DATA:\n",
    "    progressbar = FloatProgress(min=0)\n",
    "    display(progressbar)\n",
    "    X_train_augmented, y_train_augmented = augment_data(X_train, y_train, progressbar)\n",
    "    show_samples(range(2000,2025), X_train_augmented, y_train_augmented, cmap='gray')\n",
    "\n",
    "    progressbar.description = \"Saving\"\n",
    "    with open(\"./data/augmented_training_data.pickle\", \"wb\") as f:\n",
    "        data_dict = {}\n",
    "        data_dict[\"X_train\"] = X_train_augmented\n",
    "        data_dict[\"y_train\"] = y_train_augmented\n",
    "        pickle.dump(data_dict, f, pickle.HIGHEST_PROTOCOL)\n",
    "    \n",
    "    progressbar.description = \"Done\"\n",
    "    # Temporarily free memory, later augmented data is loaded from file\n",
    "    X_train_augmented, y_train_augmented = None, None\n",
    "\n",
    "def load_augmented_data():\n",
    "    with open(\"./data/augmented_training_data.pickle\", 'rb') as f:\n",
    "        # The protocol version used is detected automatically, \n",
    "        # so we do not have to specify it.\n",
    "        data = pickle.load(f)\n",
    "        # print(\"Total number of training samples is {}\".format(len(X_train)))\n",
    "        return data[\"X_train\"], data[\"y_train\"]\n",
    "\n",
    "\n",
    "if LOAD_AUGMENTED_FROM_FILE:\n",
    "    infotext.value = \"Loading augmented data...\"\n",
    "    print(\"Loading augmented data from file....\")\n",
    "    X_train, y_train = load_augmented_data()\n",
    "    print(\"Total number of training samples is {}\".format(len(X_train)))\n",
    "    print(\"Preprocess augmented data...\")\n",
    "    X_train = preprocess_tensor(X_train)\n",
    "    print(\"Done\")"
   ]
  },
  {
   "cell_type": "markdown",
   "metadata": {
    "deletable": true,
    "editable": true
   },
   "source": [
    "### Model Architecture\n",
    "\n",
    "Model consist of single-stage deep neural network where are 6 convolutional layers and 3 fully connected layers. Model structure is explained in below image.\n",
    "\n",
    "<figure>\n",
    " <img src=\"./illustrations/model.png\" width=\"1024\" alt=\"LareNet-6\" />\n",
    " <figcaption>\n",
    " <p></p> \n",
    " <p style=\"text-align: center;\">LareNet-6 Model</p> \n",
    " </figcaption>\n",
    "</figure>\n",
    " <p></p> "
   ]
  },
  {
   "cell_type": "code",
   "execution_count": 39,
   "metadata": {
    "collapsed": false,
    "deletable": true,
    "editable": true
   },
   "outputs": [],
   "source": [
    "### Define your architecture here.\n",
    "### Feel free to use as many code cells as needed.\n",
    "\n",
    "import tensorflow as tf\n",
    "from tensorflow.contrib.layers import flatten\n",
    "\n",
    "\n",
    "#Define dropout rate\n",
    "keep_prob = tf.placeholder(tf.float32, name=\"keep_prob\")\n",
    "# Learning rate decay\n",
    "global_step = tf.Variable(0, trainable=False, name=\"global_step\")\n",
    "starter_learning_rate = 0.0001\n",
    "learning_rate = tf.train.exponential_decay(starter_learning_rate, global_step,\n",
    "                                          100000, 0.90, staircase=True, name=\"learning_rate_decay\")\n",
    "# Features and labels\n",
    "x = tf.placeholder(tf.float32, (None, 32, 32, 1), name=\"x\")\n",
    "y = tf.placeholder(tf.int32, (None), name=\"y\")\n",
    "\n",
    "def LareNet_6(x):\n",
    "    \"\"\"\n",
    "    LareNet-6 model, 9-layers\n",
    "    \"\"\"\n",
    "    \n",
    "    # Arguments used for tf.truncated_normal, randomly defines variables for the weights and biases for each layer\n",
    "    mu = 0\n",
    "    sigma = 0.1\n",
    "    \n",
    "    # Layer 1: Convolutional. Input = 32x32x1. Output = 30x30x10. (3 channels x 3 = 9)\n",
    "    #          Each color channel is individually filtered 3 times\n",
    "    conv1_W = tf.Variable(tf.truncated_normal(shape=(3,3,1,10), mean = mu, stddev=sigma), name=\"L1_conv1_W\")\n",
    "    conv1_b = tf.Variable(tf.zeros(10), name=\"L1_conv1_b\")\n",
    "    conv1   = tf.nn.conv2d(x, conv1_W, strides=[1,1,1,1], padding='VALID', name=\"L1_conv1\") + conv1_b\n",
    "    # Activation.\n",
    "    conv1 = tf.nn.relu(conv1, name=\"L1_activation\")\n",
    "    # Pooling. Input = 30x30x10. Output = 15x15x10.\n",
    "    conv1 = tf.nn.max_pool(conv1, ksize=[1,2,2,1], strides=[1,2,2,1], padding='VALID', name=\"L1_pooling\")\n",
    "    \n",
    "    \n",
    "    # Layer 2: Convolutional. Input = 15x15x10, Output = 13x13x20.\n",
    "    conv2_W = tf.Variable(tf.truncated_normal(shape=(3,3,10,20), mean = mu, stddev = sigma), name=\"L2_conv2_W\")\n",
    "    conv2_b = tf.Variable(tf.zeros(20), name=\"L2_conv2_b\")\n",
    "    conv2   = tf.nn.conv2d(conv1, conv2_W, strides=[1,1,1,1], padding='VALID', name=\"L2_conv2\") + conv2_b\n",
    "    # Activation.\n",
    "    conv2 = tf.nn.relu(conv2, name=\"L2_activation\")\n",
    "    \n",
    "    \n",
    "    # Layer 3: Convolutional. Input = 13x13x20, Output = 11x11x32.\n",
    "    conv3_W = tf.Variable(tf.truncated_normal(shape=(3,3,20,32), mean = mu, stddev = sigma))\n",
    "    conv3_b = tf.Variable(tf.zeros(32))\n",
    "    conv3   = tf.nn.conv2d(conv2, conv3_W, strides=[1,1,1,1], padding='VALID') + conv3_b\n",
    "    # Activation.\n",
    "    conv3 = tf.nn.relu(conv3)\n",
    "    \n",
    "    \n",
    "    # Layer 4: Convolutional. Input = 11x11x32, Output = 9x9x48.\n",
    "    conv4_W = tf.Variable(tf.truncated_normal(shape=(3,3,32,48), mean = mu, stddev = sigma))\n",
    "    conv4_b = tf.Variable(tf.zeros(48))\n",
    "    conv4   = tf.nn.conv2d(conv3, conv4_W, strides=[1,1,1,1], padding='VALID') + conv4_b\n",
    "    # Activation.\n",
    "    conv4 = tf.nn.relu(conv4)\n",
    "\n",
    "\n",
    "    # Layer 5: Convolutional. Input = 9x9x48, Output = 7x7x64.\n",
    "    conv5_W = tf.Variable(tf.truncated_normal(shape=(3,3,48,64), mean = mu, stddev = sigma))\n",
    "    conv5_b = tf.Variable(tf.zeros(64))\n",
    "    conv5   = tf.nn.conv2d(conv4, conv5_W, strides=[1,1,1,1], padding='VALID') + conv5_b\n",
    "    # Activation.\n",
    "    conv5 = tf.nn.relu(conv5)\n",
    "    \n",
    "    \n",
    "    # Layer 6: Convolutional. Input = 7x7x64, Output = 5x5x128.\n",
    "    conv6_W = tf.Variable(tf.truncated_normal(shape=(3,3,64,128), mean = mu, stddev = sigma))\n",
    "    conv6_b = tf.Variable(tf.zeros(128))\n",
    "    conv6   = tf.nn.conv2d(conv5, conv6_W, strides=[1,1,1,1], padding='VALID') + conv6_b\n",
    "    # Activation.\n",
    "    conv6 = tf.nn.relu(conv6)\n",
    "\n",
    "    # Layer 7-A: Flattening + dropout\n",
    "    # Flatten. Input = 5x5x96. Output = 3200.\n",
    "    fc0 = flatten(conv6)\n",
    "    # Dropout for fully connected layer\n",
    "    fc0_drop = tf.nn.dropout(fc0, keep_prob)\n",
    "    \n",
    "    # Layer 7-B: Fully Connected. Input = 3200. Output = 1024.\n",
    "    fc1_W = tf.Variable(tf.truncated_normal(shape=(3200,1024), mean = mu, stddev = sigma))\n",
    "    fc1_b = tf.Variable(tf.zeros(1024))\n",
    "    fc1   = tf.matmul(fc0_drop, fc1_W) + fc1_b\n",
    "    # Activation.\n",
    "    fc1 = tf.nn.relu(fc1)\n",
    "    #fc1 = tf.nn.sigmoid(fc1)\n",
    "    # Dropout for fully connected layer\n",
    "    fc1_drop = tf.nn.dropout(fc1, keep_prob)\n",
    "\n",
    "    \n",
    "    # Layer 8: Fully Connected. Input = 1024. Output = 512.\n",
    "    fc2_W = tf.Variable(tf.truncated_normal(shape=(1024,512), mean = mu, stddev = sigma))\n",
    "    fc2_b = tf.Variable(tf.zeros(512))\n",
    "    fc2   = tf.matmul(fc1_drop, fc2_W) + fc2_b\n",
    "    # Activation.\n",
    "    fc2 = tf.nn.relu(fc2)\n",
    "    # Dropout for fully connected layer\n",
    "    fc2_drop = tf.nn.dropout(fc2, keep_prob)\n",
    "\n",
    "    \n",
    "    # Layer 9: Fully Connected. Input = 512. Output = 43.\n",
    "    # n_classes is Number of traffic sign classes\n",
    "    fc3_W = tf.Variable(tf.truncated_normal(shape=(512, n_classes), mean = mu, stddev = sigma))\n",
    "    fc3_b = tf.Variable(tf.zeros(n_classes))\n",
    "    logits = tf.matmul(fc2_drop, fc3_W) + fc3_b\n",
    "    return logits\n"
   ]
  },
  {
   "cell_type": "code",
   "execution_count": 40,
   "metadata": {
    "collapsed": false,
    "deletable": true,
    "editable": true
   },
   "outputs": [],
   "source": [
    "# n_classes is Number of traffic sign classes\n",
    "one_hot_y = tf.one_hot(y, n_classes, name=\"one_hot_y\")\n",
    "\n",
    "# Training pipeline\n",
    "logits = LareNet_6(x)\n",
    "cross_entropy = tf.nn.softmax_cross_entropy_with_logits(logits=logits, labels=one_hot_y, name=\"cross_entropy\")\n",
    "loss_operation = tf.reduce_mean(cross_entropy, name=\"loss_operation\")\n",
    "optimizer = tf.train.AdamOptimizer(learning_rate = learning_rate, name=\"optimizer\")\n",
    "training_operation = optimizer.minimize(loss_operation, global_step=global_step, name=\"training_operation\")\n"
   ]
  },
  {
   "cell_type": "code",
   "execution_count": 41,
   "metadata": {
    "collapsed": true,
    "deletable": true,
    "editable": true
   },
   "outputs": [],
   "source": [
    "# Model evaluation\n",
    "correct_prediction = tf.equal(tf.argmax(logits, 1), tf.argmax(one_hot_y, 1), name=\"correct_prediction\")\n",
    "accuracy_operation = tf.reduce_mean(tf.cast(correct_prediction, tf.float32), name=\"accuracy_operation\")\n",
    "\n",
    "\n",
    "def evaluate(X_data, y_data):\n",
    "    num_examples = len(X_data)\n",
    "    total_accuracy = 0\n",
    "    sess = tf.get_default_session()\n",
    "    for offset in range(0, num_examples, BATCH_SIZE):\n",
    "        batch_x, batch_y = X_data[offset:offset+BATCH_SIZE], y_data[offset:offset+BATCH_SIZE]\n",
    "        accuracy = sess.run(accuracy_operation, feed_dict={x: batch_x, y: batch_y, keep_prob:1.0})\n",
    "        total_accuracy += (accuracy * len(batch_x))\n",
    "    return total_accuracy / num_examples"
   ]
  },
  {
   "cell_type": "markdown",
   "metadata": {
    "deletable": true,
    "editable": true
   },
   "source": [
    "### Train, Validate and Test the Model\n",
    "\n",
    "Model was trained by using augmented training set, number of **epochs** were 100 and batch size 512. I had to limit batch size 512 due to my new GPU was crashing if batch size was bigger. I believe that was due to problems related to GPU utilization rate.\n",
    "\n",
    "I used the standard Adam-Optimizer which was used also in LeNet exercise. Though there were few papers which recommended Stochastic Gradient Descent (SGD) - optimizer over Adam-optimizer, because SGD was able to achieve higher accuracy. Generally Adam-optimizer is faster than SGD so i selected it because in my case time is money and i needed results fast.\n",
    "\n",
    "I used decaying learning rate as defined below\n",
    "```python\n",
    "starter_learning_rate = 0.0005\n",
    "learning_rate = tf.train.exponential_decay(starter_learning_rate, global_step,\n",
    "                                          100000, 0.90, staircase=True, name=\"learning_rate_decay\")\n",
    "```\n",
    "\n",
    "**start learning** rate was set to 0.0005 which seem to work quite well in my case and **decay rate** was set ti 0.9.\n",
    "\n",
    "#### Final Results\n",
    "- Training Accuracy = 1.000\n",
    "- Validation Accuracy = 0.993\n",
    "- Test Accuracy = 0.974\n",
    "\n",
    "These results were achieved with following hyperparameters\n",
    "- Epochs 100\n",
    "- start-learning rate 0.0002\n",
    "- learning rate decay 0.90\n",
    "- keep-prob 0.5\n",
    "\n",
    "As we can see from results there might be small signs of over fitting because model can't generalize well on test set.\n",
    "\n",
    "Training took totally 6001 seconds for 100 epochs and on average it took 60.01 seconds / epoch.\n",
    "\n",
    "#### Others\n",
    "I have been trying different approaches to the problem and in beginning i was using un-processed RGB images which i fed directly to neural network. That network was also quite deep as there were 8 layers. It was almost same than than final model except that the convolutional layers were more deep because of 3 color channels and first fully connected layer was quite wide, almost 8000 neurons. Anyhow it achieved +98% accuracy on validation set, but was bit heavy.\n",
    "\n",
    "In order to optimize things i switched to grayscale images and bit light weight model (LareNet-6) this seems to be working quite ok on test set.\n",
    "\n",
    "Then have to keep in mind that achiecing +99.5% needs different approach, perhaps multi-stack net where input image has grayscale and color information. Also pre-processing needs some other improvments for image contrast and lightness control."
   ]
  },
  {
   "cell_type": "markdown",
   "metadata": {
    "deletable": true,
    "editable": true
   },
   "source": [
    "A validation set can be used to assess how well the model is performing. A low accuracy on the training and validation\n",
    "sets imply underfitting. A high accuracy on the training set but low accuracy on the validation set implies overfitting."
   ]
  },
  {
   "cell_type": "code",
   "execution_count": 42,
   "metadata": {
    "collapsed": false,
    "deletable": true,
    "editable": true
   },
   "outputs": [
    {
     "name": "stdout",
     "output_type": "stream",
     "text": [
      "Training data is divided into 1529 batches.\n",
      "Training took totally 845 seconds for 15 epochs and on average it took 56.31 seconds / epoch\n",
      "\n",
      "Final training accuracy is 0.997\n",
      "Final validation accuracy is 0.972\n"
     ]
    },
    {
     "data": {
      "image/png": "[encoded data removed]",
      "text/plain": [
       "<matplotlib.figure.Figure at 0x7fc5cc182470>"
      ]
     },
     "metadata": {},
     "output_type": "display_data"
    },
    {
     "name": "stdout",
     "output_type": "stream",
     "text": [
      "Model saved as  ./larenet_6\n"
     ]
    }
   ],
   "source": [
    "### Train your model here.\n",
    "### Calculate and report the accuracy on the training and validation set.\n",
    "### Once a final model architecture is selected, \n",
    "### the accuracy on the test set should be calculated and reported as well.\n",
    "### Feel free to use as many code cells as needed.\n",
    "\n",
    "\n",
    "# Set to True if you want to train the model as training will take a long time it's better to load model from file.\n",
    "TRAIN_MODEL = True\n",
    "if TRAIN_MODEL:\n",
    "    from sklearn.utils import shuffle\n",
    "    import pickle\n",
    "    # For progress bar\n",
    "    from ipywidgets import FloatProgress, Text\n",
    "    from IPython.display import display\n",
    "    # Needed for timing\n",
    "    import time\n",
    "\n",
    "    #Initialize progress bar\n",
    "    progressbar_batch = FloatProgress(min=0, description='Batch')\n",
    "    progressbar_epoch = FloatProgress(min=0, description='Epoch')\n",
    "    infotext = Text()\n",
    "    display(progressbar_batch)\n",
    "    display(progressbar_epoch)\n",
    "    display(infotext)\n",
    "\n",
    "    # Preprocess images here\n",
    "    infotext.value = \"Preprocessing images\"\n",
    "    X_train = preprocess_tensor(X_train)\n",
    "    X_valid = preprocess_tensor(X_valid)\n",
    "\n",
    "    # Training the model\n",
    "    validationaccuracylog = [] # store validation accuracies into this list from each EPOCH\n",
    "    trainingaccuracylog = [] # store training accuracies into this list from each EPOCH\n",
    "    epochlog = []  # Store information of epoch # when validation have been done\n",
    "    validation_accuracy = 0\n",
    "    training_accuracy = 0\n",
    "    EPOCHS = 15\n",
    "    BATCH_SIZE = 1024\n",
    "    VALIDATION_INTERVALL = 3  # Defines how often accuracy is validated\n",
    "\n",
    "    saver = tf.train.Saver()\n",
    "    infotext.value = \"Opening Session...\"\n",
    "    with tf.Session() as sess:\n",
    "        start = time.time()\n",
    "        progressbar_epoch.max = EPOCHS\n",
    "        sess.run(tf.global_variables_initializer())\n",
    "        num_examples = len(X_train)\n",
    "        num_batches = num_examples/BATCH_SIZE\n",
    "        progressbar_batch.max = num_batches\n",
    "        print(\"Training data is divided into {:d} batches.\".format(int(num_batches)))\n",
    "        infotext.value = \"Training...\"\n",
    "        for i in range(EPOCHS):\n",
    "            X_train, y_train = shuffle(X_train, y_train)\n",
    "            nbatch = 0\n",
    "            progressbar_batch.value = 0\n",
    "            for offset in range(0, num_examples, BATCH_SIZE):\n",
    "                end = offset + BATCH_SIZE\n",
    "                nbatch += 1\n",
    "                progressbar_batch.value = nbatch\n",
    "                batch_x, batch_y = X_train[offset:end], y_train[offset:end]\n",
    "                sess.run(training_operation, feed_dict={x: batch_x, y: batch_y, keep_prob:0.50})\n",
    "            if (i + 1)  % VALIDATION_INTERVALL == 0 or i == 0: # Validate on defined intervals\n",
    "                infotext.value  = \"Validating\"\n",
    "                validation_accuracy = evaluate(X_valid, y_valid)\n",
    "                training_accuracy = evaluate(X_train, y_train)\n",
    "                validationaccuracylog.append(validation_accuracy)\n",
    "                trainingaccuracylog.append(training_accuracy)\n",
    "                epochlog.append(int(i))\n",
    "            progressbar_epoch.value += 1\n",
    "            infotext.value = \"Last validation at EPOCH {} with acc. {:.3f}.\".format(epochlog[-1] + 1, validation_accuracy) \n",
    "        stop = time.time()\n",
    "        infotext.value = \"Training is Finished\"\n",
    "        print(\"Training took totally {:.0f} seconds for {} epochs \\\n",
    "and on average it took {:.2f} seconds / epoch\".format(stop-start, EPOCHS, (stop-start)/EPOCHS))\n",
    "        print()\n",
    "        print(\"Final training accuracy is {:.3f}\".format(training_accuracy))\n",
    "        print(\"Final validation accuracy is {:.3f}\".format(validation_accuracy))\n",
    "        plt.plot(epochlog, validationaccuracylog,  'g-', label='Validation Accuracy')\n",
    "        plt.plot(epochlog, trainingaccuracylog,    'r-', label=\"Training Accuracy\")\n",
    "        plt.legend()\n",
    "        plt.xlabel('Epoch')\n",
    "        plt.ylabel('Accuracy')\n",
    "        plt.title(\"Training and Validation accuracy development\")\n",
    "        plt.show()\n",
    "        model_file_name = './larenet_6'\n",
    "        saver.save(sess, model_file_name)\n",
    "        tf.train.export_meta_graph(model_file_name + '.meta')\n",
    "        print(\"Model saved as \", model_file_name)"
   ]
  },
  {
   "cell_type": "code",
   "execution_count": 43,
   "metadata": {
    "collapsed": false,
    "deletable": true,
    "editable": true
   },
   "outputs": [
    {
     "name": "stdout",
     "output_type": "stream",
     "text": [
      "Preprocessing  data....\n",
      "\tTraining data  (1565955, 32, 32, 1)\n",
      "\tValidation data  (4410, 32, 32, 1)\n",
      "\tTesting data  (12630, 32, 32, 1)\n",
      "Importing model...\n",
      "Model loaded...\n",
      "Evaluating model...\n",
      "\n",
      "\n",
      "These results are calculated by using saved model.\n",
      "\tTraining Accuracy = 0.997\n",
      "\tValidation Accuracy = 0.972\n",
      "\tTest Accuracy = 0.955\n"
     ]
    }
   ],
   "source": [
    "# Load model from file and run evaluation for training, validation and test sets\n",
    "# Note! It might be needed to restart kernel and run all above cells WITHOUT training\n",
    "import tensorflow as tf\n",
    "import numpy as np\n",
    "\n",
    "\n",
    "print(\"Preprocessing  data....\")\n",
    "X_train = preprocess_tensor(X_train)\n",
    "X_valid = preprocess_tensor(X_valid)\n",
    "X_test  = preprocess_tensor(X_test)\n",
    "print(\"\\tTraining data \", X_train.shape)\n",
    "print(\"\\tValidation data \", X_valid.shape)\n",
    "print(\"\\tTesting data \", X_test.shape)\n",
    "\n",
    "\n",
    "BATCH_SIZE = 512\n",
    "with tf.Session() as sess:\n",
    "    # Preprocess data if needed\n",
    "    \n",
    "    \n",
    "    print(\"Importing model...\")\n",
    "    loader = tf.train.Saver()\n",
    "    # loader = tf.train.import_meta_graph('./larenet_6.meta', clear_devices=True)\n",
    "    loader.restore(sess, \"./larenet_6\")\n",
    "    # tf variables need to be initialized first\n",
    "    print(\"Model loaded...\")\n",
    "    #init = tf.global_variables_initializer()\n",
    "    #sess.run(init)\n",
    "    \n",
    "    # Run model evaluation with train, valida and test sets\n",
    "    print(\"Evaluating model...\")\n",
    "    training_accuracy = evaluate(X_train, y_train)\n",
    "    validation_accuracy = evaluate(X_valid, y_valid)\n",
    "    test_accuracy = evaluate(X_test, y_test)\n",
    "    print(\"\\n\\nThese results are calculated by using saved model.\")\n",
    "    print(\"\\tTraining Accuracy = {:.3f}\".format(training_accuracy))\n",
    "    print(\"\\tValidation Accuracy = {:.3f}\".format(validation_accuracy))\n",
    "    print(\"\\tTest Accuracy = {:.3f}\".format(test_accuracy))\n"
   ]
  },
  {
   "cell_type": "markdown",
   "metadata": {
    "deletable": true,
    "editable": true
   },
   "source": [
    "---\n",
    "\n",
    "## Step 3: Test a Model on New Images\n",
    "\n",
    "To give yourself more insight into how your model is working, download at least five pictures of German traffic signs from the web and use your model to predict the traffic sign type.\n",
    "\n",
    "You may find `signnames.csv` useful as it contains mappings from the class id (integer) to the actual sign name."
   ]
  },
  {
   "cell_type": "code",
   "execution_count": null,
   "metadata": {
    "collapsed": false,
    "deletable": true,
    "editable": true
   },
   "outputs": [],
   "source": [
    "# Load sign class numbers and descriptions from file\n",
    "import csv\n",
    "# Dictionary mapping where key is sign's class and value is it's description\n",
    "sign_names = {}\n",
    "with open('signnames.csv', newline='') as csvfile:\n",
    "    for row in csv.DictReader(csvfile, delimiter=','):\n",
    "        sign_names[int(row['ClassId'])] = row['SignName']"
   ]
  },
  {
   "cell_type": "markdown",
   "metadata": {
    "deletable": true,
    "editable": true
   },
   "source": [
    "### Load and Output the Images"
   ]
  },
  {
   "cell_type": "code",
   "execution_count": null,
   "metadata": {
    "collapsed": false,
    "deletable": true,
    "editable": true
   },
   "outputs": [],
   "source": [
    "# Load the images and plot them here.\n",
    "# Feel free to use as many code cells as needed.\n",
    "# import tensorflow as tf\n",
    "\n",
    "import os, fnmatch\n",
    "from scipy import misc\n",
    "import numpy as np\n",
    "\n",
    "test_img_path = \"./test_images/\" # Test images are stored here\n",
    "\n",
    "X_test_images = []\n",
    "y_test_images = []\n",
    "# Load image filenames and ClassIds from CSV file\n",
    "with open(test_img_path + \"test_images.csv\", newline='') as csvfile:\n",
    "    headers = next(csvfile, None)\n",
    "    for row in csv.reader(csvfile, delimiter=','):\n",
    "        #sign_names[int(row['ClassId'])] = row['SignName']\n",
    "        img = misc.imread(test_img_path + row[0])\n",
    "        shape = img.shape\n",
    "        # Ensure that image has correct shape\n",
    "        assert(shape == (32, 32, 3)), \"Shape of image file {} is {}, but (32, 32, 3) was expected\".format(row[0], shape)\n",
    "        X_test_images.append(img)\n",
    "        y_test_images.append(row[1])\n",
    "    X_test_images = np.array(X_test_images)\n",
    "    y_test_images = np.array(y_test_images)\n",
    "\n",
    "# Show loaded test images from disk\n",
    "nsamples = len(X_test_images)\n",
    "show_samples(range(0, nsamples), X_test_images, y_test_images)\n"
   ]
  },
  {
   "cell_type": "markdown",
   "metadata": {
    "deletable": true,
    "editable": true
   },
   "source": [
    "Few comments about these german traffic signs\n",
    "Comments are per image index\n",
    "0. For human it seems to be obvious that it is 80km/h speed limit sign, but when you look closely the upper part of the eight is bit blurred\n",
    "1. Looks clear, shouldn't be problem\n",
    "2. Some reflections on sign, may pose a problem\n",
    "3. Clear sign, shouldn't be problem\n",
    "4. Clear sign, shouldn't be problem"
   ]
  },
  {
   "cell_type": "markdown",
   "metadata": {
    "deletable": true,
    "editable": true
   },
   "source": [
    "### Predict the Sign Type for Each Image"
   ]
  },
  {
   "cell_type": "code",
   "execution_count": null,
   "metadata": {
    "collapsed": false,
    "deletable": true,
    "editable": true
   },
   "outputs": [],
   "source": [
    "### Run the predictions here and use the model to output the prediction for each image.\n",
    "### Make sure to pre-process the images with the same pre-processing pipeline used earlier.\n",
    "### Feel free to use as many code cells as needed.\n",
    "\n",
    "import tensorflow as tf\n",
    "results = None\n",
    "with tf.Session() as sess:\n",
    "    if X_test_images.shape[3] == 3:\n",
    "        X_test_images = preprocess_tensor(X_test_images)\n",
    "    # saver = tf.train.import_meta_graph('./larenet_6.meta')\n",
    "    saver = tf.train.Saver()\n",
    "    saver.restore(sess, \"./larenet_6\")\n",
    "    #init = tf.global_variables_initializer()\n",
    "    #sess.run(init)\n",
    "    print(\"Session restored\\n\")\n",
    "    # result is array of [predicted labels, ground-truth labels]\n",
    "    results = sess.run([tf.argmax(logits, 1), tf.argmax(one_hot_y, 1)], \n",
    "                      feed_dict={x: X_test_images, y: y_test_images, keep_prob:1.0})\n",
    "    print(\"Index, Truth, Prediction, Description (Predicted)\")\n",
    "    for i, pred in enumerate(results[0]):\n",
    "        print(\"{:5d}  {:5d}  {:10d}  {:15s}\".format(i, int(y_test_images[i]), pred, sign_names[pred]))\n",
    "    \n"
   ]
  },
  {
   "cell_type": "markdown",
   "metadata": {
    "deletable": true,
    "editable": true
   },
   "source": [
    "### Analyze Performance"
   ]
  },
  {
   "cell_type": "code",
   "execution_count": null,
   "metadata": {
    "collapsed": false,
    "deletable": true,
    "editable": true
   },
   "outputs": [],
   "source": [
    "# Calculate the accuracy for these 5 new images. \n",
    "# For example, if the model predicted 1 out of 5 signs correctly, it's 20% accurate on these new images.\n",
    "\n",
    "corr = 0  # counter for correct predictions\n",
    "for pred, gt in zip(results[0], results[1]):\n",
    "    corr += pred == gt  # If results are equal it will return 1 and therefore increases our counter\n",
    "print(\"Model predicted {} signs correctly out of {}\".format(corr, len(results[0])))\n",
    "print(\"Prediction accuracy is {}% for 5 test images downloaded from web\".format(100*corr/len(results[0])))\n",
    "\n"
   ]
  },
  {
   "cell_type": "markdown",
   "metadata": {
    "deletable": true,
    "editable": true
   },
   "source": [
    "All other traffic signs were predicted correctly. It's bit difficult to say why this happen. If you look number \"8\" very closely you could see that upper half of the eight could also prepresent number 6 as part of the number 8 could be seen as \"noise\". This results were obtained by training model 100 epochs.\n",
    "\n",
    "When trained 50 epocs the 80km/h sign was mis-classified as 60km/h."
   ]
  },
  {
   "cell_type": "markdown",
   "metadata": {
    "deletable": true,
    "editable": true
   },
   "source": [
    "### Output Top 5 Softmax Probabilities For Each Image Found on the Web"
   ]
  },
  {
   "cell_type": "markdown",
   "metadata": {
    "deletable": true,
    "editable": true
   },
   "source": [
    "For each of the new images, print out the model's softmax probabilities to show the **certainty** of the model's predictions (limit the output to the top 5 probabilities for each image). [`tf.nn.top_k`](https://www.tensorflow.org/versions/r0.12/api_docs/python/nn.html#top_k) could prove helpful here. \n",
    "\n",
    "The example below demonstrates how tf.nn.top_k can be used to find the top k predictions for each image.\n",
    "\n",
    "`tf.nn.top_k` will return the values and indices (class ids) of the top k predictions. So if k=3, for each sign, it'll return the 3 largest probabilities (out of a possible 43) and the correspoding class ids.\n",
    "\n",
    "Take this numpy array as an example. The values in the array represent predictions. The array contains softmax probabilities for five candidate images with six possible classes. `tk.nn.top_k` is used to choose the three classes with the highest probability:\n"
   ]
  },
  {
   "cell_type": "code",
   "execution_count": null,
   "metadata": {
    "collapsed": false,
    "deletable": true,
    "editable": true
   },
   "outputs": [],
   "source": [
    "# Support functions\n",
    "import numpy as np\n",
    "import matplotlib.pyplot as plt\n",
    "\n",
    "def map_classids_to_names(classids, mapping):\n",
    "    \"\"\"\n",
    "    This functions maps list of Class IDs to corresponding class description.\n",
    "\n",
    "    Parameters\n",
    "    ----------\n",
    "    classids : list\n",
    "        List of class ids to be mapped\n",
    "    mapping : dictionary\n",
    "        Dictionary where key is class id and value it's description\n",
    "\n",
    "    Returns\n",
    "    -------\n",
    "    list\n",
    "        List of corresponding class id names\n",
    "    \"\"\"\n",
    "    return list(map(lambda classid: mapping[classid], classids))\n",
    "\n",
    "\n",
    "def create_propability_bar(propabilities, classids, mapping):\n",
    "    \"\"\"\n",
    "    This functions creates a horizontal bar graph of propabilities.\n",
    "\n",
    "    Parameters\n",
    "    ----------\n",
    "    propabilities: list\n",
    "        List of propabilities\n",
    "    classids : list\n",
    "        Corresponding list of propabilities classids\n",
    "    mapping : dictionary\n",
    "        Dictionary where key is class id and value it's description\n",
    "\n",
    "    Returns\n",
    "    -------\n",
    "    graph\n",
    "        Propabilites plotted in descending order\n",
    "    \"\"\"\n",
    "    y_position = list(range(0, len(propabilities)))\n",
    "    y_position.reverse()\n",
    "    graph = plt.barh(bottom=y_position,\n",
    "                     width=propabilities,\n",
    "                     tick_label=map_classids_to_names(classids, mapping))\n",
    "    return graph\n",
    "\n",
    "\n",
    "def show_topk(X, y, topk, mapping, nmax=25):\n",
    "    \"\"\"\n",
    "    This functions shows test images with corresponding ClassIds.\n",
    "\n",
    "    Parameters\n",
    "    ----------\n",
    "    X: numpy array\n",
    "        4D tensor array where dimensions are\n",
    "        (N, img width, img height, channels)\n",
    "    y : numpy array\n",
    "        1D list of corresponding class Ids of X\n",
    "    topk : numpy array\n",
    "        2D list of topk propabilities and class ids of the test set\n",
    "    mapping : dictionary\n",
    "        Dictionary where key is class id and value it's description\n",
    "    nmax : integer\n",
    "        Number of maximum data points(images) to be analyzed\n",
    "    \"\"\"\n",
    "    fig = plt.figure(figsize=(15, 20)) # Plot size in inches\n",
    "    ncols = 2  # Number of columns in plot\n",
    "    nrows = 15 # Number of rows in plot\n",
    "    for i, props in enumerate(zip(topk[0], topk[1])):\n",
    "        # subplot(nrows, ncols, plot_number)\n",
    "        # Calculate plot numbers so that image is shown on top and bar plots under images\n",
    "        img_plot_number = 1 + (int(i / (ncols)) * ncols*2) + i % ncols\n",
    "        bar_plot_number = img_plot_number + ncols\n",
    "        \n",
    "        a = fig.add_subplot(nrows, ncols, img_plot_number)\n",
    "        # Use sign description as title\n",
    "        a.set_title(sign_names[y[i]])\n",
    "        plt.imshow(X[i].squeeze(), cmap=\"gray\")\n",
    "        b = fig.add_subplot(nrows, ncols, bar_plot_number)\n",
    "        create_propability_bar(props[0], props[1], sign_names)\n",
    "        #print(props[0], props[1])\n",
    "        #b.set_title(\"Propabilities\")\n",
    "    fig.tight_layout(h_pad=0.5)\n",
    "    plt.show()\n"
   ]
  },
  {
   "cell_type": "code",
   "execution_count": null,
   "metadata": {
    "collapsed": false,
    "deletable": true,
    "editable": true
   },
   "outputs": [],
   "source": [
    "# Print out the top five softmax probabilities for the predictions on the German traffic sign images found on the web. \n",
    "\n",
    "result = None\n",
    "with tf.Session() as sess:\n",
    "    #saver = tf.train.import_meta_graph('./larenet_6.meta')\n",
    "    saver = tf.train.Saver()\n",
    "    saver.restore(sess, \"./larenet_6\")\n",
    "    #init = tf.global_variables_initializer()\n",
    "    #sess.run(init)\n",
    "    print(\"Session restored\")\n",
    "    result = sess.run([tf.argmax(logits, 1), tf.argmax(one_hot_y, 1), tf.nn.top_k(tf.nn.softmax(logits), k=5)], \n",
    "                      feed_dict={x: X_test_images, y: y_test_images, keep_prob:1.0})\n",
    "    # result array: 0 = predicted class, 1 = top_k values, 2 = ground truth\n",
    "\n",
    "        "
   ]
  },
  {
   "cell_type": "code",
   "execution_count": null,
   "metadata": {
    "collapsed": false,
    "deletable": true,
    "editable": true
   },
   "outputs": [],
   "source": [
    "# Illustrate topk-5 propabilities\n",
    "pred = result[0]\n",
    "y_ = result[1]\n",
    "topk = result[2]\n",
    "\n",
    "print(\"Visualization of topk propabitlies:\\n\")\n",
    "show_topk(X_test_images, y_, topk, sign_names)\n",
    "print(\"\\nAnd for reference topk softmax propabilites in raw print are:\\n\\n\")\n",
    "print(topk)"
   ]
  },
  {
   "cell_type": "markdown",
   "metadata": {
    "deletable": true,
    "editable": true
   },
   "source": [
    "---\n",
    "\n",
    "## Step 4: Visualize the Neural Network's State with Test Images\n",
    "\n",
    " This Section is not required to complete but acts as an additional excersise for understaning the output of a neural network's weights. While neural networks can be a great learning device they are often referred to as a black box. We can understand what the weights of a neural network look like better by plotting their feature maps. After successfully training your neural network you can see what it's feature maps look like by plotting the output of the network's weight layers in response to a test stimuli image. From these plotted feature maps, it's possible to see what characteristics of an image the network finds interesting. For a sign, maybe the inner network feature maps react with high activation to the sign's boundary outline or to the contrast in the sign's painted symbol.\n",
    "\n",
    " Provided for you below is the function code that allows you to get the visualization output of any tensorflow weight layer you want. The inputs to the function should be a stimuli image, one used during training or a new one you provided, and then the tensorflow variable name that represents the layer's state during the training process, for instance if you wanted to see what the [LeNet lab's](https://classroom.udacity.com/nanodegrees/nd013/parts/fbf77062-5703-404e-b60c-95b78b2f3f9e/modules/6df7ae49-c61c-4bb2-a23e-6527e69209ec/lessons/601ae704-1035-4287-8b11-e2c2716217ad/concepts/d4aca031-508f-4e0b-b493-e7b706120f81) feature maps looked like for it's second convolutional layer you could enter conv2 as the tf_activation variable.\n",
    "\n",
    "For an example of what feature map outputs look like, check out NVIDIA's results in their paper [End-to-End Deep Learning for Self-Driving Cars](https://devblogs.nvidia.com/parallelforall/deep-learning-self-driving-cars/) in the section Visualization of internal CNN State. NVIDIA was able to show that their network's inner weights had high activations to road boundary lines by comparing feature maps from an image with a clear path to one without. Try experimenting with a similar test to show that your trained network's weights are looking for interesting features, whether it's looking at differences in feature maps from images with or without a sign, or even what feature maps look like in a trained network vs a completely untrained one on the same sign image.\n",
    "\n",
    "<figure>\n",
    " <img src=\"visualize_cnn.png\" width=\"380\" alt=\"Combined Image\" />\n",
    " <figcaption>\n",
    " <p></p> \n",
    " <p style=\"text-align: center;\"> Your output should look something like this (above)</p> \n",
    " </figcaption>\n",
    "</figure>\n",
    " <p></p> \n"
   ]
  },
  {
   "cell_type": "code",
   "execution_count": null,
   "metadata": {
    "collapsed": true,
    "deletable": true,
    "editable": true
   },
   "outputs": [],
   "source": [
    "### Visualize network's feature maps\n",
    "\n",
    "def outputFeatureMap(image_input, tf_activation, activation_min=-1, activation_max=-1 ,plt_num=1):\n",
    "    \"\"\"\n",
    "    Visualizes network's activation maps\n",
    "    \n",
    "    Parameters\n",
    "    ----------\n",
    "    image_input: numpy array\n",
    "        the test image being fed into the network to produce the feature maps.\n",
    "        Should be 4D tensor which contains single image\n",
    "    tf_activation : tf variable\n",
    "        should be a tf variable name used during your training procedure that \n",
    "        represents the calculated state of a specific weight layer\n",
    "    activation_min : integer\n",
    "        can be used to view the activation contrast in more detail, by default \n",
    "        matplot sets min and max to the actual min and max values of the output\n",
    "    activation_max : integer\n",
    "        can be used to view the activation contrast in more detail, by default \n",
    "        matplot sets min and max to the actual min and max values of the output\n",
    "    plt_num : integer\n",
    "        used to plot out multiple different weight feature map sets on the same \n",
    "        block, just extend the plt number for each new feature map entry\n",
    "    \"\"\"\n",
    "    # Here make sure to preprocess your image_input in a way your network expects\n",
    "    # with size, normalization, ect if needed\n",
    "    #image_input = \n",
    "    # Note: x should be the same name as your network's tensorflow data \n",
    "    #       placeholder variable\n",
    "    # If you get an error tf_activation is not defined it maybe having \n",
    "    # trouble accessing the variable from inside a function\n",
    "    activation = tf_activation.eval(session=sess,feed_dict={x : image_input})\n",
    "    featuremaps = activation.shape[3]\n",
    "    plt.figure(plt_num, figsize=(15,15))\n",
    "    for featuremap in range(featuremaps):\n",
    "        plt.subplot(6,8, featuremap+1) # sets the number of feature maps to show on each row and column\n",
    "        plt.title('FeatureMap ' + str(featuremap)) # displays the feature map number\n",
    "        if activation_min != -1 & activation_max != -1:\n",
    "            plt.imshow(activation[0,:,:, featuremap], interpolation=\"nearest\", \n",
    "                       vmin =activation_min, vmax=activation_max, cmap=\"gray\")\n",
    "        elif activation_max != -1:\n",
    "            plt.imshow(activation[0,:,:, featuremap], interpolation=\"nearest\", \n",
    "                       vmax=activation_max, cmap=\"gray\")\n",
    "        elif activation_min !=-1:\n",
    "            plt.imshow(activation[0,:,:, featuremap], interpolation=\"nearest\", \n",
    "                       vmin=activation_min, cmap=\"gray\")\n",
    "        else:\n",
    "            plt.imshow(activation[0,:,:, featuremap], interpolation=\"nearest\", cmap=\"gray\")"
   ]
  },
  {
   "cell_type": "code",
   "execution_count": null,
   "metadata": {
    "collapsed": false,
    "deletable": true,
    "editable": true
   },
   "outputs": [],
   "source": [
    "with tf.Session() as sess:\n",
    "    #saver = tf.train.import_meta_graph('./larenet_6.meta')\n",
    "    saver = tf.train.Saver()\n",
    "    saver.restore(sess, \"./larenet_6\")\n",
    "    #init = tf.global_variables_initializer()\n",
    "    #sess.run(init)\n",
    "    print(\"Session restored\")\n",
    "    #L1_act = sess.graph.get_tensor_by_name('Relu:2')\n",
    "    L1_conv1 = sess.graph.get_tensor_by_name(\"L1_conv1:0\")\n",
    "    L1_pooling = sess.graph.get_tensor_by_name(\"L1_pooling:0\")\n",
    "    L1_activation = sess.graph.get_tensor_by_name(\"L1_activation:0\")\n",
    "    outputFeatureMap(X_test_images[:1], L1_activation, activation_min=-1, activation_max=-1 ,plt_num=1)\n",
    "    #outputFeatureMap(X_test_images[:1], L1_pooling, activation_min=-1, activation_max=-1 ,plt_num=1)\n",
    "    #result = sess.run([tf.argmax(logits, 1), tf.argmax(one_hot_y, 1), tf.nn.top_k(logits, k=5)], \n",
    "    #                  feed_dict={x: X_test_images, y: y_test_images, keep_prob:1.0})\n",
    "    # result array: 0 = predicted class, 1 = top_k values, 2 = ground truth"
   ]
  },
  {
   "cell_type": "markdown",
   "metadata": {
    "deletable": true,
    "editable": true
   },
   "source": [
    "### Question 9\n",
    "\n",
    "Discuss how you used the visual output of your trained network's feature maps to show that it had learned to look for interesting characteristics in traffic sign images\n"
   ]
  },
  {
   "cell_type": "markdown",
   "metadata": {
    "deletable": true,
    "editable": true
   },
   "source": [
    "**Answer:** I did analysis for Layer 1 convolution and activation and saw that there is indeed very interesting features extractred from the input image. By using this tool it would be good to check that network can successfully extract features from images.\n",
    "\n",
    "For example the layer 1 convolution looks quite stunning.\n",
    "\n",
    "<figure>\n",
    " <img src=\"./illustrations/L1_conv1.png\" width=\"380\" alt=\"L1 Convolution\" />\n",
    " <figcaption>\n",
    " <p></p> \n",
    " <p style=\"text-align: center;\"> L1 convolution</p> \n",
    " </figcaption>\n",
    "</figure>\n",
    " <p></p> \n",
    "After convolution there is Layer 1 activation with RELU which looks like this \n",
    "<figure>\n",
    " <img src=\"./illustrations/L1_activation.png\" width=\"380\" alt=\"L1 Activation with ReLU\" />\n",
    " <figcaption>\n",
    " <p></p> \n",
    " <p style=\"text-align: center;\">L1 Activation with ReLU</p> \n",
    " </figcaption>\n",
    "</figure>\n",
    " <p></p> "
   ]
  },
  {
   "cell_type": "markdown",
   "metadata": {
    "deletable": true,
    "editable": true
   },
   "source": [
    "\n",
    "\n",
    "> **Note**: Once you have completed all of the code implementations and successfully answered each question above, you may finalize your work by exporting the iPython Notebook as an HTML document. You can do this by using the menu above and navigating to  \\n\",\n",
    "    \"**File -> Download as -> HTML (.html)**. Include the finished document along with this notebook as your submission."
   ]
  },
  {
   "cell_type": "markdown",
   "metadata": {
    "deletable": true,
    "editable": true
   },
   "source": [
    "### Project Writeup\n",
    "\n",
    "Once you have completed the code implementation, document your results in a project writeup using this [template](https://github.com/udacity/CarND-Traffic-Sign-Classifier-Project/blob/master/writeup_template.md) as a guide. The writeup can be in a markdown or pdf file. "
   ]
  }
 ],
 "metadata": {
  "anaconda-cloud": {},
  "kernelspec": {
   "display_name": "Python 3",
   "language": "python",
   "name": "python3"
  },
  "language_info": {
   "codemirror_mode": {
    "name": "ipython",
    "version": 3
   },
   "file_extension": ".py",
   "mimetype": "text/x-python",
   "name": "python",
   "nbconvert_exporter": "python",
   "pygments_lexer": "ipython3",
   "version": "3.5.2"
  },
  "widgets": {
   "state": {
    "052dd512be2240a580b1d4867da30fe0": {
     "views": []
    },
    "087061c875054282bb85aa89731029f2": {
     "views": []
    },
    "0c2db94465484ebda910bb09ab35cf5e": {
     "views": [
      {
       "cell_index": 24
      }
     ]
    },
    "12e32e8cbc254935afba4ecd10993ea1": {
     "views": []
    },
    "15cf108c7dcc4ebe9e51ec7c80cc65a9": {
     "views": [
      {
       "cell_index": 24
      }
     ]
    },
    "17cb7feae717465ca940918232fbb080": {
     "views": []
    },
    "1ee846e54b64489caf97c2d5b9992cbf": {
     "views": [
      {
       "cell_index": 22
      }
     ]
    },
    "23e6ef4ba358451ea211ededc5b12b31": {
     "views": []
    },
    "26965e62693d475faed3930f2dfba0e6": {
     "views": []
    },
    "273827e17de54f4aac2cba462879b62d": {
     "views": []
    },
    "2759ea3072bb4c1faa8d2d72dba3fbfb": {
     "views": []
    },
    "27ed16ee270946df8b349085a4a8c25c": {
     "views": []
    },
    "28fe1bfd7cbc4b4fa0e59686b7feb14e": {
     "views": []
    },
    "2cb7ee933adb4200a84239ec037e0a02": {
     "views": []
    },
    "329e025cefd944919f4ab3f1b9b287fb": {
     "views": [
      {
       "cell_index": 22
      }
     ]
    },
    "3baadb77dbe84cb49e24a4db07767424": {
     "views": []
    },
    "40b981b0e5a646e5a9e4a081794f4709": {
     "views": []
    },
    "448900f925684b4a9498037cef83bec0": {
     "views": []
    },
    "495119704ff7491da07f06fb340d6d79": {
     "views": []
    },
    "4cf44f0f6138455090824881e0688e52": {
     "views": [
      {
       "cell_index": 22
      }
     ]
    },
    "4fba8eb6310044ada0c6c2e62f77e86d": {
     "views": [
      {
       "cell_index": 24
      }
     ]
    },
    "50c5a7c414e5442984eae355c9311542": {
     "views": []
    },
    "50ce72c112d04b56ad71b659bc10f3e1": {
     "views": []
    },
    "52d8003cab8448948dd67aa11d89b4b0": {
     "views": []
    },
    "5af1017b8a574e95b2d054d4f284559a": {
     "views": [
      {
       "cell_index": 24
      }
     ]
    },
    "5bd021229da449b5ab25718f40b89251": {
     "views": []
    },
    "5ea08f154b54439fa05721c9f55917f5": {
     "views": []
    },
    "5ee837b021b34f3b8fe60205b104ea99": {
     "views": []
    },
    "6d32da88f16140f6b13ea388f0aeb1b8": {
     "views": []
    },
    "71d6595b523f475aa34a7dadcbbb6897": {
     "views": [
      {
       "cell_index": 24
      }
     ]
    },
    "7dd89b142917429eacf9d22a0da4c8fc": {
     "views": []
    },
    "810930f455444abeb51ce8f445abd2f4": {
     "views": [
      {
       "cell_index": 22
      }
     ]
    },
    "810d6999f16a40fc98046dbf01434e3a": {
     "views": []
    },
    "826d871c7c494789a3e991c54083a257": {
     "views": []
    },
    "84384415efe1411da21e5c43cb02798b": {
     "views": []
    },
    "84a3d7f3e56a41998ab0be12dc4f38cc": {
     "views": []
    },
    "8877820f43c3499598ed52481966a5e9": {
     "views": []
    },
    "8ccf3e9a08ce440b861189a87ce28faf": {
     "views": [
      {
       "cell_index": 22
      }
     ]
    },
    "8e65c0e3779b4700adeb32fcbcf923b1": {
     "views": []
    },
    "8effffbb26e9419a8589c81ec5608755": {
     "views": []
    },
    "9c88811a93714cf69634eae063fe7b6a": {
     "views": []
    },
    "9d036d78d7784b94b1f3ffbe2850de27": {
     "views": []
    },
    "9f6cfb563ffe491ebf5b52f0413ee7c7": {
     "views": [
      {
       "cell_index": 24
      }
     ]
    },
    "a2280edbf9ab4199be20aa22fe174d11": {
     "views": []
    },
    "a4940b1d6e084c1fb6b2fb74c417d213": {
     "views": []
    },
    "a5fb832428dc4d44a9a94d16bb095f4c": {
     "views": []
    },
    "a8604ae60ef24b6e9341a518dd56ee24": {
     "views": []
    },
    "a8bc72abc66d4a4eb3f4a53db3dea7e6": {
     "views": []
    },
    "a8f1e086604d42e3b73e2f24c0dacf14": {
     "views": []
    },
    "ab40024bcb264b6f8780f5846a066646": {
     "views": [
      {
       "cell_index": 22
      }
     ]
    },
    "ba0cddaca2ef4413ab727560d2fd6051": {
     "views": []
    },
    "bba493e4c1194cd7abdcb2dee811cd7f": {
     "views": []
    },
    "bc43bed58d6543f681dd335fffcba557": {
     "views": []
    },
    "bca8fb89cf5d4950866f7d05bc9fc398": {
     "views": []
    },
    "d26638791d234d0692cf951714ed8f27": {
     "views": []
    },
    "d8c053e8d3e74dce8073cf1972451c4a": {
     "views": []
    },
    "df0e32e1a5d24918b6b490cc1a8662d7": {
     "views": []
    },
    "e1b2ee3df601415b8eb45aab25e3d012": {
     "views": []
    },
    "e5f38e49fc6742b489dd0a1abdcafe4e": {
     "views": []
    },
    "ec338dd8bab34b2fa7c8c4ec58db83f4": {
     "views": []
    },
    "ef63cab43a134dba85f5977b6e9fa9e1": {
     "views": []
    },
    "f3c53e456cd74647b8eaf93f240641cc": {
     "views": []
    },
    "f7584e13f2eb4d1ea0df1e6a0dd0dea5": {
     "views": []
    },
    "f7ad16dddd9d4abe996ed405bba8314f": {
     "views": [
      {
       "cell_index": 22
      }
     ]
    },
    "fb1e70c327474137942c2153130d6e1e": {
     "views": []
    },
    "fe7225837fcc4ece861e3bf4d1ab2f9e": {
     "views": []
    }
   },
   "version": "1.1.2"
  }
 },
 "nbformat": 4,
 "nbformat_minor": 1
}
