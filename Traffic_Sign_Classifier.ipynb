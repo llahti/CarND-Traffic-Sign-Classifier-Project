{
 "cells": [
  {
   "cell_type": "markdown",
   "metadata": {
    "deletable": true,
    "editable": true
   },
   "source": [
    "# Self-Driving Car Engineer Nanodegree\n",
    "\n",
    "## Deep Learning\n",
    "\n",
    "## Project: Build a Traffic Sign Recognition Classifier\n",
    "\n",
    "In this notebook, a template is provided for you to implement your functionality in stages, which is required to successfully complete this project. If additional code is required that cannot be included in the notebook, be sure that the Python code is successfully imported and included in your submission if necessary. \n",
    "\n",
    "> **Note**: Once you have completed all of the code implementations, you need to finalize your work by exporting the iPython Notebook as an HTML document. Before exporting the notebook to html, all of the code cells need to have been run so that reviewers can see the final implementation and output. You can then export the notebook by using the menu above and navigating to  \\n\",\n",
    "    \"**File -> Download as -> HTML (.html)**. Include the finished document along with this notebook as your submission. \n",
    "\n",
    "In addition to implementing code, there is a writeup to complete. The writeup should be completed in a separate file, which can be either a markdown file or a pdf document. There is a [write up template](https://github.com/udacity/CarND-Traffic-Sign-Classifier-Project/blob/master/writeup_template.md) that can be used to guide the writing process. Completing the code template and writeup template will cover all of the [rubric points](https://review.udacity.com/#!/rubrics/481/view) for this project.\n",
    "\n",
    "The [rubric](https://review.udacity.com/#!/rubrics/481/view) contains \"Stand Out Suggestions\" for enhancing the project beyond the minimum requirements. The stand out suggestions are optional. If you decide to pursue the \"stand out suggestions\", you can include the code in this Ipython notebook and also discuss the results in the writeup file.\n",
    "\n",
    "\n",
    ">**Note:** Code and Markdown cells can be executed using the **Shift + Enter** keyboard shortcut. In addition, Markdown cells can be edited by typically double-clicking the cell to enter edit mode."
   ]
  },
  {
   "cell_type": "markdown",
   "metadata": {
    "deletable": true,
    "editable": true
   },
   "source": [
    "---\n",
    "## Step 0: Load The Data"
   ]
  },
  {
   "cell_type": "code",
   "execution_count": 1,
   "metadata": {
    "collapsed": false,
    "deletable": true,
    "editable": true
   },
   "outputs": [
    {
     "name": "stdout",
     "output_type": "stream",
     "text": [
      "Data loaded successfully\n"
     ]
    }
   ],
   "source": [
    "# Load pickled data\n",
    "import pickle\n",
    "\n",
    "# TODO: Fill this in based on where you saved the training and testing data\n",
    "data_path = \"./data/\"\n",
    "\n",
    "training_file = data_path + \"train.p\"\n",
    "validation_file= data_path + \"valid.p\"\n",
    "testing_file = data_path + \"test.p\"\n",
    "\n",
    "with open(training_file, mode='rb') as f:\n",
    "    train = pickle.load(f)\n",
    "with open(validation_file, mode='rb') as f:\n",
    "    valid = pickle.load(f)\n",
    "with open(testing_file, mode='rb') as f:\n",
    "    test = pickle.load(f)\n",
    "    \n",
    "X_train, y_train = train['features'], train['labels']\n",
    "X_valid, y_valid = valid['features'], valid['labels']\n",
    "X_test, y_test = test['features'], test['labels']\n",
    "\n",
    "# Use assert to inform us if X and y have different length (Quantity of data points)\n",
    "assert(len(X_train) == len(y_train))\n",
    "assert(len(X_valid) == len(y_valid))\n",
    "assert(len(X_test) == len(y_test))\n",
    "print(\"Data loaded successfully\")"
   ]
  },
  {
   "cell_type": "markdown",
   "metadata": {
    "deletable": true,
    "editable": true
   },
   "source": [
    "---\n",
    "\n",
    "## Step 1: Dataset Summary & Exploration\n",
    "\n",
    "The pickled data is a dictionary with 4 key/value pairs:\n",
    "\n",
    "- `'features'` is a 4D array containing raw pixel data of the traffic sign images, (num examples, width, height, channels).\n",
    "- `'labels'` is a 1D array containing the label/class id of the traffic sign. The file `signnames.csv` contains id -> name mappings for each id.\n",
    "- `'sizes'` is a list containing tuples, (width, height) representing the original width and height the image.\n",
    "- `'coords'` is a list containing tuples, (x1, y1, x2, y2) representing coordinates of a bounding box around the sign in the image. **THESE COORDINATES ASSUME THE ORIGINAL IMAGE. THE PICKLED DATA CONTAINS RESIZED VERSIONS (32 by 32) OF THESE IMAGES**\n",
    "\n",
    "Complete the basic data summary below. Use python, numpy and/or pandas methods to calculate the data summary rather than hard coding the results. For example, the [pandas shape method](http://pandas.pydata.org/pandas-docs/stable/generated/pandas.DataFrame.shape.html) might be useful for calculating some of the summary results. "
   ]
  },
  {
   "cell_type": "markdown",
   "metadata": {
    "deletable": true,
    "editable": true
   },
   "source": [
    "### Provide a Basic Summary of the Data Set Using Python, Numpy and/or Pandas"
   ]
  },
  {
   "cell_type": "code",
   "execution_count": 2,
   "metadata": {
    "collapsed": false,
    "deletable": true,
    "editable": true
   },
   "outputs": [
    {
     "name": "stdout",
     "output_type": "stream",
     "text": [
      "Number of training examples = 34799\n",
      "Number of testing examples = 12630\n",
      "Image data shape = (32, 32, 3)\n",
      "Number of classes = 43\n"
     ]
    }
   ],
   "source": [
    "### Replace each question mark with the appropriate value. \n",
    "### Use python, pandas or numpy methods rather than hard coding the results\n",
    "\n",
    "# TODO: Number of training examples\n",
    "n_train = len(X_train)\n",
    "\n",
    "# TODO: Number of testing examples.\n",
    "n_test = len(X_test)\n",
    "\n",
    "# TODO: What's the shape of an traffic sign image?\n",
    "image_shape = X_train[0].shape\n",
    "\n",
    "# TODO: How many unique classes/labels there are in the dataset.\n",
    "# Use pandas to get unique labels from y_train\n",
    "import pandas as pd\n",
    "df = pd.DataFrame({'label': y_train})\n",
    "n_classes = len(pd.unique(df.label))\n",
    "\n",
    "print(\"Number of training examples =\", n_train)\n",
    "print(\"Number of testing examples =\", n_test)\n",
    "print(\"Image data shape =\", image_shape)\n",
    "print(\"Number of classes =\", n_classes)"
   ]
  },
  {
   "cell_type": "markdown",
   "metadata": {
    "deletable": true,
    "editable": true
   },
   "source": [
    "### Include an exploratory visualization of the dataset"
   ]
  },
  {
   "cell_type": "markdown",
   "metadata": {
    "deletable": true,
    "editable": true
   },
   "source": [
    "Visualize the German Traffic Signs Dataset using the pickled file(s). This is open ended, suggestions include: plotting traffic sign images, plotting the count of each sign, etc.\n",
    "\n",
    "The [Matplotlib](http://matplotlib.org/) [examples](http://matplotlib.org/examples/index.html) and [gallery](http://matplotlib.org/gallery.html) pages are a great resource for doing visualizations in Python.\n",
    "\n",
    "**NOTE:** It's recommended you start with something simple first. If you wish to do more, come back to it after you've completed the rest of the sections."
   ]
  },
  {
   "cell_type": "code",
   "execution_count": 3,
   "metadata": {
    "collapsed": false,
    "deletable": true,
    "editable": true
   },
   "outputs": [
    {
     "name": "stdout",
     "output_type": "stream",
     "text": [
      "Below are few samples of from the training set.\n"
     ]
    },
    {
     "data": {
      "image/png": "[encoded data removed]",
      "text/plain": [
       "<matplotlib.figure.Figure at 0x7fc5e14e5c50>"
      ]
     },
     "metadata": {},
     "output_type": "display_data"
    }
   ],
   "source": [
    "### Data exploration visualization code goes here.\n",
    "### Feel free to use as many code cells as needed.\n",
    "import matplotlib.pyplot as plt\n",
    "import random\n",
    "# Visualizations will be shown in the notebook.\n",
    "%matplotlib inline\n",
    "\n",
    "#index = random.randint(0, len(X_train))\n",
    "index = 55\n",
    "image = X_train[index].squeeze()\n",
    "#plt.figure(figsize=(1,1))\n",
    "#plt.imshow(image, cmap=\"gray\")\n",
    "#print(y_train[index])  # Shows class of the traffic sign\n",
    "\n",
    "# Show more samples\n",
    "random.seed(a=1234)\n",
    "number_of_samples = 20\n",
    "# Here we generate list of random indexes\n",
    "sample_indices = [random.randint(0, len(X_train)) for i in range(number_of_samples)]\n",
    "\n",
    "print(\"Below are few samples of from the training set.\")\n",
    "\n",
    "# i = for loop index, idx is sample index as defined in \"sample_indices\"\n",
    "def show_samples(indices, images, labels, cmap='gray'):\n",
    "    \"\"\"This functions shows sample images.\"\"\"\n",
    "    fig = plt.figure(figsize=(10,8))\n",
    "    for i, idx in enumerate(indices):\n",
    "        image = images[idx]\n",
    "        a=fig.add_subplot(5,5,i+1)\n",
    "        plt.imshow(image, cmap=cmap)\n",
    "        a.set_title(\"index: \" + str(idx) + \"\\nclass: \" + str(labels[idx]))\n",
    "    fig.tight_layout(w_pad=0.3, h_pad=0.5)\n",
    "\n",
    "show_samples(sample_indices, X_train, y_train, cmap='gray')\n",
    "#plt.subplots_adjust(left=0.1, right=0.2, hspace=2)\n"
   ]
  },
  {
   "cell_type": "markdown",
   "metadata": {
    "deletable": true,
    "editable": true
   },
   "source": [
    "----\n",
    "\n",
    "## Step 2: Design and Test a Model Architecture\n",
    "\n",
    "Design and implement a deep learning model that learns to recognize traffic signs. Train and test your model on the [German Traffic Sign Dataset](http://benchmark.ini.rub.de/?section=gtsrb&subsection=dataset).\n",
    "\n",
    "The LeNet-5 implementation shown in the [classroom](https://classroom.udacity.com/nanodegrees/nd013/parts/fbf77062-5703-404e-b60c-95b78b2f3f9e/modules/6df7ae49-c61c-4bb2-a23e-6527e69209ec/lessons/601ae704-1035-4287-8b11-e2c2716217ad/concepts/d4aca031-508f-4e0b-b493-e7b706120f81) at the end of the CNN lesson is a solid starting point. You'll have to change the number of classes and possibly the preprocessing, but aside from that it's plug and play! \n",
    "\n",
    "With the LeNet-5 solution from the lecture, you should expect a validation set accuracy of about 0.89. To meet specifications, the validation set accuracy will need to be at least 0.93. It is possible to get an even higher accuracy, but 0.93 is the minimum for a successful project submission. \n",
    "\n",
    "There are various aspects to consider when thinking about this problem:\n",
    "\n",
    "- Neural network architecture (is the network over or underfitting?)\n",
    "- Play around preprocessing techniques (normalization, rgb to grayscale, etc)\n",
    "- Number of examples per label (some have more than others).\n",
    "- Generate fake data.\n",
    "\n",
    "Here is an example of a [published baseline model on this problem](http://yann.lecun.com/exdb/publis/pdf/sermanet-ijcnn-11.pdf). It's not required to be familiar with the approach used in the paper but, it's good practice to try to read papers like these."
   ]
  },
  {
   "cell_type": "markdown",
   "metadata": {
    "deletable": true,
    "editable": true
   },
   "source": [
    "### Pre-process the Data Set (normalization, grayscale, etc.)"
   ]
  },
  {
   "cell_type": "markdown",
   "metadata": {
    "deletable": true,
    "editable": true
   },
   "source": [
    "Use the code cell (or multiple code cells, if necessary) to implement the first step of your project."
   ]
  },
  {
   "cell_type": "code",
   "execution_count": 4,
   "metadata": {
    "collapsed": false,
    "deletable": true,
    "editable": true
   },
   "outputs": [],
   "source": [
    "### Preprocess the data here. Preprocessing steps could include normalization, converting to grayscale, etc.\n",
    "### Feel free to use as many code cells as needed.\n",
    "\n",
    "# Process should be as following\n",
    "# 1. Grayscale\n",
    "# 2. TODO: Normalize \n",
    "import numpy as np\n",
    "from scipy import ndimage\n",
    "# For progress bar\n",
    "from ipywidgets import FloatProgress, Text\n",
    "from IPython.display import display\n",
    "\n",
    "\n",
    "# Define whether we load augmented images from pickle file, This saves several minutes\n",
    "GENERATE_AUGMENTED_DATA = False\n",
    "LOAD_AUGMENTED_FROM_FILE = True\n",
    "\n",
    "\n",
    "    \n",
    "    \n",
    "def augment_data(x, y, progressbar):\n",
    "    \"\"\"\n",
    "    This function augments training data by doing following transformations\n",
    "    - Rotate image -20, -10, +10, +20 degrees\n",
    "    - Shift image 5 pixels in 8 directions\n",
    "    \n",
    "    WARNING! it'll take long time to run this function with data sets more than few hundred samples. \n",
    "    \"\"\"\n",
    "    x_rotated, y_rotated = [], []\n",
    "    xy_shifts = [( 0, 0,0), ( 0,-5,0), ( 0,5,0), \n",
    "                 (-5,-5,0), (-5, 0,0), (-5,5,0), \n",
    "                 ( 5,-5,0), ( 5, 0,0), ( 5,5,0)]\n",
    "    rotations = [-20, -10, 0, 10, 20]\n",
    "    nsamples = len(x)\n",
    "    progressbar.max = nsamples * len(rotations)\n",
    "    progressbar.description = \"Rotating\"\n",
    "    for image, label in zip(x[:nsamples], y[:nsamples]):\n",
    "        for degree in rotations:\n",
    "            #image_array.append(rotate_image(image, degree))\n",
    "            x_rotated.append(ndimage.rotate(image, degree, reshape=False))\n",
    "            y_rotated.append(label)\n",
    "            progressbar.value += 1\n",
    "    x_shifted, y_shifted = [], [] \n",
    "    progressbar.max = len(x_rotated) * len(xy_shifts)\n",
    "    progressbar.value = 0\n",
    "    progressbar.description = \"Shifting\"\n",
    "    for image, label in zip(x_rotated, y_rotated):\n",
    "        for shift in xy_shifts:\n",
    "            shifted = ndimage.shift(image, shift, mode='nearest')\n",
    "            x_shifted.append(shifted)\n",
    "            y_shifted.append(label)\n",
    "            progressbar.value += 1\n",
    "    progressbar.description = \"Done\"\n",
    "    return np.array(x_shifted), np.array(y_shifted)\n",
    "    \n",
    "if GENERATE_AUGMENTED_DATA:\n",
    "    progressbar = FloatProgress(min=0)\n",
    "    display(progressbar)\n",
    "    X_train_augmented, y_train_augmented = augment_data(X_train, y_train, progressbar)\n",
    "    show_samples(range(2000,2025), X_train_augmented, y_train_augmented, cmap='gray')\n",
    "\n",
    "    progressbar.description = \"Saving\"\n",
    "    with open(\"./data/augmented_training_data.pickle\", \"wb\") as f:\n",
    "        data_dict = {}\n",
    "        data_dict[\"X_train\"] = X_train_augmented\n",
    "        data_dict[\"y_train\"] = y_train_augmented\n",
    "        pickle.dump(data_dict, f, pickle.HIGHEST_PROTOCOL)\n",
    "    \n",
    "    progressbar.description = \"Done\"\n",
    "    # Temporarily free memory, later augmented data is loaded from file\n",
    "    X_train_augmented, y_train_augmented = None, None"
   ]
  },
  {
   "cell_type": "markdown",
   "metadata": {
    "deletable": true,
    "editable": true
   },
   "source": [
    "### Model Architecture"
   ]
  },
  {
   "cell_type": "code",
   "execution_count": 5,
   "metadata": {
    "collapsed": false,
    "deletable": true,
    "editable": true
   },
   "outputs": [],
   "source": [
    "### Define your architecture here.\n",
    "### Feel free to use as many code cells as needed.\n",
    "\n",
    "import tensorflow as tf\n",
    "from tensorflow.contrib.layers import flatten\n",
    "\n",
    "\n",
    "#Define dropout rate\n",
    "keep_prob = tf.placeholder(tf.float32)\n",
    "# Learning rate decay\n",
    "global_step = tf.Variable(0, trainable=False)\n",
    "starter_learning_rate = 0.001\n",
    "learning_rate = tf.train.exponential_decay(starter_learning_rate, global_step,\n",
    "                                           100000, 0.90, staircase=True)\n",
    "\n",
    "def LareNet_5(x):\n",
    "    \"\"\"\n",
    "    \n",
    "    \"\"\"\n",
    "    # Arguments used for tf.truncated_normal, randomly defines variables for the weights and biases for each layer\n",
    "    mu = 0\n",
    "    sigma = 0.1\n",
    "    \n",
    "    # Layer 1: Convolutional. Input = 32x32x3. Output = 30x30x9. (3 channels x 3 = 9)\n",
    "    #          Each color channel is individually filtered 3 times\n",
    "    conv1_W = tf.Variable(tf.truncated_normal(shape=(3,3,3,3), mean = mu, stddev=sigma))\n",
    "    conv1_b = tf.Variable(tf.zeros(9))\n",
    "    conv1   = tf.nn.depthwise_conv2d(x, conv1_W, strides=[1,1,1,1], padding='VALID') + conv1_b\n",
    "    # Activation.\n",
    "    conv1 = tf.nn.relu(conv1)\n",
    "    # Pooling. Input = 30x30x9. Output = 15x15x9.\n",
    "    conv1 = tf.nn.max_pool(conv1, ksize=[1,2,2,1], strides=[1,2,2,1], padding='VALID')\n",
    "    \n",
    "    \n",
    "    # Layer 2: Convolutional. Input = 15x15x9, Output = 13x13x32.\n",
    "    conv2_W = tf.Variable(tf.truncated_normal(shape=(3,3,9,32), mean = mu, stddev = sigma))\n",
    "    conv2_b = tf.Variable(tf.zeros(32))\n",
    "    conv2   = tf.nn.conv2d(conv1, conv2_W, strides=[1,1,1,1], padding='VALID') + conv2_b\n",
    "    # Activation.\n",
    "    conv2 = tf.nn.relu(conv2)\n",
    "    \n",
    "    \n",
    "    # Layer 3: Convolutional. Input = 13x13x32, Output = 11x11x64.\n",
    "    conv3_W = tf.Variable(tf.truncated_normal(shape=(3,3,32,64), mean = mu, stddev = sigma))\n",
    "    conv3_b = tf.Variable(tf.zeros(64))\n",
    "    conv3   = tf.nn.conv2d(conv2, conv3_W, strides=[1,1,1,1], padding='VALID') + conv3_b\n",
    "    # Activation.\n",
    "    conv3 = tf.nn.relu(conv3)\n",
    "    \n",
    "    \n",
    "    # Layer 4: Convolutional. Input = 11x11x64, Output = 9x9x96.\n",
    "    conv4_W = tf.Variable(tf.truncated_normal(shape=(3,3,64,96), mean = mu, stddev = sigma))\n",
    "    conv4_b = tf.Variable(tf.zeros(96))\n",
    "    conv4   = tf.nn.conv2d(conv3, conv4_W, strides=[1,1,1,1], padding='VALID') + conv4_b\n",
    "    # Activation.\n",
    "    conv4 = tf.nn.relu(conv4)\n",
    "    # Pooling. Input = 20x20x64. Output = 5x5x64.\n",
    "    #conv3 = tf.nn.max_pool(conv3, ksize=[1,2,2,1], strides=[1,2,2,1], padding='SAME')    \n",
    "    \n",
    "    \n",
    "    # Layer 5: Convolutional. Input = 9x9x64, Output = 7x7x128.\n",
    "    conv5_W = tf.Variable(tf.truncated_normal(shape=(3,3,96,128), mean = mu, stddev = sigma))\n",
    "    conv5_b = tf.Variable(tf.zeros(128))\n",
    "    conv5   = tf.nn.conv2d(conv4, conv5_W, strides=[1,1,1,1], padding='VALID') + conv5_b\n",
    "    # Activation.\n",
    "    conv5 = tf.nn.relu(conv5)\n",
    "    \n",
    "    \n",
    "    \n",
    "    # Flatten. Input = 7x7x128. Output = 6272.\n",
    "    fc0 = flatten(conv5)\n",
    "    # Dropout for fully connected layer\n",
    "    fc0_drop = tf.nn.dropout(fc0, keep_prob)\n",
    "    \n",
    "    # Layer 6: Fully Connected. Input = 4704. Output = 1024.\n",
    "    fc1_W = tf.Variable(tf.truncated_normal(shape=(6272,1024), mean = mu, stddev = sigma))\n",
    "    fc1_b = tf.Variable(tf.zeros(1024))\n",
    "    fc1   = tf.matmul(fc0_drop, fc1_W) + fc1_b\n",
    "    # Activation.\n",
    "    fc1 = tf.nn.relu(fc1)\n",
    "    #fc1 = tf.nn.sigmoid(fc1)\n",
    "    # Dropout for fully connected layer\n",
    "    fc1_drop = tf.nn.dropout(fc1, keep_prob)\n",
    "\n",
    "    \n",
    "    # Layer 7: Fully Connected. Input = 1024. Output = 256.\n",
    "    fc2_W = tf.Variable(tf.truncated_normal(shape=(1024,400), mean = mu, stddev = sigma))\n",
    "    fc2_b = tf.Variable(tf.zeros(400))\n",
    "    fc2   = tf.matmul(fc1_drop, fc2_W) + fc2_b\n",
    "    # Activation.\n",
    "    fc2 = tf.nn.relu(fc2)\n",
    "    # Dropout for fully connected layer\n",
    "    fc2_drop = tf.nn.dropout(fc2, keep_prob)\n",
    "\n",
    "    \n",
    "    # Layer 8: Fully Connected. Input = 256. Output = 43.\n",
    "    # n_classes is Number of traffic sign classes\n",
    "    fc3_W = tf.Variable(tf.truncated_normal(shape=(400, n_classes), mean = mu, stddev = sigma))\n",
    "    fc3_b = tf.Variable(tf.zeros(n_classes))\n",
    "    logits = tf.matmul(fc2_drop, fc3_W) + fc3_b\n",
    "    return logits\n",
    "\n",
    "# Features and labels\n",
    "x = tf.placeholder(tf.float32, (None, 32, 32, 3))\n",
    "#x = tf.placeholder(tf.float32, (None, 32, 32))\n",
    "y = tf.placeholder(tf.int32, (None))\n",
    "# n_classes is Number of traffic sign classes\n",
    "one_hot_y = tf.one_hot(y, n_classes)"
   ]
  },
  {
   "cell_type": "markdown",
   "metadata": {
    "deletable": true,
    "editable": true
   },
   "source": [
    "### Train, Validate and Test the Model"
   ]
  },
  {
   "cell_type": "markdown",
   "metadata": {
    "deletable": true,
    "editable": true
   },
   "source": [
    "A validation set can be used to assess how well the model is performing. A low accuracy on the training and validation\n",
    "sets imply underfitting. A high accuracy on the training set but low accuracy on the validation set implies overfitting."
   ]
  },
  {
   "cell_type": "code",
   "execution_count": 6,
   "metadata": {
    "collapsed": false,
    "deletable": true,
    "editable": true
   },
   "outputs": [
    {
     "name": "stdout",
     "output_type": "stream",
     "text": [
      "Loading augmented data from file....\n",
      "Done\n",
      "Total number of samples is 1565955\n",
      "Training took 1758.6772553920746 seconds for 1 epochs.\n",
      "   1758.6772553920746 seconds / epoch\n",
      "\n",
      "Final training accuracy is 0.253\n",
      "Final validation accuracy is 0.254\n",
      "Model saved\n"
     ]
    },
    {
     "data": {
      "image/png": "[encoded data removed]",
      "text/plain": [
       "<matplotlib.figure.Figure at 0x7fc588f9df28>"
      ]
     },
     "metadata": {},
     "output_type": "display_data"
    }
   ],
   "source": [
    "### Train your model here.\n",
    "### Calculate and report the accuracy on the training and validation set.\n",
    "### Once a final model architecture is selected, \n",
    "### the accuracy on the test set should be calculated and reported as well.\n",
    "### Feel free to use as many code cells as needed.\n",
    "\n",
    "from sklearn.utils import shuffle\n",
    "import pickle\n",
    "# For progress bar\n",
    "from ipywidgets import FloatProgress, Text\n",
    "from IPython.display import display\n",
    "\n",
    "#Initialize progress bar\n",
    "progressbar = FloatProgress(min=0, description='Batch')\n",
    "progressbar_total = FloatProgress(min=0, description='Waiting....')\n",
    "infotext = Text(placeholder=\"Waiting for first round to be validated\")\n",
    "display(progressbar)\n",
    "display(progressbar_total)\n",
    "display(infotext)\n",
    "\n",
    "\n",
    "if LOAD_AUGMENTED_FROM_FILE:\n",
    "    print(\"Loading augmented data from file....\")\n",
    "    with open(\"./data/augmented_training_data.pickle\", 'rb') as f:\n",
    "        # The protocol version used is detected automatically, so we do not\n",
    "        # have to specify it.\n",
    "        data = pickle.load(f)\n",
    "        X_train = data[\"X_train\"]\n",
    "        y_train = data[\"y_train\"]\n",
    "        print(\"Done\")\n",
    "        print(\"Total number of samples is {}\".format(len(X_train)))\n",
    "\n",
    "\n",
    "    \n",
    "\n",
    "# Training pipeline\n",
    "#rate = 0.002\n",
    "logits = LareNet_5(x)\n",
    "cross_entropy = tf.nn.softmax_cross_entropy_with_logits(logits=logits, labels=one_hot_y)\n",
    "loss_operation = tf.reduce_mean(cross_entropy)\n",
    "optimizer = tf.train.AdamOptimizer(learning_rate = learning_rate )\n",
    "training_operation = optimizer.minimize(loss_operation, global_step=global_step)\n",
    "\n",
    "\n",
    "# Model evaluation\n",
    "correct_prediction = tf.equal(tf.argmax(logits, 1), tf.argmax(one_hot_y, 1))\n",
    "accuracy_operation = tf.reduce_mean(tf.cast(correct_prediction, tf.float32))\n",
    "saver = tf.train.Saver()\n",
    "\n",
    "def evaluate(X_data, y_data):\n",
    "    num_examples = len(X_data)\n",
    "    total_accuracy = 0\n",
    "    sess = tf.get_default_session()\n",
    "    for offset in range(0, num_examples, BATCH_SIZE):\n",
    "        batch_x, batch_y = X_data[offset:offset+BATCH_SIZE], y_data[offset:offset+BATCH_SIZE]\n",
    "        accuracy = sess.run(accuracy_operation, feed_dict={x: batch_x, y: batch_y, keep_prob:1.0})\n",
    "        total_accuracy += (accuracy * len(batch_x))\n",
    "    return total_accuracy / num_examples\n",
    "\n",
    "\n",
    "\n",
    "# Training the model\n",
    "EPOCHS = 1\n",
    "BATCH_SIZE = 512\n",
    "validationaccuracylog = [] # store validation accuracies into this list from each EPOCH\n",
    "trainingaccuracylog = [] # store training accuracies into this list from each EPOCH\n",
    "\n",
    "\n",
    "import time\n",
    "\n",
    "with tf.Session() as sess:\n",
    "    start = time.time()\n",
    "    progressbar_total.max = EPOCHS\n",
    "    sess.run(tf.global_variables_initializer())\n",
    "    num_examples = len(X_train)\n",
    "    progressbar.max = num_examples/BATCH_SIZE\n",
    "    for i in range(EPOCHS):\n",
    "        progressbar_total.description = \"Training:\"\n",
    "        X_train, y_train = shuffle(X_train, y_train)\n",
    "        nbatch = 0\n",
    "        progressbar.value = 0\n",
    "        for offset in range(0, num_examples, BATCH_SIZE):\n",
    "            end = offset + BATCH_SIZE\n",
    "            progressbar.value = nbatch\n",
    "            nbatch += 1\n",
    "            batch_x, batch_y = X_train[offset:end], y_train[offset:end]\n",
    "            sess.run(training_operation, feed_dict={x: batch_x, y: batch_y, keep_prob:0.60})\n",
    "        progressbar_total.description = \"Validating:\"\n",
    "        validation_accuracy = evaluate(X_valid, y_valid)\n",
    "        training_accuracy = evaluate(X_train, y_train)\n",
    "        progressbar_total.value += 1\n",
    "        infotext.value = \"EPOCH {} ...\".format(i+1) + \"Validation Accuracy = {:.3f}\".format(validation_accuracy) \n",
    "        validationaccuracylog.append(validation_accuracy)\n",
    "        trainingaccuracylog.append(training_accuracy)\n",
    "    stop = time.time()\n",
    "    print(\"Training took {} seconds for {} epochs.\".format(stop-start, EPOCHS))\n",
    "    print(\"   {} seconds / epoch\".format((stop-start)/EPOCHS))\n",
    "    print()\n",
    "    print(\"Final training accuracy is {:.3f}\".format(training_accuracy))\n",
    "    print(\"Final validation accuracy is {:.3f}\".format(validation_accuracy))\n",
    "    \n",
    "    plt.plot(validationaccuracylog, 'g-', label='Validation Accuracy')\n",
    "    plt.plot(trainingaccuracylog, 'r-', label=\"Training Accuracy\")\n",
    "    plt.legend()\n",
    "    saver.save(sess, './larenet_5')\n",
    "    print(\"Model saved\")"
   ]
  },
  {
   "cell_type": "markdown",
   "metadata": {
    "deletable": true,
    "editable": true
   },
   "source": [
    "---\n",
    "\n",
    "## Step 3: Test a Model on New Images\n",
    "\n",
    "To give yourself more insight into how your model is working, download at least five pictures of German traffic signs from the web and use your model to predict the traffic sign type.\n",
    "\n",
    "You may find `signnames.csv` useful as it contains mappings from the class id (integer) to the actual sign name."
   ]
  },
  {
   "cell_type": "markdown",
   "metadata": {
    "deletable": true,
    "editable": true
   },
   "source": [
    "### Load and Output the Images"
   ]
  },
  {
   "cell_type": "code",
   "execution_count": null,
   "metadata": {
    "collapsed": true,
    "deletable": true,
    "editable": true
   },
   "outputs": [],
   "source": [
    "### Load the images and plot them here.\n",
    "### Feel free to use as many code cells as needed."
   ]
  },
  {
   "cell_type": "markdown",
   "metadata": {
    "deletable": true,
    "editable": true
   },
   "source": [
    "### Predict the Sign Type for Each Image"
   ]
  },
  {
   "cell_type": "code",
   "execution_count": null,
   "metadata": {
    "collapsed": true,
    "deletable": true,
    "editable": true
   },
   "outputs": [],
   "source": [
    "### Run the predictions here and use the model to output the prediction for each image.\n",
    "### Make sure to pre-process the images with the same pre-processing pipeline used earlier.\n",
    "### Feel free to use as many code cells as needed."
   ]
  },
  {
   "cell_type": "markdown",
   "metadata": {
    "deletable": true,
    "editable": true
   },
   "source": [
    "### Analyze Performance"
   ]
  },
  {
   "cell_type": "code",
   "execution_count": null,
   "metadata": {
    "collapsed": true,
    "deletable": true,
    "editable": true
   },
   "outputs": [],
   "source": [
    "### Calculate the accuracy for these 5 new images. \n",
    "### For example, if the model predicted 1 out of 5 signs correctly, it's 20% accurate on these new images."
   ]
  },
  {
   "cell_type": "markdown",
   "metadata": {
    "deletable": true,
    "editable": true
   },
   "source": [
    "### Output Top 5 Softmax Probabilities For Each Image Found on the Web"
   ]
  },
  {
   "cell_type": "markdown",
   "metadata": {
    "deletable": true,
    "editable": true
   },
   "source": [
    "For each of the new images, print out the model's softmax probabilities to show the **certainty** of the model's predictions (limit the output to the top 5 probabilities for each image). [`tf.nn.top_k`](https://www.tensorflow.org/versions/r0.12/api_docs/python/nn.html#top_k) could prove helpful here. \n",
    "\n",
    "The example below demonstrates how tf.nn.top_k can be used to find the top k predictions for each image.\n",
    "\n",
    "`tf.nn.top_k` will return the values and indices (class ids) of the top k predictions. So if k=3, for each sign, it'll return the 3 largest probabilities (out of a possible 43) and the correspoding class ids.\n",
    "\n",
    "Take this numpy array as an example. The values in the array represent predictions. The array contains softmax probabilities for five candidate images with six possible classes. `tk.nn.top_k` is used to choose the three classes with the highest probability:\n",
    "\n",
    "```\n",
    "# (5, 6) array\n",
    "a = np.array([[ 0.24879643,  0.07032244,  0.12641572,  0.34763842,  0.07893497,\n",
    "         0.12789202],\n",
    "       [ 0.28086119,  0.27569815,  0.08594638,  0.0178669 ,  0.18063401,\n",
    "         0.15899337],\n",
    "       [ 0.26076848,  0.23664738,  0.08020603,  0.07001922,  0.1134371 ,\n",
    "         0.23892179],\n",
    "       [ 0.11943333,  0.29198961,  0.02605103,  0.26234032,  0.1351348 ,\n",
    "         0.16505091],\n",
    "       [ 0.09561176,  0.34396535,  0.0643941 ,  0.16240774,  0.24206137,\n",
    "         0.09155967]])\n",
    "```\n",
    "\n",
    "Running it through `sess.run(tf.nn.top_k(tf.constant(a), k=3))` produces:\n",
    "\n",
    "```\n",
    "TopKV2(values=array([[ 0.34763842,  0.24879643,  0.12789202],\n",
    "       [ 0.28086119,  0.27569815,  0.18063401],\n",
    "       [ 0.26076848,  0.23892179,  0.23664738],\n",
    "       [ 0.29198961,  0.26234032,  0.16505091],\n",
    "       [ 0.34396535,  0.24206137,  0.16240774]]), indices=array([[3, 0, 5],\n",
    "       [0, 1, 4],\n",
    "       [0, 5, 1],\n",
    "       [1, 3, 5],\n",
    "       [1, 4, 3]], dtype=int32))\n",
    "```\n",
    "\n",
    "Looking just at the first row we get `[ 0.34763842,  0.24879643,  0.12789202]`, you can confirm these are the 3 largest probabilities in `a`. You'll also notice `[3, 0, 5]` are the corresponding indices."
   ]
  },
  {
   "cell_type": "code",
   "execution_count": null,
   "metadata": {
    "collapsed": true,
    "deletable": true,
    "editable": true
   },
   "outputs": [],
   "source": [
    "### Print out the top five softmax probabilities for the predictions on the German traffic sign images found on the web. \n",
    "### Feel free to use as many code cells as needed."
   ]
  },
  {
   "cell_type": "markdown",
   "metadata": {
    "deletable": true,
    "editable": true
   },
   "source": [
    "---\n",
    "\n",
    "## Step 4: Visualize the Neural Network's State with Test Images\n",
    "\n",
    " This Section is not required to complete but acts as an additional excersise for understaning the output of a neural network's weights. While neural networks can be a great learning device they are often referred to as a black box. We can understand what the weights of a neural network look like better by plotting their feature maps. After successfully training your neural network you can see what it's feature maps look like by plotting the output of the network's weight layers in response to a test stimuli image. From these plotted feature maps, it's possible to see what characteristics of an image the network finds interesting. For a sign, maybe the inner network feature maps react with high activation to the sign's boundary outline or to the contrast in the sign's painted symbol.\n",
    "\n",
    " Provided for you below is the function code that allows you to get the visualization output of any tensorflow weight layer you want. The inputs to the function should be a stimuli image, one used during training or a new one you provided, and then the tensorflow variable name that represents the layer's state during the training process, for instance if you wanted to see what the [LeNet lab's](https://classroom.udacity.com/nanodegrees/nd013/parts/fbf77062-5703-404e-b60c-95b78b2f3f9e/modules/6df7ae49-c61c-4bb2-a23e-6527e69209ec/lessons/601ae704-1035-4287-8b11-e2c2716217ad/concepts/d4aca031-508f-4e0b-b493-e7b706120f81) feature maps looked like for it's second convolutional layer you could enter conv2 as the tf_activation variable.\n",
    "\n",
    "For an example of what feature map outputs look like, check out NVIDIA's results in their paper [End-to-End Deep Learning for Self-Driving Cars](https://devblogs.nvidia.com/parallelforall/deep-learning-self-driving-cars/) in the section Visualization of internal CNN State. NVIDIA was able to show that their network's inner weights had high activations to road boundary lines by comparing feature maps from an image with a clear path to one without. Try experimenting with a similar test to show that your trained network's weights are looking for interesting features, whether it's looking at differences in feature maps from images with or without a sign, or even what feature maps look like in a trained network vs a completely untrained one on the same sign image.\n",
    "\n",
    "<figure>\n",
    " <img src=\"visualize_cnn.png\" width=\"380\" alt=\"Combined Image\" />\n",
    " <figcaption>\n",
    " <p></p> \n",
    " <p style=\"text-align: center;\"> Your output should look something like this (above)</p> \n",
    " </figcaption>\n",
    "</figure>\n",
    " <p></p> \n"
   ]
  },
  {
   "cell_type": "code",
   "execution_count": null,
   "metadata": {
    "collapsed": true,
    "deletable": true,
    "editable": true
   },
   "outputs": [],
   "source": [
    "### Visualize your network's feature maps here.\n",
    "### Feel free to use as many code cells as needed.\n",
    "\n",
    "# image_input: the test image being fed into the network to produce the feature maps\n",
    "# tf_activation: should be a tf variable name used during your training procedure that represents the calculated state of a specific weight layer\n",
    "# activation_min/max: can be used to view the activation contrast in more detail, by default matplot sets min and max to the actual min and max values of the output\n",
    "# plt_num: used to plot out multiple different weight feature map sets on the same block, just extend the plt number for each new feature map entry\n",
    "\n",
    "def outputFeatureMap(image_input, tf_activation, activation_min=-1, activation_max=-1 ,plt_num=1):\n",
    "    # Here make sure to preprocess your image_input in a way your network expects\n",
    "    # with size, normalization, ect if needed\n",
    "    # image_input =\n",
    "    # Note: x should be the same name as your network's tensorflow data placeholder variable\n",
    "    # If you get an error tf_activation is not defined it maybe having trouble accessing the variable from inside a function\n",
    "    activation = tf_activation.eval(session=sess,feed_dict={x : image_input})\n",
    "    featuremaps = activation.shape[3]\n",
    "    plt.figure(plt_num, figsize=(15,15))\n",
    "    for featuremap in range(featuremaps):\n",
    "        plt.subplot(6,8, featuremap+1) # sets the number of feature maps to show on each row and column\n",
    "        plt.title('FeatureMap ' + str(featuremap)) # displays the feature map number\n",
    "        if activation_min != -1 & activation_max != -1:\n",
    "            plt.imshow(activation[0,:,:, featuremap], interpolation=\"nearest\", vmin =activation_min, vmax=activation_max, cmap=\"gray\")\n",
    "        elif activation_max != -1:\n",
    "            plt.imshow(activation[0,:,:, featuremap], interpolation=\"nearest\", vmax=activation_max, cmap=\"gray\")\n",
    "        elif activation_min !=-1:\n",
    "            plt.imshow(activation[0,:,:, featuremap], interpolation=\"nearest\", vmin=activation_min, cmap=\"gray\")\n",
    "        else:\n",
    "            plt.imshow(activation[0,:,:, featuremap], interpolation=\"nearest\", cmap=\"gray\")"
   ]
  },
  {
   "cell_type": "markdown",
   "metadata": {
    "deletable": true,
    "editable": true
   },
   "source": [
    "### Question 9\n",
    "\n",
    "Discuss how you used the visual output of your trained network's feature maps to show that it had learned to look for interesting characteristics in traffic sign images\n"
   ]
  },
  {
   "cell_type": "markdown",
   "metadata": {
    "deletable": true,
    "editable": true
   },
   "source": [
    "**Answer:**"
   ]
  },
  {
   "cell_type": "markdown",
   "metadata": {
    "deletable": true,
    "editable": true
   },
   "source": [
    "> **Note**: Once you have completed all of the code implementations and successfully answered each question above, you may finalize your work by exporting the iPython Notebook as an HTML document. You can do this by using the menu above and navigating to  \\n\",\n",
    "    \"**File -> Download as -> HTML (.html)**. Include the finished document along with this notebook as your submission."
   ]
  },
  {
   "cell_type": "markdown",
   "metadata": {
    "deletable": true,
    "editable": true
   },
   "source": [
    "### Project Writeup\n",
    "\n",
    "Once you have completed the code implementation, document your results in a project writeup using this [template](https://github.com/udacity/CarND-Traffic-Sign-Classifier-Project/blob/master/writeup_template.md) as a guide. The writeup can be in a markdown or pdf file. "
   ]
  }
 ],
 "metadata": {
  "anaconda-cloud": {},
  "kernelspec": {
   "display_name": "Python 3",
   "language": "python",
   "name": "python3"
  },
  "language_info": {
   "codemirror_mode": {
    "name": "ipython",
    "version": 3
   },
   "file_extension": ".py",
   "mimetype": "text/x-python",
   "name": "python",
   "nbconvert_exporter": "python",
   "pygments_lexer": "ipython3",
   "version": "3.5.2"
  },
  "widgets": {
   "state": {
    "02e46d9feca74e8e93ffe29427ca5972": {
     "views": []
    },
    "04aaa1c0527a4145b49089b0abf419c1": {
     "views": []
    },
    "04d239861cfd42ba9d3aab2f9cf5c672": {
     "views": []
    },
    "06c18feafa9b43d4ad55dfc864855560": {
     "views": []
    },
    "187ac16b26ef4b4eaf6567ba931274db": {
     "views": []
    },
    "1be1ddb765db42e8bddd63ad7e5c6f45": {
     "views": []
    },
    "238c87bd817d4e2b86d727f1a05636d0": {
     "views": []
    },
    "249e468057f248a09e079239c068fef7": {
     "views": [
      {
       "cell_index": 17
      }
     ]
    },
    "2641748ff1334f639b69f43e0fb740c1": {
     "views": []
    },
    "2cf70197c7c84af3ad4af9e243b0804b": {
     "views": [
      {
       "cell_index": 17
      }
     ]
    },
    "2fd7132863d1442a9e289e5d3cf9f09e": {
     "views": []
    },
    "3194eea5c31f431c8530364fddafbf36": {
     "views": []
    },
    "3b82b381d6804dcf9c82873922ca9deb": {
     "views": []
    },
    "402c46f2f2434e92b3ea27840f50f72c": {
     "views": []
    },
    "42530319340245908efcac76d2076881": {
     "views": []
    },
    "4461e4bc6ff245889a94ff26562ee07a": {
     "views": []
    },
    "446f309825634406b0f23c79a3450b8b": {
     "views": []
    },
    "4a2fc4f724624e6aaa9682d55cb5d59f": {
     "views": []
    },
    "4b0769ce28ec4cd68c5a24b8e1e2873e": {
     "views": []
    },
    "4b33aab4c1c4430480ae414db702636f": {
     "views": []
    },
    "4d071a35733147e8bfdae40e372905b0": {
     "views": []
    },
    "4e7575333f9b4c32a56bb1e5ed81cf09": {
     "views": []
    },
    "5010f051a2ee46f19cd48e4b15df6d49": {
     "views": []
    },
    "51f204e7714a49c1abc2738bc28638a0": {
     "views": []
    },
    "6069a6551eda411483e5d3cef7a29b6f": {
     "views": [
      {
       "cell_index": 17
      }
     ]
    },
    "60fa1ed7502b42b6984bd96d7d45a355": {
     "views": []
    },
    "7d547a9944694b31bd3a182252a34349": {
     "views": [
      {
       "cell_index": 17
      }
     ]
    },
    "83e698cdfad5478bb8b2a2b695cd3638": {
     "views": [
      {
       "cell_index": 17
      }
     ]
    },
    "89c7c48097b642de8c60cdc1d626b604": {
     "views": []
    },
    "8ccadca52907495eb949b77122c8d7eb": {
     "views": []
    },
    "8f1d02f2e8dc423d82f9d4cd912b3ece": {
     "views": []
    },
    "92d2573cdf5d49459b9ea600eba162bf": {
     "views": []
    },
    "95deef973561401e8dd109b085af3c85": {
     "views": []
    },
    "98d4f1416a5f456787a8c57939c4f61d": {
     "views": [
      {
       "cell_index": 17
      }
     ]
    },
    "9bd1571fac3a407eae44104d39433b98": {
     "views": [
      {
       "cell_index": 17
      }
     ]
    },
    "9d4c89a30aea41d9b7e8628a87f5c3df": {
     "views": [
      {
       "cell_index": 17
      }
     ]
    },
    "a2b32b3dc5e54cd5b451cacac1216357": {
     "views": []
    },
    "ae60a13683f94e5db6932ecbb2983739": {
     "views": [
      {
       "cell_index": 17
      }
     ]
    },
    "aee2332a43d346c89e32eb193077e8a2": {
     "views": []
    },
    "b0aef76e26194c78a8c43b7127f0ddf6": {
     "views": []
    },
    "b19e093f2699406baf7d53f628c87971": {
     "views": []
    },
    "b4d695e6c21141d2ba5fef54fe2f80c4": {
     "views": []
    },
    "b92429d74afb49c092d538471edbc387": {
     "views": []
    },
    "be1c8a5bc18e47e3b1674613495be59d": {
     "views": []
    },
    "bf43b99151354df182d7ea9dbd6f5259": {
     "views": []
    },
    "c04159ecb66e41a29d3d0fa6cd924703": {
     "views": []
    },
    "c53cd1231c1b480b941ceff55a32a346": {
     "views": []
    },
    "c5abd008fbb349d9b98701e2fbd5243f": {
     "views": [
      {
       "cell_index": 17
      }
     ]
    },
    "c5c6c1e3044445468a288a6523f86a6d": {
     "views": []
    },
    "c6417f3e65104b0eac2a400564d4fa85": {
     "views": []
    },
    "c90b8b12a37441cfbb5a95682ccb8b8a": {
     "views": [
      {
       "cell_index": 17
      }
     ]
    },
    "ca219d3a0f164f1c89b8a9947719eeaf": {
     "views": []
    },
    "cea2f836e5ae471eb67dd365f8952de5": {
     "views": []
    },
    "ceb21c3831e243329f9b77d3eb9d6fa0": {
     "views": []
    },
    "d63661d68fb04e9695d7c9dbe48d7ea8": {
     "views": []
    },
    "da60e529f48148f3818f17297cd65a72": {
     "views": []
    },
    "dab29ad3703b43d2a3f3dde007ee0a22": {
     "views": []
    },
    "ddd5590476ac43fcb8821fc4ae7eed56": {
     "views": []
    },
    "df073766c41a41adb91ac0fbac8a18dc": {
     "views": [
      {
       "cell_index": 17
      }
     ]
    },
    "e1221d7864a041a089648f0d7f0f33fa": {
     "views": []
    },
    "e1397dd010804581bde83e38c202f2dd": {
     "views": []
    },
    "e2f21d4926d8413b8323373fe268cbc1": {
     "views": []
    },
    "e341a3800dfb46dd86151b97a97b3d8b": {
     "views": [
      {
       "cell_index": 17
      }
     ]
    },
    "e4e840ba9b934ec2a98df99756b8784a": {
     "views": []
    },
    "ec9b7e546df5466ab347f2d2a170b7cf": {
     "views": []
    },
    "f04297337fda45cf806058428fefa44f": {
     "views": []
    },
    "f1053a9003b84e509a19c0a1cbd5b57e": {
     "views": []
    },
    "f24b9069cedd40059ba96d529c4d34b3": {
     "views": []
    },
    "f2ff3c3c36094ee6bef8b5d8c73ebc50": {
     "views": []
    },
    "fae475fe5ef24d0faaaf89e00760bee9": {
     "views": []
    }
   },
   "version": "1.1.2"
  }
 },
 "nbformat": 4,
 "nbformat_minor": 1
}
